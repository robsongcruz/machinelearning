{
 "cells": [
  {
   "cell_type": "markdown",
   "metadata": {},
   "source": [
    "# <font color='blue'>Data Science Academy - Python Fundamentos - Capítulo 7</font>\n",
    "\n",
    "## Download: http://github.com/dsacademybr"
   ]
  },
  {
   "cell_type": "code",
   "execution_count": 1,
   "metadata": {},
   "outputs": [
    {
     "name": "stdout",
     "output_type": "stream",
     "text": [
      "Versão da Linguagem Python Usada Neste Jupyter Notebook: 3.7.6\n"
     ]
    }
   ],
   "source": [
    "# Versão da Linguagem Python\n",
    "from platform import python_version\n",
    "print('Versão da Linguagem Python Usada Neste Jupyter Notebook:', python_version())"
   ]
  },
  {
   "cell_type": "markdown",
   "metadata": {},
   "source": [
    "## Missão: Implementar um algoritmo para mover um robô do canto superior esquerdo para o canto inferior direito de uma grade."
   ]
  },
  {
   "cell_type": "markdown",
   "metadata": {},
   "source": [
    "## Nível de Dificuldade: Médio"
   ]
  },
  {
   "cell_type": "markdown",
   "metadata": {},
   "source": [
    "## Premissas\n",
    "\n",
    "* Existem restrições de como o robô se move?\n",
    "     * O robô só pode se mover para a direita e para baixo\n",
    "* Algumas células são inválidas (fora dos limites)?\n",
    "     * Sim\n",
    "* Podemos supor que as células inicial e final são células válidas?\n",
    "     * Sim\n",
    "* Isso é uma grade retangular? ou seja, a grade não é irregular?\n",
    "     * Sim\n",
    "* Haverá sempre uma maneira válida para o robô chegar ao canto inferior direito?\n",
    "     * Não, retorno None\n",
    "* Podemos assumir que as entradas são válidas?\n",
    "     * Não\n",
    "* Podemos supor que isso se encaixa na memória?\n",
    "     * Sim"
   ]
  },
  {
   "cell_type": "markdown",
   "metadata": {},
   "source": [
    "## Teste Cases\n",
    "\n",
    "<pre>\n",
    "o = célula válida\n",
    "x = célula inválida\n",
    "\n",
    "   0  1  2  3\n",
    "0  o  o  o  o\n",
    "1  o  x  o  o\n",
    "2  o  o  x  o\n",
    "3  x  o  o  o\n",
    "4  o  o  x  o\n",
    "5  o  o  o  x\n",
    "6  o  x  o  x\n",
    "7  o  x  o  o\n",
    "</pre>\n",
    "\n",
    "* Caso geral\n",
    "\n",
    "```\n",
    "Saída esperada = [(0, 0), (1, 0), (2, 0),\n",
    "                  (2, 1), (3, 1), (4, 1),\n",
    "                  (5, 1), (5, 2), (6, 2), \n",
    "                  (7, 2), (7, 3)]\n",
    "```\n",
    "\n",
    "* Nenhum caminho válido, por exemplo, linha 7, col 2 é inválido\n",
    "* Nenhuma entrada\n",
    "* Matriz vazia"
   ]
  },
  {
   "cell_type": "markdown",
   "metadata": {},
   "source": [
    "## Solução"
   ]
  },
  {
   "cell_type": "code",
   "execution_count": 273,
   "metadata": {},
   "outputs": [],
   "source": [
    "import random\n",
    "\n",
    "class Grid(object):\n",
    "\n",
    "    def find_path(self, matrix):\n",
    "        \n",
    "        path = None\n",
    "        \n",
    "        if (self.isValid(matrix)):\n",
    "            \n",
    "            self.map = matrix\n",
    "            \n",
    "            self.ymax = len(matrix) - 1\n",
    "            self.xmax = len(matrix[0]) - 1\n",
    "            \n",
    "            self.origin = (0, 0)\n",
    "            self.target = (self.ymax, self.xmax)\n",
    "            \n",
    "            path = self.pathFinding(0, [(self.target, 0)])\n",
    "\n",
    "            \n",
    "        return path\n",
    "    \n",
    "    \n",
    "    # Find a unique path from origin to target on nodes\n",
    "    # Assumption: there is at least one path\n",
    "    def clearPath(self, index, temp_path, nodes):\n",
    "\n",
    "        current_level = [node for node in nodes if node[1] == index]\n",
    "        remain_nodes = [node for node in nodes if node[1] != index]\n",
    "        \n",
    "        if (temp_path == None):\n",
    "            \n",
    "            return None\n",
    "        \n",
    "        elif (len(temp_path) == 0):\n",
    "            \n",
    "            temp_path.append(current_level[0][0])\n",
    "            \n",
    "            temp_path = self.clearPath(index + 1, temp_path, remain_nodes)\n",
    "            \n",
    "            return temp_path\n",
    "        \n",
    "        else:\n",
    "            \n",
    "            for n in current_level:\n",
    "                \n",
    "                if (self.isAdjacent(temp_path[-1], n[0])):\n",
    "                    \n",
    "                    if (n[0] == (0, 0)):\n",
    "                        \n",
    "                        temp_path.append(n[0])\n",
    "                        \n",
    "                        return temp_path\n",
    "                    \n",
    "                    else:\n",
    "                        \n",
    "                        new_temp = temp_path.copy()\n",
    "                        \n",
    "                        new_temp.append(n[0])\n",
    "\n",
    "                        new_temp = self.clearPath(index + 1, new_temp, remain_nodes)\n",
    "                        \n",
    "                        if (new_temp != None):\n",
    "                        \n",
    "                            return new_temp\n",
    "                        \n",
    "                        \n",
    "                elif (n[0] == (0, 0)):\n",
    "                    return None\n",
    " \n",
    "    \n",
    "    def isAdjacent(self, n0, n1):\n",
    "        return (abs(n0[0] - n1[0] <= 1)) and (abs(n0[1]-n1[1] <= 1)) \n",
    "            \n",
    "    # Mappping of adjacences from origin to target\n",
    "    # clearPath find a unique path from mapping\n",
    "    def pathFinding(self, index, path):\n",
    "        \n",
    "            current = path[index]\n",
    "\n",
    "            if (current[0] == self.origin):\n",
    "                \n",
    "                path = self.clearPath(0, [], path)\n",
    "                \n",
    "                return path[::-1]\n",
    "\n",
    "            else:\n",
    "\n",
    "                candidates = self.getCandidates(current)\n",
    "                \n",
    "                valid_candidates = []\n",
    "\n",
    "                for c in candidates:\n",
    "                    if (self.map[ c[0][0] ][ c[0][1] ] == 1):\n",
    "                        \n",
    "                        found = False\n",
    "                        for n in path:\n",
    "                            if ((n[0] == c[0]) and (n[1] <= c[1])):\n",
    "                                found = True\n",
    "                                break\n",
    "\n",
    "                        if not found:\n",
    "                            valid_candidates.append(c)\n",
    "                \n",
    "                if (len(valid_candidates) > 0):\n",
    "                    random.shuffle(valid_candidates)\n",
    "                    path.extend(valid_candidates)\n",
    "                \n",
    "                if (index < len(path) - 1):\n",
    "                    return self.pathFinding(index + 1, path)\n",
    "                else:\n",
    "                    return None\n",
    "\n",
    "        \n",
    "    def getCandidates(self, node):\n",
    "        pos = node[0]\n",
    "        count = node[1]\n",
    "        \n",
    "        cnd = []    \n",
    "                    \n",
    "        if (pos[0] - 1 >= 0):\n",
    "            cnd.append(((pos[0] - 1, pos[1]), count + 1))\n",
    "            \n",
    "        if (pos[0] + 1 <= self.ymax):\n",
    "            cnd.append(((pos[0] + 1, pos[1]), count + 1))\n",
    "            \n",
    "        if (pos[1] - 1 >= 0):\n",
    "            cnd.append(((pos[0], pos[1] - 1), count + 1))\n",
    "            \n",
    "        if (pos[1] + 1 <= self.xmax):\n",
    "            cnd.append(((pos[0], pos[1] + 1), count + 1))\n",
    "            \n",
    "        return cnd\n",
    "    \n",
    "    def isValid(self, matrix):\n",
    "        \n",
    "        is_valid = False\n",
    "        \n",
    "        if (matrix != None):\n",
    "        \n",
    "            lin = len(matrix)\n",
    "            col = len(matrix[0])\n",
    "            \n",
    "            is_valid = (lin > 0) and (col > 0)\n",
    "        \n",
    "        return is_valid\n",
    "            "
   ]
  },
  {
   "cell_type": "markdown",
   "metadata": {},
   "source": [
    "## Teste da Solução"
   ]
  },
  {
   "cell_type": "code",
   "execution_count": 212,
   "metadata": {},
   "outputs": [
    {
     "name": "stdout",
     "output_type": "stream",
     "text": [
      "Overwriting missao3.py\n"
     ]
    }
   ],
   "source": [
    "%%writefile missao3.py\n",
    "from nose.tools import assert_equal\n",
    "\n",
    "\n",
    "class TestGridPath(object):\n",
    "\n",
    "    def test_grid_path(self):\n",
    "        grid = Grid()\n",
    "        assert_equal(grid.find_path(None), None)\n",
    "        assert_equal(grid.find_path([[]]), None)\n",
    "        max_rows = 8\n",
    "        max_cols = 4\n",
    "        matrix = [[1] * max_cols for _ in range(max_rows)]\n",
    "        matrix[1][1] = 0\n",
    "        matrix[2][2] = 0\n",
    "        matrix[3][0] = 0\n",
    "        matrix[4][2] = 0\n",
    "        matrix[5][3] = 0\n",
    "        matrix[6][1] = 0\n",
    "        matrix[6][3] = 0\n",
    "        matrix[7][1] = 0\n",
    "        result = grid.find_path(matrix)\n",
    "        expected = [(0, 0), (1, 0), (2, 0),\n",
    "                    (2, 1), (3, 1), (4, 1),\n",
    "                    (5, 1), (5, 2), (6, 2), \n",
    "                    (7, 2), (7, 3)]\n",
    "        #print(matrix)\n",
    "        assert_equal(result, expected)\n",
    "        matrix[7][2] = 0\n",
    "        result = grid.find_path(matrix)\n",
    "        assert_equal(result, None)\n",
    "        print('Sua solução foi executada com sucesso! Parabéns!')\n",
    "\n",
    "\n",
    "def main():\n",
    "    test = TestGridPath()\n",
    "    test.test_grid_path()\n",
    "\n",
    "\n",
    "if __name__ == '__main__':\n",
    "    main()"
   ]
  },
  {
   "cell_type": "code",
   "execution_count": 274,
   "metadata": {},
   "outputs": [
    {
     "name": "stdout",
     "output_type": "stream",
     "text": [
      "Sua solução foi executada com sucesso! Parabéns!\n"
     ]
    }
   ],
   "source": [
    "%run -i missao3.py"
   ]
  },
  {
   "cell_type": "code",
   "execution_count": 156,
   "metadata": {},
   "outputs": [
    {
     "data": {
      "text/plain": [
       "1"
      ]
     },
     "execution_count": 156,
     "metadata": {},
     "output_type": "execute_result"
    }
   ],
   "source": [
    "abs(-1)"
   ]
  },
  {
   "cell_type": "markdown",
   "metadata": {},
   "source": [
    "## Fim"
   ]
  },
  {
   "cell_type": "markdown",
   "metadata": {},
   "source": [
    "### Obrigado - Data Science Academy - <a href=\"http://facebook.com/dsacademybr\">facebook.com/dsacademybr</a>"
   ]
  }
 ],
 "metadata": {
  "kernelspec": {
   "display_name": "Python 3",
   "language": "python",
   "name": "python3"
  },
  "language_info": {
   "codemirror_mode": {
    "name": "ipython",
    "version": 3
   },
   "file_extension": ".py",
   "mimetype": "text/x-python",
   "name": "python",
   "nbconvert_exporter": "python",
   "pygments_lexer": "ipython3",
   "version": "3.7.4"
  }
 },
 "nbformat": 4,
 "nbformat_minor": 1
}
