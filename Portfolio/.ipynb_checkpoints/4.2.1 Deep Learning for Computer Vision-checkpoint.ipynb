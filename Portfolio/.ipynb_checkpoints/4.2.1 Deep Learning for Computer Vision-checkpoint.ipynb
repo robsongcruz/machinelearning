{
 "cells": [
  {
   "cell_type": "markdown",
   "metadata": {},
   "source": [
    "<img src='stats/img/topbar.png' />"
   ]
  },
  {
   "cell_type": "markdown",
   "metadata": {},
   "source": [
    "## Deep Learning for Computer Vision"
   ]
  },
  {
   "cell_type": "markdown",
   "metadata": {},
   "source": [
    "__CONTEÚDO:__<br>\n",
    "* [1. Convnets](#1.)\n",
    "* [1.1 Aplicação 1: The Dogs vs. Cats dataset - Convnets + Data Augmentation](#1.1)\n",
    "* [1.2 Aplicação 2: The Dogs vs. Cats dataset - Convnets + Transfer Learning](#1.2)"
   ]
  },
  {
   "cell_type": "markdown",
   "metadata": {},
   "source": [
    "<a id=\"1.\"></a><br>\n",
    "### 1. Convnets"
   ]
  },
  {
   "cell_type": "markdown",
   "metadata": {},
   "source": [
    "                     (Baseado no livro Deep Learning with Python, de François Chollet - 2018)\n",
    "- A diferença fundamental entre camadas *densely connected* e *convolution* é que a primeira aprende padrões globais no espaço de características enquanto a segunda aprende padrões locais das diversas regiões que compõe o espaço.\n",
    "- Os padrões percebidos são invariantes às diferenças de posição translacionais.\n",
    "- A rede aprende os padrões de forma hierarquizada entre as camadas."
   ]
  },
  {
   "cell_type": "markdown",
   "metadata": {},
   "source": [
    "<img src='stats/img/cat_eg.png' width=400 />"
   ]
  },
  {
   "cell_type": "markdown",
   "metadata": {},
   "source": [
    "<a id=\"1.1\"></a><br>\n",
    "### 1.1 Aplicação 1: The Dogs vs. Cats dataset - Convnets + Data Augmentation <br>\n",
    "\n",
    "__ETAPAS:__<br><br>\n",
    "[1. Definir o problema e montar o dataset](#1.1.1) <br>\n",
    "[2. Escolher uma métrica de sucesso](#1.1.2) <br>\n",
    "[3. Definir um protocolo de avaliação](#1.1.3) <br>\n",
    "[4. Adequar os dados para a rede](#1.1.4) <br>\n",
    "[5. Desenvolver um modelo base](#1.1.5) <br>\n",
    "[6. Desenvolver um modelo com overfitting](#1.1.6) <br>\n",
    "[7. Regularizar e sintonizar hiperparâmetros do modelo](#1.1.7) <br>"
   ]
  },
  {
   "cell_type": "markdown",
   "metadata": {},
   "source": [
    "<a id=\"1.1.1\"></a><br>\n",
    "**1. Definir o problema e montar o dataset**"
   ]
  },
  {
   "cell_type": "markdown",
   "metadata": {},
   "source": [
    "- Nessa aplicação, o objetivo é classificar as imagens de entrada se contém um cachorro ou um gato.\n",
    "- O dataset completo para treino possui 12500 imagens por classe.\n",
    "- O dataset completo para teste possui 6250 imagens por classe.\n",
    "- Para manter a ideia de usar um conjunto pequeno, serão selecionadas de forma aleatória 2000 imagens por classe do _dataset_ completo."
   ]
  },
  {
   "cell_type": "code",
   "execution_count": 3,
   "metadata": {},
   "outputs": [
    {
     "name": "stderr",
     "output_type": "stream",
     "text": [
      "Using TensorFlow backend.\n"
     ]
    }
   ],
   "source": [
    "from keras import models\n",
    "from keras import layers\n",
    "from keras import optimizers\n",
    "from keras.preprocessing.image import ImageDataGenerator\n",
    "# from keras.models import load_model\n",
    "\n",
    "import numpy as np\n",
    "import pandas as pd\n",
    "import matplotlib.pyplot as plt\n",
    "import random\n",
    "%matplotlib inline"
   ]
  },
  {
   "cell_type": "code",
   "execution_count": 2,
   "metadata": {},
   "outputs": [],
   "source": [
    "# Número de instâncias por classe\n",
    "full_set_size = 1500\n",
    "train_size = 1000\n",
    "validation_size = 500"
   ]
  },
  {
   "cell_type": "code",
   "execution_count": 3,
   "metadata": {},
   "outputs": [],
   "source": [
    "np.random.seed(101)\n",
    "\n",
    "full_index = list(range(0, 12500))\n",
    "random.shuffle(full_index)\n",
    "full_index = full_index[:1500]"
   ]
  },
  {
   "cell_type": "code",
   "execution_count": 4,
   "metadata": {},
   "outputs": [],
   "source": [
    "train_index = full_index[:1000]\n",
    "validation_index = full_index[1000:]"
   ]
  },
  {
   "cell_type": "code",
   "execution_count": 5,
   "metadata": {},
   "outputs": [],
   "source": [
    "test_size = 500\n",
    "test_index = random.sample(range(0, 6250), test_size)"
   ]
  },
  {
   "cell_type": "code",
   "execution_count": 6,
   "metadata": {},
   "outputs": [
    {
     "data": {
      "text/plain": [
       "'data\\\\dogs-vs-cats_dataset\\\\train-set\\\\'"
      ]
     },
     "execution_count": 6,
     "metadata": {},
     "output_type": "execute_result"
    }
   ],
   "source": [
    "train_dir = 'data\\\\dogs-vs-cats_dataset\\\\train-set\\\\'\n",
    "train_dir"
   ]
  },
  {
   "cell_type": "code",
   "execution_count": 7,
   "metadata": {},
   "outputs": [
    {
     "data": {
      "text/plain": [
       "'data\\\\dogs-vs-cats_dataset\\\\test-set\\\\'"
      ]
     },
     "execution_count": 7,
     "metadata": {},
     "output_type": "execute_result"
    }
   ],
   "source": [
    "test_dir = 'data\\\\dogs-vs-cats_dataset\\\\test-set\\\\'\n",
    "test_dir"
   ]
  },
  {
   "cell_type": "code",
   "execution_count": 8,
   "metadata": {},
   "outputs": [
    {
     "data": {
      "text/html": [
       "<div>\n",
       "<style scoped>\n",
       "    .dataframe tbody tr th:only-of-type {\n",
       "        vertical-align: middle;\n",
       "    }\n",
       "\n",
       "    .dataframe tbody tr th {\n",
       "        vertical-align: top;\n",
       "    }\n",
       "\n",
       "    .dataframe thead th {\n",
       "        text-align: right;\n",
       "    }\n",
       "</style>\n",
       "<table border=\"1\" class=\"dataframe\">\n",
       "  <thead>\n",
       "    <tr style=\"text-align: right;\">\n",
       "      <th></th>\n",
       "      <th>rel_img_path</th>\n",
       "      <th>animal</th>\n",
       "    </tr>\n",
       "  </thead>\n",
       "  <tbody>\n",
       "    <tr>\n",
       "      <th>0</th>\n",
       "      <td>cat.12199.jpg</td>\n",
       "      <td>cat</td>\n",
       "    </tr>\n",
       "    <tr>\n",
       "      <th>1</th>\n",
       "      <td>cat.6761.jpg</td>\n",
       "      <td>cat</td>\n",
       "    </tr>\n",
       "    <tr>\n",
       "      <th>2</th>\n",
       "      <td>cat.9139.jpg</td>\n",
       "      <td>cat</td>\n",
       "    </tr>\n",
       "    <tr>\n",
       "      <th>3</th>\n",
       "      <td>cat.11349.jpg</td>\n",
       "      <td>cat</td>\n",
       "    </tr>\n",
       "    <tr>\n",
       "      <th>4</th>\n",
       "      <td>cat.3956.jpg</td>\n",
       "      <td>cat</td>\n",
       "    </tr>\n",
       "    <tr>\n",
       "      <th>...</th>\n",
       "      <td>...</td>\n",
       "      <td>...</td>\n",
       "    </tr>\n",
       "    <tr>\n",
       "      <th>1995</th>\n",
       "      <td>dog.3425.jpg</td>\n",
       "      <td>dog</td>\n",
       "    </tr>\n",
       "    <tr>\n",
       "      <th>1996</th>\n",
       "      <td>dog.1952.jpg</td>\n",
       "      <td>dog</td>\n",
       "    </tr>\n",
       "    <tr>\n",
       "      <th>1997</th>\n",
       "      <td>dog.11183.jpg</td>\n",
       "      <td>dog</td>\n",
       "    </tr>\n",
       "    <tr>\n",
       "      <th>1998</th>\n",
       "      <td>dog.2784.jpg</td>\n",
       "      <td>dog</td>\n",
       "    </tr>\n",
       "    <tr>\n",
       "      <th>1999</th>\n",
       "      <td>dog.8704.jpg</td>\n",
       "      <td>dog</td>\n",
       "    </tr>\n",
       "  </tbody>\n",
       "</table>\n",
       "<p>2000 rows × 2 columns</p>\n",
       "</div>"
      ],
      "text/plain": [
       "       rel_img_path animal\n",
       "0     cat.12199.jpg    cat\n",
       "1      cat.6761.jpg    cat\n",
       "2      cat.9139.jpg    cat\n",
       "3     cat.11349.jpg    cat\n",
       "4      cat.3956.jpg    cat\n",
       "...             ...    ...\n",
       "1995   dog.3425.jpg    dog\n",
       "1996   dog.1952.jpg    dog\n",
       "1997  dog.11183.jpg    dog\n",
       "1998   dog.2784.jpg    dog\n",
       "1999   dog.8704.jpg    dog\n",
       "\n",
       "[2000 rows x 2 columns]"
      ]
     },
     "execution_count": 8,
     "metadata": {},
     "output_type": "execute_result"
    }
   ],
   "source": [
    "fnames = [['cat.{}.jpg'.format(i), 'cat'] for i in train_index]\n",
    "fnames.extend([['dog.{}.jpg'.format(i), 'dog'] for i in train_index])\n",
    "\n",
    "df_train = pd.DataFrame(fnames, columns=['rel_img_path', 'animal'])\n",
    "df_train"
   ]
  },
  {
   "cell_type": "code",
   "execution_count": 9,
   "metadata": {},
   "outputs": [
    {
     "data": {
      "text/html": [
       "<div>\n",
       "<style scoped>\n",
       "    .dataframe tbody tr th:only-of-type {\n",
       "        vertical-align: middle;\n",
       "    }\n",
       "\n",
       "    .dataframe tbody tr th {\n",
       "        vertical-align: top;\n",
       "    }\n",
       "\n",
       "    .dataframe thead th {\n",
       "        text-align: right;\n",
       "    }\n",
       "</style>\n",
       "<table border=\"1\" class=\"dataframe\">\n",
       "  <thead>\n",
       "    <tr style=\"text-align: right;\">\n",
       "      <th></th>\n",
       "      <th>rel_img_path</th>\n",
       "      <th>animal</th>\n",
       "    </tr>\n",
       "  </thead>\n",
       "  <tbody>\n",
       "    <tr>\n",
       "      <th>0</th>\n",
       "      <td>cat.11015.jpg</td>\n",
       "      <td>cat</td>\n",
       "    </tr>\n",
       "    <tr>\n",
       "      <th>1</th>\n",
       "      <td>cat.5385.jpg</td>\n",
       "      <td>cat</td>\n",
       "    </tr>\n",
       "    <tr>\n",
       "      <th>2</th>\n",
       "      <td>cat.6091.jpg</td>\n",
       "      <td>cat</td>\n",
       "    </tr>\n",
       "    <tr>\n",
       "      <th>3</th>\n",
       "      <td>cat.12040.jpg</td>\n",
       "      <td>cat</td>\n",
       "    </tr>\n",
       "    <tr>\n",
       "      <th>4</th>\n",
       "      <td>cat.7848.jpg</td>\n",
       "      <td>cat</td>\n",
       "    </tr>\n",
       "    <tr>\n",
       "      <th>...</th>\n",
       "      <td>...</td>\n",
       "      <td>...</td>\n",
       "    </tr>\n",
       "    <tr>\n",
       "      <th>995</th>\n",
       "      <td>dog.10308.jpg</td>\n",
       "      <td>dog</td>\n",
       "    </tr>\n",
       "    <tr>\n",
       "      <th>996</th>\n",
       "      <td>dog.9720.jpg</td>\n",
       "      <td>dog</td>\n",
       "    </tr>\n",
       "    <tr>\n",
       "      <th>997</th>\n",
       "      <td>dog.1766.jpg</td>\n",
       "      <td>dog</td>\n",
       "    </tr>\n",
       "    <tr>\n",
       "      <th>998</th>\n",
       "      <td>dog.1501.jpg</td>\n",
       "      <td>dog</td>\n",
       "    </tr>\n",
       "    <tr>\n",
       "      <th>999</th>\n",
       "      <td>dog.12371.jpg</td>\n",
       "      <td>dog</td>\n",
       "    </tr>\n",
       "  </tbody>\n",
       "</table>\n",
       "<p>1000 rows × 2 columns</p>\n",
       "</div>"
      ],
      "text/plain": [
       "      rel_img_path animal\n",
       "0    cat.11015.jpg    cat\n",
       "1     cat.5385.jpg    cat\n",
       "2     cat.6091.jpg    cat\n",
       "3    cat.12040.jpg    cat\n",
       "4     cat.7848.jpg    cat\n",
       "..             ...    ...\n",
       "995  dog.10308.jpg    dog\n",
       "996   dog.9720.jpg    dog\n",
       "997   dog.1766.jpg    dog\n",
       "998   dog.1501.jpg    dog\n",
       "999  dog.12371.jpg    dog\n",
       "\n",
       "[1000 rows x 2 columns]"
      ]
     },
     "execution_count": 9,
     "metadata": {},
     "output_type": "execute_result"
    }
   ],
   "source": [
    "fnames = [['cat.{}.jpg'.format(i), 'cat'] for i in validation_index]\n",
    "fnames.extend([['dog.{}.jpg'.format(i), 'dog'] for i in validation_index])\n",
    "\n",
    "df_valid = pd.DataFrame(fnames, columns=['rel_img_path', 'animal'])\n",
    "df_valid"
   ]
  },
  {
   "cell_type": "code",
   "execution_count": 10,
   "metadata": {},
   "outputs": [
    {
     "data": {
      "text/html": [
       "<div>\n",
       "<style scoped>\n",
       "    .dataframe tbody tr th:only-of-type {\n",
       "        vertical-align: middle;\n",
       "    }\n",
       "\n",
       "    .dataframe tbody tr th {\n",
       "        vertical-align: top;\n",
       "    }\n",
       "\n",
       "    .dataframe thead th {\n",
       "        text-align: right;\n",
       "    }\n",
       "</style>\n",
       "<table border=\"1\" class=\"dataframe\">\n",
       "  <thead>\n",
       "    <tr style=\"text-align: right;\">\n",
       "      <th></th>\n",
       "      <th>rel_img_path</th>\n",
       "    </tr>\n",
       "  </thead>\n",
       "  <tbody>\n",
       "    <tr>\n",
       "      <th>0</th>\n",
       "      <td>3595.jpg</td>\n",
       "    </tr>\n",
       "    <tr>\n",
       "      <th>1</th>\n",
       "      <td>1955.jpg</td>\n",
       "    </tr>\n",
       "    <tr>\n",
       "      <th>2</th>\n",
       "      <td>4551.jpg</td>\n",
       "    </tr>\n",
       "    <tr>\n",
       "      <th>3</th>\n",
       "      <td>2530.jpg</td>\n",
       "    </tr>\n",
       "    <tr>\n",
       "      <th>4</th>\n",
       "      <td>214.jpg</td>\n",
       "    </tr>\n",
       "    <tr>\n",
       "      <th>...</th>\n",
       "      <td>...</td>\n",
       "    </tr>\n",
       "    <tr>\n",
       "      <th>495</th>\n",
       "      <td>3241.jpg</td>\n",
       "    </tr>\n",
       "    <tr>\n",
       "      <th>496</th>\n",
       "      <td>4594.jpg</td>\n",
       "    </tr>\n",
       "    <tr>\n",
       "      <th>497</th>\n",
       "      <td>5364.jpg</td>\n",
       "    </tr>\n",
       "    <tr>\n",
       "      <th>498</th>\n",
       "      <td>942.jpg</td>\n",
       "    </tr>\n",
       "    <tr>\n",
       "      <th>499</th>\n",
       "      <td>4056.jpg</td>\n",
       "    </tr>\n",
       "  </tbody>\n",
       "</table>\n",
       "<p>500 rows × 1 columns</p>\n",
       "</div>"
      ],
      "text/plain": [
       "    rel_img_path\n",
       "0       3595.jpg\n",
       "1       1955.jpg\n",
       "2       4551.jpg\n",
       "3       2530.jpg\n",
       "4        214.jpg\n",
       "..           ...\n",
       "495     3241.jpg\n",
       "496     4594.jpg\n",
       "497     5364.jpg\n",
       "498      942.jpg\n",
       "499     4056.jpg\n",
       "\n",
       "[500 rows x 1 columns]"
      ]
     },
     "execution_count": 10,
     "metadata": {},
     "output_type": "execute_result"
    }
   ],
   "source": [
    "fnames = ['{}.jpg'.format(i) for i in test_index]\n",
    "df_test = pd.DataFrame(fnames, columns=['rel_img_path'])\n",
    "df_test"
   ]
  },
  {
   "cell_type": "markdown",
   "metadata": {},
   "source": [
    "<a id=\"1.1.2\"></a><br>\n",
    "**2. Escolher uma métrica de sucesso**"
   ]
  },
  {
   "cell_type": "markdown",
   "metadata": {},
   "source": [
    "- Como essa aplicação é de classificação binária, a métrica será a acurácia em classificar imagens como contendo cachorro ou gato. Pelo histórico de aplicações desse dataset, é possível alcançar cerca de **95%** de acurácia, então esse valor será usado como referência."
   ]
  },
  {
   "cell_type": "markdown",
   "metadata": {},
   "source": [
    "<a id=\"1.1.3\"></a><br>\n",
    "**3. Definir um protocolo de avaliação**"
   ]
  },
  {
   "cell_type": "markdown",
   "metadata": {},
   "source": [
    "- O conjunto de imagens separadas para a aplicação será dividido em conjuntos de treino, teste e validação. Serão usadas: 2000 imagens de treinamento (1000 por classe), 1000 imagens para validação (500 por classe) e 1000 imagens para teste."
   ]
  },
  {
   "cell_type": "markdown",
   "metadata": {},
   "source": [
    "<a id=\"1.1.4\"></a><br>\n",
    "**4. Adequar os dados para a rede**"
   ]
  },
  {
   "cell_type": "code",
   "execution_count": 11,
   "metadata": {},
   "outputs": [],
   "source": [
    "# Os dados devem ser formatados para tensores 'floating-point', pois originalmente são imagens\n",
    "# A classe ImageDataGenerator permite preparar generators a partir de arquivos, formando lotes de tensores preprocessados\n",
    "train_datagen = ImageDataGenerator(rescale=1./255)\n",
    "validation_datagen = ImageDataGenerator(rescale=1./255)\n",
    "test_datagen = ImageDataGenerator(rescale=1./255)"
   ]
  },
  {
   "cell_type": "code",
   "execution_count": 12,
   "metadata": {},
   "outputs": [
    {
     "name": "stdout",
     "output_type": "stream",
     "text": [
      "Found 2000 validated image filenames belonging to 2 classes.\n"
     ]
    }
   ],
   "source": [
    "#train_generator = train_datagen.flow_from_directory(train_dir, target_size=(150, 150), batch_size=20, class_mode='binary')\n",
    "train_generator = train_datagen.flow_from_dataframe(df_train, train_dir, x_col='rel_img_path', y_col='animal',  \n",
    "                                                    target_size=(150, 150), batch_size=20, \n",
    "                                                    class_mode='binary')"
   ]
  },
  {
   "cell_type": "code",
   "execution_count": 13,
   "metadata": {},
   "outputs": [
    {
     "name": "stdout",
     "output_type": "stream",
     "text": [
      "Found 1000 validated image filenames belonging to 2 classes.\n"
     ]
    }
   ],
   "source": [
    "valid_generator = validation_datagen.flow_from_dataframe(df_valid, train_dir, x_col='rel_img_path', y_col='animal',  \n",
    "                                                    target_size=(150, 150), batch_size=20, \n",
    "                                                    class_mode='binary')"
   ]
  },
  {
   "cell_type": "markdown",
   "metadata": {},
   "source": [
    "<a id=\"1.1.5\"></a><br>\n",
    "**5. Desenvolver um modelo base**"
   ]
  },
  {
   "cell_type": "code",
   "execution_count": 14,
   "metadata": {},
   "outputs": [],
   "source": [
    "model = models.Sequential()\n",
    "\n",
    "model.add(layers.Conv2D(32, (3, 3), activation='relu', input_shape=(150, 150, 3)))\n",
    "model.add(layers.MaxPooling2D((2, 2)))\n",
    "\n",
    "model.add(layers.Conv2D(64, (3, 3), activation='relu'))\n",
    "model.add(layers.MaxPooling2D((2, 2)))\n",
    "\n",
    "model.add(layers.Conv2D(128, (3, 3), activation='relu'))\n",
    "model.add(layers.MaxPooling2D((2, 2)))\n",
    "\n",
    "model.add(layers.Conv2D(128, (3, 3), activation='relu'))\n",
    "model.add(layers.MaxPooling2D((2, 2)))\n",
    "\n",
    "model.add(layers.Flatten())\n",
    "model.add(layers.Dense(512, activation='relu'))\n",
    "model.add(layers.Dense(1, activation='sigmoid'))"
   ]
  },
  {
   "cell_type": "code",
   "execution_count": 15,
   "metadata": {},
   "outputs": [],
   "source": [
    "# Configuração do modelo para treinamento\n",
    "model.compile(loss='binary_crossentropy', optimizer=optimizers.RMSprop(lr=1e-4), metrics=['acc'])"
   ]
  },
  {
   "cell_type": "code",
   "execution_count": 16,
   "metadata": {},
   "outputs": [
    {
     "name": "stdout",
     "output_type": "stream",
     "text": [
      "Epoch 1/30\n",
      "100/100 [==============================] - 32s 325ms/step - loss: 0.6921 - acc: 0.5180 - val_loss: 0.6801 - val_acc: 0.5540\n",
      "Epoch 2/30\n",
      "100/100 [==============================] - 29s 289ms/step - loss: 0.6668 - acc: 0.5995 - val_loss: 0.6547 - val_acc: 0.6180\n",
      "Epoch 3/30\n",
      "100/100 [==============================] - 29s 290ms/step - loss: 0.6425 - acc: 0.6315 - val_loss: 0.6574 - val_acc: 0.5980\n",
      "Epoch 4/30\n",
      "100/100 [==============================] - 29s 291ms/step - loss: 0.6099 - acc: 0.6645 - val_loss: 0.6841 - val_acc: 0.5650\n",
      "Epoch 5/30\n",
      "100/100 [==============================] - 29s 293ms/step - loss: 0.5790 - acc: 0.7030 - val_loss: 0.5926 - val_acc: 0.6950\n",
      "Epoch 6/30\n",
      "100/100 [==============================] - 29s 292ms/step - loss: 0.5545 - acc: 0.7055 - val_loss: 0.5901 - val_acc: 0.6850\n",
      "Epoch 7/30\n",
      "100/100 [==============================] - 29s 293ms/step - loss: 0.5317 - acc: 0.7330 - val_loss: 0.5969 - val_acc: 0.6740\n",
      "Epoch 8/30\n",
      "100/100 [==============================] - 31s 310ms/step - loss: 0.5102 - acc: 0.7510 - val_loss: 0.5969 - val_acc: 0.6940\n",
      "Epoch 9/30\n",
      "100/100 [==============================] - 30s 296ms/step - loss: 0.4860 - acc: 0.7590 - val_loss: 0.5722 - val_acc: 0.6940\n",
      "Epoch 10/30\n",
      "100/100 [==============================] - 31s 307ms/step - loss: 0.4601 - acc: 0.7830 - val_loss: 0.5673 - val_acc: 0.7030\n",
      "Epoch 11/30\n",
      "100/100 [==============================] - 30s 296ms/step - loss: 0.4392 - acc: 0.7900 - val_loss: 0.5560 - val_acc: 0.7090\n",
      "Epoch 12/30\n",
      "100/100 [==============================] - 29s 294ms/step - loss: 0.4118 - acc: 0.8060 - val_loss: 0.5936 - val_acc: 0.7020\n",
      "Epoch 13/30\n",
      "100/100 [==============================] - 30s 303ms/step - loss: 0.3920 - acc: 0.8260 - val_loss: 0.5896 - val_acc: 0.7030\n",
      "Epoch 14/30\n",
      "100/100 [==============================] - 30s 295ms/step - loss: 0.3526 - acc: 0.8465 - val_loss: 0.5693 - val_acc: 0.7180\n",
      "Epoch 15/30\n",
      "100/100 [==============================] - 30s 298ms/step - loss: 0.3335 - acc: 0.8600 - val_loss: 0.5609 - val_acc: 0.7230\n",
      "Epoch 16/30\n",
      "100/100 [==============================] - 30s 299ms/step - loss: 0.3074 - acc: 0.8765 - val_loss: 0.6491 - val_acc: 0.7100\n",
      "Epoch 17/30\n",
      "100/100 [==============================] - 29s 295ms/step - loss: 0.2858 - acc: 0.8785 - val_loss: 0.5969 - val_acc: 0.7280\n",
      "Epoch 18/30\n",
      "100/100 [==============================] - 30s 297ms/step - loss: 0.2543 - acc: 0.8990 - val_loss: 0.6550 - val_acc: 0.7230\n",
      "Epoch 19/30\n",
      "100/100 [==============================] - 30s 295ms/step - loss: 0.2312 - acc: 0.9125 - val_loss: 0.6578 - val_acc: 0.7160\n",
      "Epoch 20/30\n",
      "100/100 [==============================] - 30s 296ms/step - loss: 0.1962 - acc: 0.9285 - val_loss: 0.7336 - val_acc: 0.7110\n",
      "Epoch 21/30\n",
      "100/100 [==============================] - 30s 296ms/step - loss: 0.1751 - acc: 0.9330 - val_loss: 0.8436 - val_acc: 0.7030\n",
      "Epoch 22/30\n",
      "100/100 [==============================] - 30s 296ms/step - loss: 0.1624 - acc: 0.9435 - val_loss: 0.7291 - val_acc: 0.7130\n",
      "Epoch 23/30\n",
      "100/100 [==============================] - 30s 296ms/step - loss: 0.1340 - acc: 0.9540 - val_loss: 0.8351 - val_acc: 0.6980\n",
      "Epoch 24/30\n",
      "100/100 [==============================] - 30s 297ms/step - loss: 0.1181 - acc: 0.9665 - val_loss: 0.8040 - val_acc: 0.7140\n",
      "Epoch 25/30\n",
      "100/100 [==============================] - 30s 297ms/step - loss: 0.0975 - acc: 0.9705 - val_loss: 0.8383 - val_acc: 0.7190\n",
      "Epoch 26/30\n",
      "100/100 [==============================] - 30s 298ms/step - loss: 0.0865 - acc: 0.9745 - val_loss: 0.9446 - val_acc: 0.7050\n",
      "Epoch 27/30\n",
      "100/100 [==============================] - 31s 312ms/step - loss: 0.0727 - acc: 0.9840 - val_loss: 0.9760 - val_acc: 0.7150\n",
      "Epoch 28/30\n",
      "100/100 [==============================] - 30s 296ms/step - loss: 0.0633 - acc: 0.9805 - val_loss: 0.9449 - val_acc: 0.7230\n",
      "Epoch 29/30\n",
      "100/100 [==============================] - 30s 296ms/step - loss: 0.0464 - acc: 0.9890 - val_loss: 1.1133 - val_acc: 0.7120\n",
      "Epoch 30/30\n",
      "100/100 [==============================] - 30s 295ms/step - loss: 0.0436 - acc: 0.9895 - val_loss: 1.0860 - val_acc: 0.7070\n"
     ]
    }
   ],
   "source": [
    "# Treinamento com generator que carregam as entradas embutidas\n",
    "history = model.fit(train_generator, steps_per_epoch=100, epochs=30, \n",
    "                    validation_data=valid_generator, validation_steps=50)"
   ]
  },
  {
   "cell_type": "code",
   "execution_count": 17,
   "metadata": {},
   "outputs": [],
   "source": [
    "# É uma boa prática salvar o modelo após criado e treinado\n",
    "# Em outras seções do notebook, se não houver mudanças em partes anteriores, basta carregar o modelo e iniciar daí\n",
    "model.save('saved_models/DeepLearningForComputerVision/cats_and_dogs_small_1.h5')"
   ]
  },
  {
   "cell_type": "code",
   "execution_count": null,
   "metadata": {},
   "outputs": [],
   "source": [
    "# model = load_model('saved_models/DeepLearningForComputerVision/cats_and_dogs_small_1.h5')"
   ]
  },
  {
   "cell_type": "code",
   "execution_count": 1,
   "metadata": {},
   "outputs": [
    {
     "ename": "NameError",
     "evalue": "name 'history' is not defined",
     "output_type": "error",
     "traceback": [
      "\u001b[1;31m---------------------------------------------------------------------------\u001b[0m",
      "\u001b[1;31mNameError\u001b[0m                                 Traceback (most recent call last)",
      "\u001b[1;32m<ipython-input-1-435dcd6571ee>\u001b[0m in \u001b[0;36m<module>\u001b[1;34m\u001b[0m\n\u001b[1;32m----> 1\u001b[1;33m \u001b[0macc\u001b[0m \u001b[1;33m=\u001b[0m \u001b[0mhistory\u001b[0m\u001b[1;33m.\u001b[0m\u001b[0mhistory\u001b[0m\u001b[1;33m[\u001b[0m\u001b[1;34m'acc'\u001b[0m\u001b[1;33m]\u001b[0m\u001b[1;33m\u001b[0m\u001b[1;33m\u001b[0m\u001b[0m\n\u001b[0m\u001b[0;32m      2\u001b[0m \u001b[0mval_acc\u001b[0m \u001b[1;33m=\u001b[0m \u001b[0mhistory\u001b[0m\u001b[1;33m.\u001b[0m\u001b[0mhistory\u001b[0m\u001b[1;33m[\u001b[0m\u001b[1;34m'val_acc'\u001b[0m\u001b[1;33m]\u001b[0m\u001b[1;33m\u001b[0m\u001b[1;33m\u001b[0m\u001b[0m\n\u001b[0;32m      3\u001b[0m \u001b[0mloss\u001b[0m \u001b[1;33m=\u001b[0m \u001b[0mhistory\u001b[0m\u001b[1;33m.\u001b[0m\u001b[0mhistory\u001b[0m\u001b[1;33m[\u001b[0m\u001b[1;34m'loss'\u001b[0m\u001b[1;33m]\u001b[0m\u001b[1;33m\u001b[0m\u001b[1;33m\u001b[0m\u001b[0m\n\u001b[0;32m      4\u001b[0m \u001b[0mval_loss\u001b[0m \u001b[1;33m=\u001b[0m \u001b[0mhistory\u001b[0m\u001b[1;33m.\u001b[0m\u001b[0mhistory\u001b[0m\u001b[1;33m[\u001b[0m\u001b[1;34m'val_loss'\u001b[0m\u001b[1;33m]\u001b[0m\u001b[1;33m\u001b[0m\u001b[1;33m\u001b[0m\u001b[0m\n\u001b[0;32m      5\u001b[0m \u001b[0mepochs\u001b[0m \u001b[1;33m=\u001b[0m \u001b[0mrange\u001b[0m\u001b[1;33m(\u001b[0m\u001b[1;36m1\u001b[0m\u001b[1;33m,\u001b[0m \u001b[0mlen\u001b[0m\u001b[1;33m(\u001b[0m\u001b[0macc\u001b[0m\u001b[1;33m)\u001b[0m \u001b[1;33m+\u001b[0m \u001b[1;36m1\u001b[0m\u001b[1;33m)\u001b[0m\u001b[1;33m\u001b[0m\u001b[1;33m\u001b[0m\u001b[0m\n",
      "\u001b[1;31mNameError\u001b[0m: name 'history' is not defined"
     ]
    }
   ],
   "source": [
    "acc = history.history['acc']\n",
    "val_acc = history.history['val_acc']\n",
    "loss = history.history['loss']\n",
    "val_loss = history.history['val_loss']\n",
    "epochs = range(1, len(acc) + 1)"
   ]
  },
  {
   "cell_type": "code",
   "execution_count": 19,
   "metadata": {},
   "outputs": [
    {
     "data": {
      "text/plain": [
       "<matplotlib.legend.Legend at 0x14c80576c88>"
      ]
     },
     "execution_count": 19,
     "metadata": {},
     "output_type": "execute_result"
    },
    {
     "data": {
      "image/png": "[encoded data removed]",
      "text/plain": [
       "<Figure size 432x288 with 1 Axes>"
      ]
     },
     "metadata": {
      "needs_background": "light"
     },
     "output_type": "display_data"
    }
   ],
   "source": [
    "plt.plot(epochs, acc, 'bo', label='Training acc')\n",
    "plt.plot(epochs, val_acc, 'b', label='Validation acc')\n",
    "plt.title('Training and validation accuracy')\n",
    "plt.legend()"
   ]
  },
  {
   "cell_type": "code",
   "execution_count": 20,
   "metadata": {},
   "outputs": [
    {
     "data": {
      "text/plain": [
       "<matplotlib.legend.Legend at 0x14c8008b708>"
      ]
     },
     "execution_count": 20,
     "metadata": {},
     "output_type": "execute_result"
    },
    {
     "data": {
      "image/png": "[encoded data removed]",
      "text/plain": [
       "<Figure size 432x288 with 1 Axes>"
      ]
     },
     "metadata": {
      "needs_background": "light"
     },
     "output_type": "display_data"
    }
   ],
   "source": [
    "plt.figure()\n",
    "plt.plot(epochs, loss, 'bo', label='Training loss')\n",
    "plt.plot(epochs, val_loss, 'b', label='Validation loss')\n",
    "plt.title('Training and validation loss')\n",
    "plt.legend()"
   ]
  },
  {
   "cell_type": "markdown",
   "metadata": {},
   "source": [
    "<a id=\"1.1.6\"></a><br>\n",
    "**6. Desenvolver um modelo com overfitting**"
   ]
  },
  {
   "cell_type": "code",
   "execution_count": 23,
   "metadata": {},
   "outputs": [],
   "source": [
    "# Será considerado que o modelo já possui uma arquitetura adequada\n",
    "# Nos gráficos é possível observar que ocorre overfitting"
   ]
  },
  {
   "cell_type": "markdown",
   "metadata": {},
   "source": [
    "<a id=\"1.1.7\"></a><br>\n",
    "**7. Regularizar ou sintonizar hiperparâmetros do modelo**"
   ]
  },
  {
   "cell_type": "markdown",
   "metadata": {},
   "source": [
    "- Em modelos convnets voltados à processamento de imagens/visão computacional, é comum ser usado a técnica de _data augmentation,_ que consiste em reutilizar as imagens do treinamento com algumas transformações aleatórias, o que será percebido pelo modelo (quase) como uma imagem diferente.\n",
    "- Essa técnica permite permite o modelo capturar outros aspectos das imagens e assim obter um poder maior de generalização.\n",
    "- Além de _data augmentation,_ será usada uma camada de _dropout_ para facilitar no desafio de evitar _overfitting_"
   ]
  },
  {
   "cell_type": "code",
   "execution_count": 21,
   "metadata": {},
   "outputs": [],
   "source": [
    "# Novo modelo\n",
    "final_model = models.Sequential()\n",
    "\n",
    "final_model.add(layers.Conv2D(32, (3, 3), activation='relu', input_shape=(150, 150, 3)))\n",
    "final_model.add(layers.MaxPooling2D((2, 2)))\n",
    "\n",
    "final_model.add(layers.Conv2D(64, (3, 3), activation='relu'))\n",
    "final_model.add(layers.MaxPooling2D((2, 2)))\n",
    "\n",
    "final_model.add(layers.Conv2D(128, (3, 3), activation='relu'))\n",
    "final_model.add(layers.MaxPooling2D((2, 2)))\n",
    "\n",
    "final_model.add(layers.Conv2D(128, (3, 3), activation='relu'))\n",
    "final_model.add(layers.MaxPooling2D((2, 2)))\n",
    "\n",
    "final_model.add(layers.Flatten())\n",
    "final_model.add(layers.Dropout(0.5))\n",
    "\n",
    "final_model.add(layers.Dense(512, activation='relu'))\n",
    "final_model.add(layers.Dense(1, activation='sigmoid'))"
   ]
  },
  {
   "cell_type": "code",
   "execution_count": 22,
   "metadata": {},
   "outputs": [],
   "source": [
    "final_model.compile(loss='binary_crossentropy', optimizer=optimizers.RMSprop(lr=1e-4), metrics=['acc'])"
   ]
  },
  {
   "cell_type": "code",
   "execution_count": 28,
   "metadata": {},
   "outputs": [],
   "source": [
    "# ImageDataGenerator para realizar data augmentation\n",
    "train_datagen = ImageDataGenerator( rescale=1./255,\n",
    "                                    rotation_range=40, # random range to rotate\n",
    "                                    width_shift_range=0.2, height_shift_range=0.2, # random range to translate\n",
    "                                    shear_range=0.2, # random range to shear\n",
    "                                    zoom_range=0.2, # random zoom range\n",
    "                                    horizontal_flip=True)"
   ]
  },
  {
   "cell_type": "code",
   "execution_count": 29,
   "metadata": {},
   "outputs": [],
   "source": [
    "# O data augmentation não é aplicado no conjunto de validação (final), test_gen"
   ]
  },
  {
   "cell_type": "code",
   "execution_count": 30,
   "metadata": {},
   "outputs": [
    {
     "name": "stdout",
     "output_type": "stream",
     "text": [
      "Found 2000 validated image filenames belonging to 2 classes.\n"
     ]
    }
   ],
   "source": [
    "train_generator = train_datagen.flow_from_dataframe(df_train, train_dir, x_col='rel_img_path', y_col='animal',  \n",
    "                                                    target_size=(150, 150), batch_size=20, \n",
    "                                                    class_mode='binary')"
   ]
  },
  {
   "cell_type": "code",
   "execution_count": 31,
   "metadata": {},
   "outputs": [
    {
     "name": "stdout",
     "output_type": "stream",
     "text": [
      "Found 1000 validated image filenames belonging to 2 classes.\n"
     ]
    }
   ],
   "source": [
    "valid_generator = validation_datagen.flow_from_dataframe(df_valid, train_dir, x_col='rel_img_path', y_col='animal',  \n",
    "                                                         target_size=(150, 150), batch_size=20, class_mode='binary')"
   ]
  },
  {
   "cell_type": "code",
   "execution_count": 32,
   "metadata": {},
   "outputs": [
    {
     "name": "stdout",
     "output_type": "stream",
     "text": [
      "Epoch 1/100\n",
      "100/100 [==============================] - 28s 283ms/step - loss: 0.6924 - acc: 0.5215 - val_loss: 0.6796 - val_acc: 0.6010\n",
      "Epoch 2/100\n",
      "100/100 [==============================] - 29s 288ms/step - loss: 0.6886 - acc: 0.5380 - val_loss: 0.6687 - val_acc: 0.6170\n",
      "Epoch 3/100\n",
      "100/100 [==============================] - 31s 311ms/step - loss: 0.6753 - acc: 0.5775 - val_loss: 0.6568 - val_acc: 0.5930\n",
      "Epoch 4/100\n",
      "100/100 [==============================] - 30s 298ms/step - loss: 0.6691 - acc: 0.5855 - val_loss: 0.6438 - val_acc: 0.6170\n",
      "Epoch 5/100\n",
      "100/100 [==============================] - 31s 305ms/step - loss: 0.6600 - acc: 0.5965 - val_loss: 0.7038 - val_acc: 0.5730\n",
      "Epoch 6/100\n",
      "100/100 [==============================] - 31s 310ms/step - loss: 0.6484 - acc: 0.6215 - val_loss: 0.6986 - val_acc: 0.5660\n",
      "Epoch 7/100\n",
      "100/100 [==============================] - 30s 305ms/step - loss: 0.6404 - acc: 0.6280 - val_loss: 0.6143 - val_acc: 0.6630\n",
      "Epoch 8/100\n",
      "100/100 [==============================] - 31s 306ms/step - loss: 0.6308 - acc: 0.6375 - val_loss: 0.6149 - val_acc: 0.6650\n",
      "Epoch 9/100\n",
      "100/100 [==============================] - 31s 306ms/step - loss: 0.6278 - acc: 0.6385 - val_loss: 0.6393 - val_acc: 0.6320\n",
      "Epoch 10/100\n",
      "100/100 [==============================] - 30s 301ms/step - loss: 0.6196 - acc: 0.6540 - val_loss: 0.5984 - val_acc: 0.6810\n",
      "Epoch 11/100\n",
      "100/100 [==============================] - 30s 300ms/step - loss: 0.6182 - acc: 0.6630 - val_loss: 0.5788 - val_acc: 0.7230\n",
      "Epoch 12/100\n",
      "100/100 [==============================] - 30s 302ms/step - loss: 0.6043 - acc: 0.6665 - val_loss: 0.5921 - val_acc: 0.6950\n",
      "Epoch 13/100\n",
      "100/100 [==============================] - 30s 296ms/step - loss: 0.6108 - acc: 0.6640 - val_loss: 0.5741 - val_acc: 0.7110\n",
      "Epoch 14/100\n",
      "100/100 [==============================] - 29s 286ms/step - loss: 0.5993 - acc: 0.6660 - val_loss: 0.5766 - val_acc: 0.7130\n",
      "Epoch 15/100\n",
      "100/100 [==============================] - 30s 297ms/step - loss: 0.5930 - acc: 0.6800 - val_loss: 0.5751 - val_acc: 0.7200\n",
      "Epoch 16/100\n",
      "100/100 [==============================] - 29s 293ms/step - loss: 0.5989 - acc: 0.6730 - val_loss: 0.5810 - val_acc: 0.7110\n",
      "Epoch 17/100\n",
      "100/100 [==============================] - 29s 289ms/step - loss: 0.5845 - acc: 0.6915 - val_loss: 0.6548 - val_acc: 0.6460\n",
      "Epoch 18/100\n",
      "100/100 [==============================] - 30s 295ms/step - loss: 0.5866 - acc: 0.6825 - val_loss: 0.5497 - val_acc: 0.7340\n",
      "Epoch 19/100\n",
      "100/100 [==============================] - 31s 311ms/step - loss: 0.5850 - acc: 0.6950 - val_loss: 0.5647 - val_acc: 0.7070\n",
      "Epoch 20/100\n",
      "100/100 [==============================] - 30s 302ms/step - loss: 0.5752 - acc: 0.7000 - val_loss: 0.5616 - val_acc: 0.7050\n",
      "Epoch 21/100\n",
      "100/100 [==============================] - 30s 296ms/step - loss: 0.5840 - acc: 0.6855 - val_loss: 0.5496 - val_acc: 0.7320\n",
      "Epoch 22/100\n",
      "100/100 [==============================] - 30s 301ms/step - loss: 0.5679 - acc: 0.6935 - val_loss: 0.5358 - val_acc: 0.7380\n",
      "Epoch 23/100\n",
      "100/100 [==============================] - 31s 308ms/step - loss: 0.5634 - acc: 0.7050 - val_loss: 0.5530 - val_acc: 0.7210\n",
      "Epoch 24/100\n",
      "100/100 [==============================] - 32s 315ms/step - loss: 0.5617 - acc: 0.7125 - val_loss: 0.5542 - val_acc: 0.7100\n",
      "Epoch 25/100\n",
      "100/100 [==============================] - 28s 285ms/step - loss: 0.5655 - acc: 0.6990 - val_loss: 0.5301 - val_acc: 0.7310\n",
      "Epoch 26/100\n",
      "100/100 [==============================] - 29s 287ms/step - loss: 0.5596 - acc: 0.7125 - val_loss: 0.5515 - val_acc: 0.7190\n",
      "Epoch 27/100\n",
      "100/100 [==============================] - 29s 286ms/step - loss: 0.5526 - acc: 0.7210 - val_loss: 0.5453 - val_acc: 0.7200\n",
      "Epoch 28/100\n",
      "100/100 [==============================] - 28s 283ms/step - loss: 0.5467 - acc: 0.7170 - val_loss: 0.5440 - val_acc: 0.7290\n",
      "Epoch 29/100\n",
      "100/100 [==============================] - 29s 287ms/step - loss: 0.5528 - acc: 0.7170 - val_loss: 0.5989 - val_acc: 0.6880\n",
      "Epoch 30/100\n",
      "100/100 [==============================] - 29s 285ms/step - loss: 0.5413 - acc: 0.7140 - val_loss: 0.5808 - val_acc: 0.7010\n",
      "Epoch 31/100\n",
      "100/100 [==============================] - 29s 294ms/step - loss: 0.5302 - acc: 0.7245 - val_loss: 0.5214 - val_acc: 0.7410\n",
      "Epoch 32/100\n",
      "100/100 [==============================] - 29s 292ms/step - loss: 0.5331 - acc: 0.7270 - val_loss: 0.5716 - val_acc: 0.7020\n",
      "Epoch 33/100\n",
      "100/100 [==============================] - 29s 292ms/step - loss: 0.5389 - acc: 0.7310 - val_loss: 0.5335 - val_acc: 0.7330\n",
      "Epoch 34/100\n",
      "100/100 [==============================] - 30s 304ms/step - loss: 0.5314 - acc: 0.7255 - val_loss: 0.5047 - val_acc: 0.7520\n",
      "Epoch 35/100\n",
      "100/100 [==============================] - 29s 292ms/step - loss: 0.5253 - acc: 0.7395 - val_loss: 0.5078 - val_acc: 0.7440\n",
      "Epoch 36/100\n",
      "100/100 [==============================] - 30s 298ms/step - loss: 0.5224 - acc: 0.7305 - val_loss: 0.5519 - val_acc: 0.7280\n",
      "Epoch 37/100\n",
      "100/100 [==============================] - 29s 294ms/step - loss: 0.5175 - acc: 0.7445 - val_loss: 0.4974 - val_acc: 0.7610\n",
      "Epoch 38/100\n",
      "100/100 [==============================] - 29s 293ms/step - loss: 0.5272 - acc: 0.7305 - val_loss: 0.5185 - val_acc: 0.7530\n",
      "Epoch 39/100\n",
      "100/100 [==============================] - 29s 291ms/step - loss: 0.5215 - acc: 0.7410 - val_loss: 0.4975 - val_acc: 0.7730\n",
      "Epoch 40/100\n",
      "100/100 [==============================] - 29s 290ms/step - loss: 0.4918 - acc: 0.7620 - val_loss: 0.5805 - val_acc: 0.7190\n",
      "Epoch 41/100\n",
      "100/100 [==============================] - 29s 290ms/step - loss: 0.5129 - acc: 0.7595 - val_loss: 0.5069 - val_acc: 0.7560\n",
      "Epoch 42/100\n",
      "100/100 [==============================] - 29s 290ms/step - loss: 0.5208 - acc: 0.7495 - val_loss: 0.4946 - val_acc: 0.7750\n",
      "Epoch 43/100\n",
      "100/100 [==============================] - 29s 289ms/step - loss: 0.5028 - acc: 0.7495 - val_loss: 0.5344 - val_acc: 0.7370\n",
      "Epoch 44/100\n",
      "100/100 [==============================] - 29s 290ms/step - loss: 0.5027 - acc: 0.7585 - val_loss: 0.5201 - val_acc: 0.7470\n",
      "Epoch 45/100\n",
      "100/100 [==============================] - 29s 291ms/step - loss: 0.4984 - acc: 0.7540 - val_loss: 0.5005 - val_acc: 0.7760\n",
      "Epoch 46/100\n",
      "100/100 [==============================] - 29s 290ms/step - loss: 0.5150 - acc: 0.7580 - val_loss: 0.5006 - val_acc: 0.7620\n",
      "Epoch 47/100\n",
      "100/100 [==============================] - 29s 291ms/step - loss: 0.4904 - acc: 0.7650 - val_loss: 0.4817 - val_acc: 0.7810\n",
      "Epoch 48/100\n",
      "100/100 [==============================] - 29s 291ms/step - loss: 0.4956 - acc: 0.7640 - val_loss: 0.4989 - val_acc: 0.7570\n",
      "Epoch 49/100\n",
      "100/100 [==============================] - 29s 290ms/step - loss: 0.4953 - acc: 0.7485 - val_loss: 0.5057 - val_acc: 0.7590\n",
      "Epoch 50/100\n",
      "100/100 [==============================] - 29s 292ms/step - loss: 0.4855 - acc: 0.7570 - val_loss: 0.4971 - val_acc: 0.7480\n",
      "Epoch 51/100\n",
      "100/100 [==============================] - 29s 290ms/step - loss: 0.4865 - acc: 0.7715 - val_loss: 0.4927 - val_acc: 0.7720\n",
      "Epoch 52/100\n",
      "100/100 [==============================] - 29s 290ms/step - loss: 0.4920 - acc: 0.7650 - val_loss: 0.5816 - val_acc: 0.7220\n",
      "Epoch 53/100\n",
      "100/100 [==============================] - 29s 289ms/step - loss: 0.4919 - acc: 0.7690 - val_loss: 0.5163 - val_acc: 0.7560\n",
      "Epoch 54/100\n",
      "100/100 [==============================] - 29s 290ms/step - loss: 0.4721 - acc: 0.7770 - val_loss: 0.5170 - val_acc: 0.7630\n",
      "Epoch 55/100\n",
      "100/100 [==============================] - 29s 290ms/step - loss: 0.4787 - acc: 0.7795 - val_loss: 0.4962 - val_acc: 0.7630\n",
      "Epoch 56/100\n",
      "100/100 [==============================] - 29s 289ms/step - loss: 0.4721 - acc: 0.7700 - val_loss: 0.5229 - val_acc: 0.7570\n",
      "Epoch 57/100\n",
      "100/100 [==============================] - 29s 290ms/step - loss: 0.4795 - acc: 0.7695 - val_loss: 0.4868 - val_acc: 0.7770\n",
      "Epoch 58/100\n",
      "100/100 [==============================] - 29s 289ms/step - loss: 0.4714 - acc: 0.7685 - val_loss: 0.4827 - val_acc: 0.7740\n",
      "Epoch 59/100\n",
      "100/100 [==============================] - 29s 290ms/step - loss: 0.4630 - acc: 0.7725 - val_loss: 0.5006 - val_acc: 0.7760\n",
      "Epoch 60/100\n",
      "100/100 [==============================] - 29s 290ms/step - loss: 0.4830 - acc: 0.7685 - val_loss: 0.4621 - val_acc: 0.7800\n"
     ]
    },
    {
     "name": "stdout",
     "output_type": "stream",
     "text": [
      "Epoch 61/100\n",
      "100/100 [==============================] - 29s 289ms/step - loss: 0.4614 - acc: 0.7895 - val_loss: 0.6185 - val_acc: 0.7180\n",
      "Epoch 62/100\n",
      "100/100 [==============================] - 29s 290ms/step - loss: 0.4491 - acc: 0.7810 - val_loss: 0.5244 - val_acc: 0.7590\n",
      "Epoch 63/100\n",
      "100/100 [==============================] - 29s 289ms/step - loss: 0.4659 - acc: 0.7770 - val_loss: 0.6052 - val_acc: 0.7240\n",
      "Epoch 64/100\n",
      "100/100 [==============================] - 29s 290ms/step - loss: 0.4622 - acc: 0.7730 - val_loss: 0.5114 - val_acc: 0.7660\n",
      "Epoch 65/100\n",
      "100/100 [==============================] - 29s 289ms/step - loss: 0.4659 - acc: 0.7725 - val_loss: 0.4769 - val_acc: 0.7750\n",
      "Epoch 66/100\n",
      "100/100 [==============================] - 29s 290ms/step - loss: 0.4574 - acc: 0.7865 - val_loss: 0.5168 - val_acc: 0.7660\n",
      "Epoch 67/100\n",
      "100/100 [==============================] - 29s 289ms/step - loss: 0.4654 - acc: 0.7785 - val_loss: 0.4816 - val_acc: 0.7760\n",
      "Epoch 68/100\n",
      "100/100 [==============================] - 29s 290ms/step - loss: 0.4431 - acc: 0.7970 - val_loss: 0.5141 - val_acc: 0.7700\n",
      "Epoch 69/100\n",
      "100/100 [==============================] - 29s 289ms/step - loss: 0.4557 - acc: 0.7825 - val_loss: 0.5101 - val_acc: 0.7650\n",
      "Epoch 70/100\n",
      "100/100 [==============================] - 29s 289ms/step - loss: 0.4558 - acc: 0.7820 - val_loss: 0.4694 - val_acc: 0.7880\n",
      "Epoch 71/100\n",
      "100/100 [==============================] - 29s 290ms/step - loss: 0.4563 - acc: 0.7845 - val_loss: 0.5013 - val_acc: 0.7760\n",
      "Epoch 72/100\n",
      "100/100 [==============================] - 29s 290ms/step - loss: 0.4496 - acc: 0.7870 - val_loss: 0.4654 - val_acc: 0.7890\n",
      "Epoch 73/100\n",
      "100/100 [==============================] - 29s 289ms/step - loss: 0.4356 - acc: 0.7945 - val_loss: 0.4808 - val_acc: 0.7740\n",
      "Epoch 74/100\n",
      "100/100 [==============================] - 29s 290ms/step - loss: 0.4293 - acc: 0.7920 - val_loss: 0.5217 - val_acc: 0.7710\n",
      "Epoch 75/100\n",
      "100/100 [==============================] - 29s 291ms/step - loss: 0.4290 - acc: 0.8020 - val_loss: 0.4838 - val_acc: 0.7850\n",
      "Epoch 76/100\n",
      "100/100 [==============================] - 29s 291ms/step - loss: 0.4315 - acc: 0.8040 - val_loss: 0.5256 - val_acc: 0.7810\n",
      "Epoch 77/100\n",
      "100/100 [==============================] - 29s 289ms/step - loss: 0.4282 - acc: 0.8005 - val_loss: 0.4434 - val_acc: 0.7960\n",
      "Epoch 78/100\n",
      "100/100 [==============================] - 29s 290ms/step - loss: 0.4309 - acc: 0.7935 - val_loss: 0.5285 - val_acc: 0.7590\n",
      "Epoch 79/100\n",
      "100/100 [==============================] - 29s 289ms/step - loss: 0.4271 - acc: 0.8025 - val_loss: 0.4765 - val_acc: 0.7930\n",
      "Epoch 80/100\n",
      "100/100 [==============================] - 29s 290ms/step - loss: 0.4311 - acc: 0.7955 - val_loss: 0.4804 - val_acc: 0.7820\n",
      "Epoch 81/100\n",
      "100/100 [==============================] - 29s 289ms/step - loss: 0.4247 - acc: 0.8060 - val_loss: 0.4445 - val_acc: 0.8000\n",
      "Epoch 82/100\n",
      "100/100 [==============================] - 29s 289ms/step - loss: 0.4140 - acc: 0.8135 - val_loss: 0.5421 - val_acc: 0.7520\n",
      "Epoch 83/100\n",
      "100/100 [==============================] - 29s 289ms/step - loss: 0.4209 - acc: 0.8070 - val_loss: 0.4802 - val_acc: 0.7970\n",
      "Epoch 84/100\n",
      "100/100 [==============================] - 30s 298ms/step - loss: 0.4208 - acc: 0.8090 - val_loss: 0.4560 - val_acc: 0.7960\n",
      "Epoch 85/100\n",
      "100/100 [==============================] - 30s 302ms/step - loss: 0.4099 - acc: 0.8115 - val_loss: 0.4834 - val_acc: 0.7720\n",
      "Epoch 86/100\n",
      "100/100 [==============================] - 30s 299ms/step - loss: 0.4165 - acc: 0.8195 - val_loss: 0.6199 - val_acc: 0.7330\n",
      "Epoch 87/100\n",
      "100/100 [==============================] - 31s 312ms/step - loss: 0.4136 - acc: 0.8135 - val_loss: 0.5038 - val_acc: 0.7990\n",
      "Epoch 88/100\n",
      "100/100 [==============================] - 30s 296ms/step - loss: 0.4069 - acc: 0.8110 - val_loss: 0.5826 - val_acc: 0.7650\n",
      "Epoch 89/100\n",
      "100/100 [==============================] - 30s 302ms/step - loss: 0.4085 - acc: 0.8115 - val_loss: 0.5556 - val_acc: 0.7730\n",
      "Epoch 90/100\n",
      "100/100 [==============================] - 28s 284ms/step - loss: 0.4191 - acc: 0.8065 - val_loss: 0.4694 - val_acc: 0.7930\n",
      "Epoch 91/100\n",
      "100/100 [==============================] - 29s 291ms/step - loss: 0.4082 - acc: 0.8145 - val_loss: 0.4709 - val_acc: 0.7990\n",
      "Epoch 92/100\n",
      "100/100 [==============================] - 28s 282ms/step - loss: 0.3829 - acc: 0.8205 - val_loss: 0.4742 - val_acc: 0.7930\n",
      "Epoch 93/100\n",
      "100/100 [==============================] - 31s 308ms/step - loss: 0.4049 - acc: 0.8135 - val_loss: 0.5064 - val_acc: 0.7930\n",
      "Epoch 94/100\n",
      "100/100 [==============================] - 29s 294ms/step - loss: 0.4121 - acc: 0.8140 - val_loss: 0.5164 - val_acc: 0.7780\n",
      "Epoch 95/100\n",
      "100/100 [==============================] - 30s 299ms/step - loss: 0.3957 - acc: 0.8230 - val_loss: 0.4654 - val_acc: 0.7990\n",
      "Epoch 96/100\n",
      "100/100 [==============================] - 30s 300ms/step - loss: 0.4020 - acc: 0.8135 - val_loss: 0.5043 - val_acc: 0.7790\n",
      "Epoch 97/100\n",
      "100/100 [==============================] - 29s 292ms/step - loss: 0.3794 - acc: 0.8290 - val_loss: 0.4854 - val_acc: 0.7920\n",
      "Epoch 98/100\n",
      "100/100 [==============================] - 29s 290ms/step - loss: 0.3784 - acc: 0.8285 - val_loss: 0.4550 - val_acc: 0.8060\n",
      "Epoch 99/100\n",
      "100/100 [==============================] - 29s 291ms/step - loss: 0.3928 - acc: 0.8330 - val_loss: 0.5312 - val_acc: 0.7660\n",
      "Epoch 100/100\n",
      "100/100 [==============================] - 29s 290ms/step - loss: 0.3879 - acc: 0.8295 - val_loss: 0.4668 - val_acc: 0.7900\n"
     ]
    }
   ],
   "source": [
    "# Treinamento com generator que carregam as entradas embutidas (com data augmentation)\n",
    "history = final_model.fit(train_generator, steps_per_epoch=100, epochs=100, validation_data=valid_generator, validation_steps=50)"
   ]
  },
  {
   "cell_type": "code",
   "execution_count": 33,
   "metadata": {},
   "outputs": [],
   "source": [
    "final_model.save('saved_models/DeepLearningForComputerVision/cats_and_dogs_small_2.h5')"
   ]
  },
  {
   "cell_type": "code",
   "execution_count": 8,
   "metadata": {},
   "outputs": [],
   "source": [
    "final_model = models.load_model('saved_models/DeepLearningForComputerVision/cats_and_dogs_small_2.h5')"
   ]
  },
  {
   "cell_type": "code",
   "execution_count": null,
   "metadata": {},
   "outputs": [],
   "source": [
    "# convert the history.history dict to a pandas DataFrame:     \n",
    "hist_df = pd.DataFrame(history.history) \n",
    "\n",
    "# save to json:  \n",
    "hist_json_file = 'saved_models/DeepLearningForComputerVision/cats_and_dogs_small_2_history.json' \n",
    "with open(hist_json_file, mode='w') as f:\n",
    "    hist_df.to_json(f)\n",
    "\n",
    "# or save to csv: \n",
    "# hist_csv_file = 'history.csv'\n",
    "# with open(hist_csv_file, mode='w') as f:\n",
    "#    hist_df.to_csv(f)\n",
    "\n",
    "# hist_df = pd.read_json('saved_models/DeepLearningForComputerVision/cats_and_dogs_small_2_history.json')"
   ]
  },
  {
   "cell_type": "code",
   "execution_count": 7,
   "metadata": {},
   "outputs": [
    {
     "ename": "NameError",
     "evalue": "name 'history' is not defined",
     "output_type": "error",
     "traceback": [
      "\u001b[1;31m---------------------------------------------------------------------------\u001b[0m",
      "\u001b[1;31mNameError\u001b[0m                                 Traceback (most recent call last)",
      "\u001b[1;32m<ipython-input-7-435dcd6571ee>\u001b[0m in \u001b[0;36m<module>\u001b[1;34m\u001b[0m\n\u001b[1;32m----> 1\u001b[1;33m \u001b[0macc\u001b[0m \u001b[1;33m=\u001b[0m \u001b[0mhistory\u001b[0m\u001b[1;33m.\u001b[0m\u001b[0mhistory\u001b[0m\u001b[1;33m[\u001b[0m\u001b[1;34m'acc'\u001b[0m\u001b[1;33m]\u001b[0m\u001b[1;33m\u001b[0m\u001b[1;33m\u001b[0m\u001b[0m\n\u001b[0m\u001b[0;32m      2\u001b[0m \u001b[0mval_acc\u001b[0m \u001b[1;33m=\u001b[0m \u001b[0mhistory\u001b[0m\u001b[1;33m.\u001b[0m\u001b[0mhistory\u001b[0m\u001b[1;33m[\u001b[0m\u001b[1;34m'val_acc'\u001b[0m\u001b[1;33m]\u001b[0m\u001b[1;33m\u001b[0m\u001b[1;33m\u001b[0m\u001b[0m\n\u001b[0;32m      3\u001b[0m \u001b[0mloss\u001b[0m \u001b[1;33m=\u001b[0m \u001b[0mhistory\u001b[0m\u001b[1;33m.\u001b[0m\u001b[0mhistory\u001b[0m\u001b[1;33m[\u001b[0m\u001b[1;34m'loss'\u001b[0m\u001b[1;33m]\u001b[0m\u001b[1;33m\u001b[0m\u001b[1;33m\u001b[0m\u001b[0m\n\u001b[0;32m      4\u001b[0m \u001b[0mval_loss\u001b[0m \u001b[1;33m=\u001b[0m \u001b[0mhistory\u001b[0m\u001b[1;33m.\u001b[0m\u001b[0mhistory\u001b[0m\u001b[1;33m[\u001b[0m\u001b[1;34m'val_loss'\u001b[0m\u001b[1;33m]\u001b[0m\u001b[1;33m\u001b[0m\u001b[1;33m\u001b[0m\u001b[0m\n\u001b[0;32m      5\u001b[0m \u001b[0mepochs\u001b[0m \u001b[1;33m=\u001b[0m \u001b[0mrange\u001b[0m\u001b[1;33m(\u001b[0m\u001b[1;36m1\u001b[0m\u001b[1;33m,\u001b[0m \u001b[0mlen\u001b[0m\u001b[1;33m(\u001b[0m\u001b[0macc\u001b[0m\u001b[1;33m)\u001b[0m \u001b[1;33m+\u001b[0m \u001b[1;36m1\u001b[0m\u001b[1;33m)\u001b[0m\u001b[1;33m\u001b[0m\u001b[1;33m\u001b[0m\u001b[0m\n",
      "\u001b[1;31mNameError\u001b[0m: name 'history' is not defined"
     ]
    }
   ],
   "source": [
    "acc = history.history['acc']\n",
    "val_acc = history.history['val_acc']\n",
    "loss = history.history['loss']\n",
    "val_loss = history.history['val_loss']\n",
    "epochs = range(1, len(acc) + 1)"
   ]
  },
  {
   "cell_type": "code",
   "execution_count": 35,
   "metadata": {},
   "outputs": [
    {
     "data": {
      "text/plain": [
       "<matplotlib.legend.Legend at 0x14c8243e088>"
      ]
     },
     "execution_count": 35,
     "metadata": {},
     "output_type": "execute_result"
    },
    {
     "data": {
      "image/png": "[encoded data removed]",
      "text/plain": [
       "<Figure size 432x288 with 1 Axes>"
      ]
     },
     "metadata": {
      "needs_background": "light"
     },
     "output_type": "display_data"
    }
   ],
   "source": [
    "plt.plot(epochs, acc, 'bo', label='Training acc')\n",
    "plt.plot(epochs, val_acc, 'b', label='Validation acc')\n",
    "plt.title('Training and validation accuracy')\n",
    "plt.legend()"
   ]
  },
  {
   "cell_type": "code",
   "execution_count": 36,
   "metadata": {},
   "outputs": [
    {
     "data": {
      "text/plain": [
       "<matplotlib.legend.Legend at 0x14c824921c8>"
      ]
     },
     "execution_count": 36,
     "metadata": {},
     "output_type": "execute_result"
    },
    {
     "data": {
      "image/png": "[encoded data removed]",
      "text/plain": [
       "<Figure size 432x288 with 1 Axes>"
      ]
     },
     "metadata": {
      "needs_background": "light"
     },
     "output_type": "display_data"
    }
   ],
   "source": [
    "plt.figure()\n",
    "plt.plot(epochs, loss, 'bo', label='Training loss')\n",
    "plt.plot(epochs, val_loss, 'b', label='Validation loss')\n",
    "plt.title('Training and validation loss')\n",
    "plt.legend()"
   ]
  },
  {
   "cell_type": "markdown",
   "metadata": {},
   "source": [
    "- Aplicando somente a técnica _Data Augmentation_ foi possível reduzir o overfitting mas não atingiu a meta de 95%.\n",
    "- Outras técnicas são apresentadas na seção 1.2."
   ]
  },
  {
   "cell_type": "markdown",
   "metadata": {},
   "source": [
    "<a id=\"1.2\"></a><br>\n",
    "### 1.2 Aplicação 2: The Dogs vs. Cats dataset - Convnet + Transfer Learning\n",
    "<br>\n",
    "\n",
    "__ETAPAS:__<br><br>\n",
    "[1. Definir o problema e montar o dataset](#1.2.1) <br>\n",
    "[2. Escolher uma métrica de sucesso](#1.2.2) <br>\n",
    "[3. Definir um protocolo de avaliação](#1.2.3) <br>\n",
    "[4. Adequar os dados para a rede](#1.2.4) <br>\n",
    "[5. Desenvolver um modelo base](#1.2.5) <br>\n",
    "[6. Desenvolver um modelo com overfitting](#1.2.6) <br>\n",
    "[7. Regularizar e sintonizar hiperparâmetros do modelo](#1.2.7) <br>"
   ]
  },
  {
   "cell_type": "markdown",
   "metadata": {},
   "source": [
    "- Convnets treinadas com massiva quantidade de dados e com um escopo mais genérico podem servir a problemas menos genéricos com alguns ajustes, ainda que envolvam classes diferentes da aplicação original, podendo inclusive alcançar desempenhos melhores.\n",
    "- A técnica de reutilizar um modelo pré-treinado em um outro problema é conhecida como __*Transfer Learning*__.\n",
    "- Nesse caso, será utilizado uma Convnet treinada no ImageNet dataset, conjunto bem conhecido em aplicações de Machine Learning. Ela possui 1,4 milhões de imagens classificadas e 1000 classes diferentes, onde também inclui muitas classes de animais com diferentes raças de cachorros e gatos.\n",
    "- Duas técnicas para o reuso são *__feature extraction__* e *__fine-tuning__*. Ambas podem ser aplicadas no mesmo modelo em desenvolvimento.\n",
    "- Feature extraction consiste em usar representações aprendidas por uma outra rede para extrair features na sua aplicação, ou seja, com suas próprias amostras. Então, a partir dessas features extraídas, desenvolver um mecanismo de classificação para identificar as classes."
   ]
  },
  {
   "cell_type": "markdown",
   "metadata": {},
   "source": [
    "<a id=\"1.2.1\"></a><br>\n",
    "**1. Definir o problema e montar o dataset**"
   ]
  },
  {
   "cell_type": "markdown",
   "metadata": {},
   "source": [
    "- O dataset **_Dogs vs Cats_** será classificado usando a arquitetura VGG16, desenvolvida por Karen Simonyan e Andrew Zisserman em 2014."
   ]
  },
  {
   "cell_type": "code",
   "execution_count": 1,
   "metadata": {},
   "outputs": [
    {
     "name": "stderr",
     "output_type": "stream",
     "text": [
      "Using TensorFlow backend.\n"
     ]
    }
   ],
   "source": [
    "from keras import models\n",
    "from keras import layers\n",
    "from keras import optimizers\n",
    "from keras.preprocessing.image import ImageDataGenerator\n",
    "from keras.applications import VGG16\n",
    "# from keras.models import load_model\n",
    "\n",
    "import numpy as np\n",
    "import pandas as pd\n",
    "import matplotlib.pyplot as plt\n",
    "import random\n",
    "%matplotlib inline"
   ]
  },
  {
   "cell_type": "code",
   "execution_count": 2,
   "metadata": {},
   "outputs": [],
   "source": [
    "# Carregamento de Convnet pré-treinada\n",
    "conv_base = VGG16( weights='imagenet', \n",
    "                   include_top=False, # Manter camada de entrada da rede? Não, será adicionada uma específica para o caso\n",
    "                   input_shape=(150, 150, 3))"
   ]
  },
  {
   "cell_type": "code",
   "execution_count": 3,
   "metadata": {},
   "outputs": [
    {
     "name": "stdout",
     "output_type": "stream",
     "text": [
      "Model: \"vgg16\"\n",
      "_________________________________________________________________\n",
      "Layer (type)                 Output Shape              Param #   \n",
      "=================================================================\n",
      "input_1 (InputLayer)         [(None, 150, 150, 3)]     0         \n",
      "_________________________________________________________________\n",
      "block1_conv1 (Conv2D)        (None, 150, 150, 64)      1792      \n",
      "_________________________________________________________________\n",
      "block1_conv2 (Conv2D)        (None, 150, 150, 64)      36928     \n",
      "_________________________________________________________________\n",
      "block1_pool (MaxPooling2D)   (None, 75, 75, 64)        0         \n",
      "_________________________________________________________________\n",
      "block2_conv1 (Conv2D)        (None, 75, 75, 128)       73856     \n",
      "_________________________________________________________________\n",
      "block2_conv2 (Conv2D)        (None, 75, 75, 128)       147584    \n",
      "_________________________________________________________________\n",
      "block2_pool (MaxPooling2D)   (None, 37, 37, 128)       0         \n",
      "_________________________________________________________________\n",
      "block3_conv1 (Conv2D)        (None, 37, 37, 256)       295168    \n",
      "_________________________________________________________________\n",
      "block3_conv2 (Conv2D)        (None, 37, 37, 256)       590080    \n",
      "_________________________________________________________________\n",
      "block3_conv3 (Conv2D)        (None, 37, 37, 256)       590080    \n",
      "_________________________________________________________________\n",
      "block3_pool (MaxPooling2D)   (None, 18, 18, 256)       0         \n",
      "_________________________________________________________________\n",
      "block4_conv1 (Conv2D)        (None, 18, 18, 512)       1180160   \n",
      "_________________________________________________________________\n",
      "block4_conv2 (Conv2D)        (None, 18, 18, 512)       2359808   \n",
      "_________________________________________________________________\n",
      "block4_conv3 (Conv2D)        (None, 18, 18, 512)       2359808   \n",
      "_________________________________________________________________\n",
      "block4_pool (MaxPooling2D)   (None, 9, 9, 512)         0         \n",
      "_________________________________________________________________\n",
      "block5_conv1 (Conv2D)        (None, 9, 9, 512)         2359808   \n",
      "_________________________________________________________________\n",
      "block5_conv2 (Conv2D)        (None, 9, 9, 512)         2359808   \n",
      "_________________________________________________________________\n",
      "block5_conv3 (Conv2D)        (None, 9, 9, 512)         2359808   \n",
      "_________________________________________________________________\n",
      "block5_pool (MaxPooling2D)   (None, 4, 4, 512)         0         \n",
      "=================================================================\n",
      "Total params: 14,714,688\n",
      "Trainable params: 14,714,688\n",
      "Non-trainable params: 0\n",
      "_________________________________________________________________\n"
     ]
    }
   ],
   "source": [
    "conv_base.summary()"
   ]
  },
  {
   "cell_type": "code",
   "execution_count": 4,
   "metadata": {},
   "outputs": [],
   "source": [
    "base_dir = 'data\\\\dogs-vs-cats_dataset\\\\'"
   ]
  },
  {
   "cell_type": "markdown",
   "metadata": {},
   "source": [
    "<a id=\"1.2.2\"></a><br>\n",
    "**2. Escolher uma métrica de sucesso**"
   ]
  },
  {
   "cell_type": "markdown",
   "metadata": {},
   "source": [
    "- Como essa aplicação é de classificação binária, a métrica será a acurácia em classificar imagens como contendo cachorro ou gato. Pelo histórico de aplicações desse dataset, é possível alcançar cerca de **95%** de acurácia, então esse valor será usado como referência. <Também será observado a curva de ROC.>\n"
   ]
  },
  {
   "cell_type": "markdown",
   "metadata": {},
   "source": [
    "<a id=\"1.2.3\"></a><br>\n",
    "**3. Definir um protocolo de avaliação**"
   ]
  },
  {
   "cell_type": "markdown",
   "metadata": {},
   "source": [
    "- O conjunto de imagens separadas para a aplicação será dividido em conjuntos de treino, teste e validação. Serão escolhidas aleatoriamente: 2000 imagens de treinamento (1000 por classe), 1000 imagens para validação (500 por classe) e 1000 imagens para teste."
   ]
  },
  {
   "cell_type": "code",
   "execution_count": 5,
   "metadata": {},
   "outputs": [],
   "source": [
    "# Referências para seleção de instâncias por classe\n",
    "full_set_size = 1500\n",
    "train_size = 1000\n",
    "validation_size = 500\n",
    "np.random.seed(101)"
   ]
  },
  {
   "cell_type": "code",
   "execution_count": 6,
   "metadata": {},
   "outputs": [],
   "source": [
    "full_index = list(range(0, 12500))\n",
    "random.shuffle(full_index)\n",
    "\n",
    "full_index = full_index[:full_set_size]\n",
    "train_index = full_index[:train_size]\n",
    "validation_index = full_index[train_size:]"
   ]
  },
  {
   "cell_type": "code",
   "execution_count": 7,
   "metadata": {},
   "outputs": [],
   "source": [
    "test_size = 500\n",
    "test_index = random.sample(range(0, 6250), test_size)"
   ]
  },
  {
   "cell_type": "markdown",
   "metadata": {},
   "source": [
    "<a id=\"1.1.4\"></a><br>\n",
    "**4. Adequar os dados para a rede - Versão A: Fast Feature Extraction sem Data Augmentation**"
   ]
  },
  {
   "cell_type": "code",
   "execution_count": 8,
   "metadata": {},
   "outputs": [],
   "source": [
    "import os, shutil\n",
    "\n",
    "# Organizar estrutura de pastas para o conjunto de treino\n",
    "def prepare_dir(base_dir):    \n",
    "    \n",
    "    samples_dir = os.path.join(base_dir, 'samples')\n",
    "    train_dir = os.path.join(samples_dir, 'train')\n",
    "    validation_dir = os.path.join(samples_dir, 'validation')\n",
    "    train_cats_dir = os.path.join(train_dir, 'cats')\n",
    "    train_dogs_dir = os.path.join(train_dir, 'dogs')\n",
    "    validation_cats_dir = os.path.join(validation_dir, 'cats')\n",
    "    validation_dogs_dir = os.path.join(validation_dir, 'dogs')\n",
    "    test_dir = os.path.join(samples_dir, 'test')\n",
    "    \n",
    "    try:\n",
    "        \n",
    "        os.mkdir(samples_dir)\n",
    "        os.mkdir(train_dir)\n",
    "        os.mkdir(validation_dir)\n",
    "        os.mkdir(train_cats_dir)\n",
    "\n",
    "        os.mkdir(train_dogs_dir)\n",
    "        os.mkdir(validation_cats_dir)\n",
    "\n",
    "        os.mkdir(validation_dogs_dir)\n",
    "    \n",
    "        os.mkdir(test_dir)\n",
    "    except FileExistsError as fe:\n",
    "         pass\n",
    "    except Exception as e:\n",
    "        print(e)\n",
    "\n",
    "    return train_dir, validation_dir, test_dir"
   ]
  },
  {
   "cell_type": "code",
   "execution_count": 9,
   "metadata": {},
   "outputs": [],
   "source": [
    "# Separar imagens para treino com validação e testes, ambas usando as referências aleatórias geradas anteriormente\n",
    "# As amostras são copiadas pra a pasta de operação de forma a complementar a quantidade pré-existente.\n",
    "# O ideal é substituir tudo, mas tá sendo feito assim para reduzir o número de operações de cópia no disco\n",
    "def prepare_samples(dataset_dir, dest_dir, random_ref):\n",
    "    \n",
    "    dst = os.path.join(dest_dir, 'cats')\n",
    "    n_cats = len([name for name in os.listdir(dst) if os.path.isfile(os.path.join(dst, name))])\n",
    "    \n",
    "    counter = 0\n",
    "    max_img = len(random_ref)\n",
    "    print('Max. img cats: {}; current n_cats: {}'.format(max_img, n_cats))\n",
    "    for i in random_ref:\n",
    "        if counter + n_cats < max_img:\n",
    "            fname = 'cat.{}.jpg'.format(i)\n",
    "            src = os.path.join(dataset_dir, fname)\n",
    "            # dst = os.path.join(dest_dir, 'cats')\n",
    "            # dst = os.path.join(dst, fname)\n",
    "            shutil.copyfile(src, os.path.join(dst, fname))\n",
    "            counter = counter + 1\n",
    "        else:\n",
    "            counter = 0\n",
    "            break\n",
    "    \n",
    "    dst = os.path.join(dest_dir, 'dogs')\n",
    "    n_dogs = len([name for name in os.listdir(dst) if os.path.isfile(os.path.join(dst, name))])\n",
    "    \n",
    "    print('Max. img dogs: {}; current n_dogs: {}'.format(max_img, n_dogs))\n",
    "    for i in random_ref:\n",
    "        if counter + n_dogs < max_img:\n",
    "            fname = 'dog.{}.jpg'.format(i)\n",
    "            src = os.path.join(dataset_dir, fname)\n",
    "            # dst = os.path.join(dest_dir, 'dogs')\n",
    "            # dst = os.path.join(dst, fname)\n",
    "            shutil.copyfile(src, os.path.join(dst, fname))\n",
    "            counter = counter + 1\n",
    "        else:\n",
    "            counter = 0\n",
    "            break\n",
    "\n",
    "def prepare_test_samples(dataset_dir, dest_dir, random_ref):\n",
    "    counter = 0\n",
    "    n_ref = len(random_ref)\n",
    "    n_samples = len([name for name in os.listdir(dest_dir) if os.path.isfile(name)])\n",
    "    for i in random_ref:\n",
    "        if counter + n_samples < n_ref:\n",
    "            fname = '{}.jpg'.format(i)\n",
    "            src = os.path.join(dataset_dir, fname)\n",
    "            dst = os.path.join(dest_dir, fname)\n",
    "            shutil.copyfile(src, dst)"
   ]
  },
  {
   "cell_type": "code",
   "execution_count": 10,
   "metadata": {},
   "outputs": [],
   "source": [
    "batch_size = 20\n",
    "datagen = ImageDataGenerator(rescale=1./255)\n",
    "\n",
    "# Extração de características das imagens através da rede pré-treinada VGG16\n",
    "def extract_features_train(directory, n_samples, class_mode='binary'):\n",
    "    \n",
    "    features = np.zeros(shape=(n_samples, 4, 4, 512))      # Associado a dimensão do topo da rede pré-treinada\n",
    "    labels = np.zeros(shape=(n_samples))\n",
    "    \n",
    "    generator = datagen.flow_from_directory(directory, target_size=(150, 150), batch_size=20, class_mode=class_mode)\n",
    "    \n",
    "    i = 0\n",
    "    for inputs_batch, labels_batch in generator:\n",
    "        features_batch = conv_base.predict(inputs_batch)\n",
    "        features[i * batch_size : (i + 1) * batch_size] = features_batch\n",
    "        labels[i * batch_size : (i + 1) * batch_size] = labels_batch\n",
    "        i += 1\n",
    "        if i * batch_size >= n_samples:\n",
    "            break\n",
    "\n",
    "    return features, labels"
   ]
  },
  {
   "cell_type": "code",
   "execution_count": 11,
   "metadata": {},
   "outputs": [],
   "source": [
    "# Extração de características das imagens através da rede pré-treinada VGG16\n",
    "def extract_features_test(directory, n_samples, class_mode=None):\n",
    "    \n",
    "    features = np.zeros(shape=(n_samples, 4, 4, 512))      # Associado a dimensão do topo da rede pré-treinada\n",
    "    \n",
    "    n_samples = len([name for name in os.listdir(directory) if os.path.isfile(os.path.join(directory, name))])    \n",
    "    \n",
    "    generator = datagen.flow_from_directory(directory, target_size=(150, 150), batch_size=20, class_mode=None)\n",
    "    i = 0\n",
    "    for inputs_batch in generator:\n",
    "        features_batch = conv_base.predict(inputs_batch)\n",
    "        features[i * batch_size : (i + 1) * batch_size] = features_batch\n",
    "        i += 1\n",
    "        if i * batch_size >= n_samples:\n",
    "            break\n",
    "    \n",
    "    return features"
   ]
  },
  {
   "cell_type": "code",
   "execution_count": 12,
   "metadata": {},
   "outputs": [],
   "source": [
    "train_dir, validation_dir, test_dir = prepare_dir(base_dir)"
   ]
  },
  {
   "cell_type": "code",
   "execution_count": 13,
   "metadata": {},
   "outputs": [
    {
     "name": "stdout",
     "output_type": "stream",
     "text": [
      "Max. img cats: 1000; current n_cats: 1000\n",
      "Max. img dogs: 1000; current n_dogs: 1000\n",
      "Max. img cats: 500; current n_cats: 500\n",
      "Max. img dogs: 500; current n_dogs: 500\n"
     ]
    }
   ],
   "source": [
    "dataset_dir = os.path.join(base_dir, 'train-set')\n",
    "prepare_samples(dataset_dir, train_dir, train_index)\n",
    "prepare_samples(dataset_dir, validation_dir, validation_index)"
   ]
  },
  {
   "cell_type": "code",
   "execution_count": 14,
   "metadata": {},
   "outputs": [
    {
     "name": "stdout",
     "output_type": "stream",
     "text": [
      "Found 2000 images belonging to 2 classes.\n"
     ]
    }
   ],
   "source": [
    "train_features, train_labels = extract_features_train(train_dir, 2 * train_size)"
   ]
  },
  {
   "cell_type": "code",
   "execution_count": 15,
   "metadata": {},
   "outputs": [
    {
     "name": "stdout",
     "output_type": "stream",
     "text": [
      "Found 1000 images belonging to 2 classes.\n"
     ]
    }
   ],
   "source": [
    "validation_features, validation_labels = extract_features_train(validation_dir, 2 * validation_size)"
   ]
  },
  {
   "cell_type": "code",
   "execution_count": 16,
   "metadata": {},
   "outputs": [
    {
     "ename": "FileNotFoundError",
     "evalue": "[Errno 2] No such file or directory: 'data\\\\dogs-vs-cats_dataset\\\\test-set\\\\0.jpg'",
     "output_type": "error",
     "traceback": [
      "\u001b[1;31m---------------------------------------------------------------------------\u001b[0m",
      "\u001b[1;31mFileNotFoundError\u001b[0m                         Traceback (most recent call last)",
      "\u001b[1;32m<ipython-input-16-05bba3d3cb02>\u001b[0m in \u001b[0;36m<module>\u001b[1;34m\u001b[0m\n\u001b[0;32m      1\u001b[0m \u001b[0mdataset_dir\u001b[0m \u001b[1;33m=\u001b[0m \u001b[0mos\u001b[0m\u001b[1;33m.\u001b[0m\u001b[0mpath\u001b[0m\u001b[1;33m.\u001b[0m\u001b[0mjoin\u001b[0m\u001b[1;33m(\u001b[0m\u001b[0mbase_dir\u001b[0m\u001b[1;33m,\u001b[0m \u001b[1;34m'test-set'\u001b[0m\u001b[1;33m)\u001b[0m\u001b[1;33m\u001b[0m\u001b[1;33m\u001b[0m\u001b[0m\n\u001b[1;32m----> 2\u001b[1;33m \u001b[0mprepare_test_samples\u001b[0m\u001b[1;33m(\u001b[0m\u001b[0mdataset_dir\u001b[0m\u001b[1;33m,\u001b[0m \u001b[0mtest_dir\u001b[0m\u001b[1;33m,\u001b[0m \u001b[0mtest_index\u001b[0m\u001b[1;33m)\u001b[0m\u001b[1;33m\u001b[0m\u001b[1;33m\u001b[0m\u001b[0m\n\u001b[0m",
      "\u001b[1;32m<ipython-input-9-631caac89726>\u001b[0m in \u001b[0;36mprepare_test_samples\u001b[1;34m(dataset_dir, dest_dir, random_ref)\u001b[0m\n\u001b[0;32m     47\u001b[0m             \u001b[0msrc\u001b[0m \u001b[1;33m=\u001b[0m \u001b[0mos\u001b[0m\u001b[1;33m.\u001b[0m\u001b[0mpath\u001b[0m\u001b[1;33m.\u001b[0m\u001b[0mjoin\u001b[0m\u001b[1;33m(\u001b[0m\u001b[0mdataset_dir\u001b[0m\u001b[1;33m,\u001b[0m \u001b[0mfname\u001b[0m\u001b[1;33m)\u001b[0m\u001b[1;33m\u001b[0m\u001b[1;33m\u001b[0m\u001b[0m\n\u001b[0;32m     48\u001b[0m             \u001b[0mdst\u001b[0m \u001b[1;33m=\u001b[0m \u001b[0mos\u001b[0m\u001b[1;33m.\u001b[0m\u001b[0mpath\u001b[0m\u001b[1;33m.\u001b[0m\u001b[0mjoin\u001b[0m\u001b[1;33m(\u001b[0m\u001b[0mdest_dir\u001b[0m\u001b[1;33m,\u001b[0m \u001b[0mfname\u001b[0m\u001b[1;33m)\u001b[0m\u001b[1;33m\u001b[0m\u001b[1;33m\u001b[0m\u001b[0m\n\u001b[1;32m---> 49\u001b[1;33m             \u001b[0mshutil\u001b[0m\u001b[1;33m.\u001b[0m\u001b[0mcopyfile\u001b[0m\u001b[1;33m(\u001b[0m\u001b[0msrc\u001b[0m\u001b[1;33m,\u001b[0m \u001b[0mdst\u001b[0m\u001b[1;33m)\u001b[0m\u001b[1;33m\u001b[0m\u001b[1;33m\u001b[0m\u001b[0m\n\u001b[0m",
      "\u001b[1;32mD:\\Programs\\anaconda\\lib\\shutil.py\u001b[0m in \u001b[0;36mcopyfile\u001b[1;34m(src, dst, follow_symlinks)\u001b[0m\n\u001b[0;32m    118\u001b[0m         \u001b[0mos\u001b[0m\u001b[1;33m.\u001b[0m\u001b[0msymlink\u001b[0m\u001b[1;33m(\u001b[0m\u001b[0mos\u001b[0m\u001b[1;33m.\u001b[0m\u001b[0mreadlink\u001b[0m\u001b[1;33m(\u001b[0m\u001b[0msrc\u001b[0m\u001b[1;33m)\u001b[0m\u001b[1;33m,\u001b[0m \u001b[0mdst\u001b[0m\u001b[1;33m)\u001b[0m\u001b[1;33m\u001b[0m\u001b[1;33m\u001b[0m\u001b[0m\n\u001b[0;32m    119\u001b[0m     \u001b[1;32melse\u001b[0m\u001b[1;33m:\u001b[0m\u001b[1;33m\u001b[0m\u001b[1;33m\u001b[0m\u001b[0m\n\u001b[1;32m--> 120\u001b[1;33m         \u001b[1;32mwith\u001b[0m \u001b[0mopen\u001b[0m\u001b[1;33m(\u001b[0m\u001b[0msrc\u001b[0m\u001b[1;33m,\u001b[0m \u001b[1;34m'rb'\u001b[0m\u001b[1;33m)\u001b[0m \u001b[1;32mas\u001b[0m \u001b[0mfsrc\u001b[0m\u001b[1;33m:\u001b[0m\u001b[1;33m\u001b[0m\u001b[1;33m\u001b[0m\u001b[0m\n\u001b[0m\u001b[0;32m    121\u001b[0m             \u001b[1;32mwith\u001b[0m \u001b[0mopen\u001b[0m\u001b[1;33m(\u001b[0m\u001b[0mdst\u001b[0m\u001b[1;33m,\u001b[0m \u001b[1;34m'wb'\u001b[0m\u001b[1;33m)\u001b[0m \u001b[1;32mas\u001b[0m \u001b[0mfdst\u001b[0m\u001b[1;33m:\u001b[0m\u001b[1;33m\u001b[0m\u001b[1;33m\u001b[0m\u001b[0m\n\u001b[0;32m    122\u001b[0m                 \u001b[0mcopyfileobj\u001b[0m\u001b[1;33m(\u001b[0m\u001b[0mfsrc\u001b[0m\u001b[1;33m,\u001b[0m \u001b[0mfdst\u001b[0m\u001b[1;33m)\u001b[0m\u001b[1;33m\u001b[0m\u001b[1;33m\u001b[0m\u001b[0m\n",
      "\u001b[1;31mFileNotFoundError\u001b[0m: [Errno 2] No such file or directory: 'data\\\\dogs-vs-cats_dataset\\\\test-set\\\\0.jpg'"
     ]
    }
   ],
   "source": [
    "dataset_dir = os.path.join(base_dir, 'test-set')\n",
    "prepare_test_samples(dataset_dir, test_dir, test_index)"
   ]
  },
  {
   "cell_type": "code",
   "execution_count": null,
   "metadata": {},
   "outputs": [],
   "source": [
    "test_features = extract_features_test(test_dir, test_size)"
   ]
  },
  {
   "cell_type": "code",
   "execution_count": null,
   "metadata": {},
   "outputs": [],
   "source": [
    "train_features = np.reshape(train_features, (2 * train_size, 4 * 4 * 512))\n",
    "validation_features = np.reshape(validation_features, (2 * validation_size, 4 * 4 * 512))\n",
    "test_features = np.reshape(test_features, (test_size, 4 * 4 * 512))"
   ]
  },
  {
   "cell_type": "code",
   "execution_count": 48,
   "metadata": {},
   "outputs": [],
   "source": [
    "# Preparação de classificador densely connected para realizar a tarefa de classificação pelas features extraídas\n",
    "model = models.Sequential()\n",
    "model.add(layers.Dense(256, activation='relu', input_dim=4 * 4 * 512))\n",
    "model.add(layers.Dropout(0.5))\n",
    "model.add(layers.Dense(1, activation='sigmoid'))\n",
    "model.compile(optimizer=optimizers.RMSprop(lr=2e-5), loss='binary_crossentropy', metrics=['acc'])"
   ]
  },
  {
   "cell_type": "code",
   "execution_count": 49,
   "metadata": {},
   "outputs": [
    {
     "name": "stdout",
     "output_type": "stream",
     "text": [
      "Epoch 1/30\n",
      "100/100 [==============================] - 2s 19ms/step - loss: 0.5759 - acc: 0.7020 - val_loss: 0.4304 - val_acc: 0.8400\n",
      "Epoch 2/30\n",
      "100/100 [==============================] - 2s 16ms/step - loss: 0.4285 - acc: 0.8065 - val_loss: 0.3767 - val_acc: 0.8570\n",
      "Epoch 3/30\n",
      "100/100 [==============================] - 2s 16ms/step - loss: 0.3437 - acc: 0.8655 - val_loss: 0.3443 - val_acc: 0.8500\n",
      "Epoch 4/30\n",
      "100/100 [==============================] - 2s 16ms/step - loss: 0.3123 - acc: 0.8730 - val_loss: 0.3160 - val_acc: 0.8730\n",
      "Epoch 5/30\n",
      "100/100 [==============================] - 2s 16ms/step - loss: 0.2838 - acc: 0.8760 - val_loss: 0.3208 - val_acc: 0.8550\n",
      "Epoch 6/30\n",
      "100/100 [==============================] - 2s 16ms/step - loss: 0.2598 - acc: 0.8945 - val_loss: 0.2965 - val_acc: 0.8720\n",
      "Epoch 7/30\n",
      "100/100 [==============================] - 2s 16ms/step - loss: 0.2438 - acc: 0.9030 - val_loss: 0.2907 - val_acc: 0.8740\n",
      "Epoch 8/30\n",
      "100/100 [==============================] - 2s 16ms/step - loss: 0.2291 - acc: 0.9090 - val_loss: 0.2834 - val_acc: 0.8830\n",
      "Epoch 9/30\n",
      "100/100 [==============================] - 2s 15ms/step - loss: 0.2087 - acc: 0.9240 - val_loss: 0.2799 - val_acc: 0.8850\n",
      "Epoch 10/30\n",
      "100/100 [==============================] - 2s 16ms/step - loss: 0.2025 - acc: 0.9260 - val_loss: 0.2776 - val_acc: 0.8850\n",
      "Epoch 11/30\n",
      "100/100 [==============================] - 2s 16ms/step - loss: 0.1903 - acc: 0.9275 - val_loss: 0.2807 - val_acc: 0.8740\n",
      "Epoch 12/30\n",
      "100/100 [==============================] - 2s 16ms/step - loss: 0.1780 - acc: 0.9400 - val_loss: 0.2935 - val_acc: 0.8700\n",
      "Epoch 13/30\n",
      "100/100 [==============================] - 2s 16ms/step - loss: 0.1693 - acc: 0.9400 - val_loss: 0.2843 - val_acc: 0.8810\n",
      "Epoch 14/30\n",
      "100/100 [==============================] - 2s 16ms/step - loss: 0.1649 - acc: 0.9430 - val_loss: 0.2754 - val_acc: 0.8860\n",
      "Epoch 15/30\n",
      "100/100 [==============================] - 2s 16ms/step - loss: 0.1564 - acc: 0.9465 - val_loss: 0.2718 - val_acc: 0.8850\n",
      "Epoch 16/30\n",
      "100/100 [==============================] - 2s 16ms/step - loss: 0.1491 - acc: 0.9490 - val_loss: 0.2758 - val_acc: 0.8750\n",
      "Epoch 17/30\n",
      "100/100 [==============================] - 2s 16ms/step - loss: 0.1398 - acc: 0.9530 - val_loss: 0.2920 - val_acc: 0.8710\n",
      "Epoch 18/30\n",
      "100/100 [==============================] - 2s 16ms/step - loss: 0.1356 - acc: 0.9555 - val_loss: 0.2718 - val_acc: 0.8860\n",
      "Epoch 19/30\n",
      "100/100 [==============================] - 2s 16ms/step - loss: 0.1317 - acc: 0.9555 - val_loss: 0.2796 - val_acc: 0.8710\n",
      "Epoch 20/30\n",
      "100/100 [==============================] - 2s 16ms/step - loss: 0.1257 - acc: 0.9600 - val_loss: 0.2737 - val_acc: 0.8820\n",
      "Epoch 21/30\n",
      "100/100 [==============================] - 2s 16ms/step - loss: 0.1153 - acc: 0.9610 - val_loss: 0.2746 - val_acc: 0.8820\n",
      "Epoch 22/30\n",
      "100/100 [==============================] - 2s 16ms/step - loss: 0.1153 - acc: 0.9640 - val_loss: 0.2739 - val_acc: 0.8830\n",
      "Epoch 23/30\n",
      "100/100 [==============================] - 2s 16ms/step - loss: 0.1153 - acc: 0.9625 - val_loss: 0.2789 - val_acc: 0.8780\n",
      "Epoch 24/30\n",
      "100/100 [==============================] - 2s 16ms/step - loss: 0.1074 - acc: 0.9675 - val_loss: 0.2830 - val_acc: 0.8760\n",
      "Epoch 25/30\n",
      "100/100 [==============================] - 2s 16ms/step - loss: 0.1009 - acc: 0.9715 - val_loss: 0.2768 - val_acc: 0.8870\n",
      "Epoch 26/30\n",
      "100/100 [==============================] - 2s 16ms/step - loss: 0.0931 - acc: 0.9755 - val_loss: 0.2833 - val_acc: 0.8790\n",
      "Epoch 27/30\n",
      "100/100 [==============================] - 2s 16ms/step - loss: 0.0941 - acc: 0.9710 - val_loss: 0.2797 - val_acc: 0.8820\n",
      "Epoch 28/30\n",
      "100/100 [==============================] - 2s 17ms/step - loss: 0.0922 - acc: 0.9765 - val_loss: 0.2806 - val_acc: 0.8820\n",
      "Epoch 29/30\n",
      "100/100 [==============================] - 2s 16ms/step - loss: 0.0855 - acc: 0.9775 - val_loss: 0.2973 - val_acc: 0.8780\n",
      "Epoch 30/30\n",
      "100/100 [==============================] - 2s 15ms/step - loss: 0.0840 - acc: 0.9780 - val_loss: 0.2858 - val_acc: 0.8820\n"
     ]
    }
   ],
   "source": [
    "history = model.fit(train_features, train_labels, epochs=30, batch_size=20, \n",
    "                    validation_data=(validation_features, validation_labels))"
   ]
  },
  {
   "cell_type": "code",
   "execution_count": 50,
   "metadata": {},
   "outputs": [],
   "source": [
    "acc = history.history['acc']\n",
    "val_acc = history.history['val_acc']\n",
    "loss = history.history['loss']\n",
    "val_loss = history.history['val_loss']\n",
    "epochs = range(1, len(acc) + 1)"
   ]
  },
  {
   "cell_type": "code",
   "execution_count": 51,
   "metadata": {},
   "outputs": [
    {
     "data": {
      "text/plain": [
       "<Figure size 432x288 with 0 Axes>"
      ]
     },
     "execution_count": 51,
     "metadata": {},
     "output_type": "execute_result"
    },
    {
     "data": {
      "image/png": "[encoded data removed]",
      "text/plain": [
       "<Figure size 432x288 with 1 Axes>"
      ]
     },
     "metadata": {
      "needs_background": "light"
     },
     "output_type": "display_data"
    },
    {
     "data": {
      "text/plain": [
       "<Figure size 432x288 with 0 Axes>"
      ]
     },
     "metadata": {},
     "output_type": "display_data"
    }
   ],
   "source": [
    "plt.plot(epochs, acc, 'bo', label='Training acc')\n",
    "plt.plot(epochs, val_acc, 'b', label='Validation acc')\n",
    "plt.title('Training and validation accuracy')\n",
    "plt.legend()\n",
    "plt.figure()"
   ]
  },
  {
   "cell_type": "code",
   "execution_count": 52,
   "metadata": {},
   "outputs": [
    {
     "data": {
      "image/png": "[encoded data removed]",
      "text/plain": [
       "<Figure size 432x288 with 1 Axes>"
      ]
     },
     "metadata": {
      "needs_background": "light"
     },
     "output_type": "display_data"
    }
   ],
   "source": [
    "plt.plot(epochs, loss, 'bo', label='Training loss')\n",
    "plt.plot(epochs, val_loss, 'b', label='Validation loss')\n",
    "plt.title('Training and validation loss')\n",
    "plt.legend()\n",
    "plt.show()"
   ]
  },
  {
   "cell_type": "markdown",
   "metadata": {},
   "source": [
    "#### Test on Unseen Data"
   ]
  },
  {
   "cell_type": "code",
   "execution_count": 18,
   "metadata": {},
   "outputs": [],
   "source": [
    "# REALIZAR A PREDIÇÃO COM O MODEL USANDO O CONJUNTO DE TESTE NÃO ETIQUETADO E VERIFICAR A ESTATISTICA DO TESTE"
   ]
  },
  {
   "cell_type": "code",
   "execution_count": null,
   "metadata": {},
   "outputs": [],
   "source": []
  },
  {
   "cell_type": "code",
   "execution_count": null,
   "metadata": {},
   "outputs": [],
   "source": []
  },
  {
   "cell_type": "code",
   "execution_count": null,
   "metadata": {},
   "outputs": [],
   "source": []
  },
  {
   "cell_type": "code",
   "execution_count": null,
   "metadata": {},
   "outputs": [],
   "source": []
  },
  {
   "cell_type": "code",
   "execution_count": null,
   "metadata": {},
   "outputs": [],
   "source": []
  }
 ],
 "metadata": {
  "kernelspec": {
   "display_name": "Python 3",
   "language": "python",
   "name": "python3"
  },
  "language_info": {
   "codemirror_mode": {
    "name": "ipython",
    "version": 3
   },
   "file_extension": ".py",
   "mimetype": "text/x-python",
   "name": "python",
   "nbconvert_exporter": "python",
   "pygments_lexer": "ipython3",
   "version": "3.7.6"
  }
 },
 "nbformat": 4,
 "nbformat_minor": 4
}
