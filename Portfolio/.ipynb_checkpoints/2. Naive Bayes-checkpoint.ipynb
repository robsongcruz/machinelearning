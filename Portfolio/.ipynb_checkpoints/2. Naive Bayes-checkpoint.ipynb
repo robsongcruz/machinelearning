{
 "cells": [
  {
   "cell_type": "markdown",
   "metadata": {},
   "source": [
    "<img src='stats/img/topbar.png' />"
   ]
  },
  {
   "cell_type": "markdown",
   "metadata": {},
   "source": [
    "## Supervised Learning - Classificação"
   ]
  },
  {
   "cell_type": "markdown",
   "metadata": {},
   "source": [
    "__CONTEÚDO:__<br>\n",
    "* [1. Naive Bayes](#1.)\n",
    "* [1.1 Exemplo 1: Análise de Crédito](#1.1)"
   ]
  },
  {
   "cell_type": "markdown",
   "metadata": {},
   "source": [
    "<a id=\"1.\"></a><br>\n",
    "### 1. Naive Bayes"
   ]
  },
  {
   "cell_type": "markdown",
   "metadata": {},
   "source": [
    "* Baseado no Teorema de Bayes:\n",
    "  \n",
    "  ${P(A_{i}| B)} = \\frac{ P(B | A_{i}).P(A_{i}) }{\\sum \\limits _{j=1} ^{p} P(B | A_{j}).P(A_{j}) } = \\frac{ P(B | A_{i}).P(A_{i}) }{P(B)}$\n",
    "  \n",
    "* Presume-se que o efeito de um certo parâmetro em uma classe é independente dos demais.\n",
    "* Apresenta um bom desempenho (métrico) mesmo com algum grau de dependência entre os parâmetros.\n",
    "* Como tem baixo custo computacional, pode ser usado em casos de muitas variáveis.\n",
    "* Permite incluir as probabilidades a priori na instanciação do classificador (na falta, de acordo com os dados)\n",
    "\n",
    "<img src='stats/img/prob_total.png' width=400 />"
   ]
  },
  {
   "cell_type": "markdown",
   "metadata": {},
   "source": [
    "<a id=\"1.1\"></a><br>\n",
    "### 1.1 Exemplo 1: Análise de Crédito"
   ]
  },
  {
   "cell_type": "markdown",
   "metadata": {},
   "source": [
    "* [1. Preparação do problema](#1.)\n",
    "* [2. Sumarizar Dados](#2.)\n",
    "* [3. Preparar Dados](#3.)\n",
    "* [4. Avaliar algoritmo(s)](#4.)\n",
    "* [5. Melhorar Modelo(s)](#5.)"
   ]
  },
  {
   "cell_type": "markdown",
   "metadata": {},
   "source": [
    "<a id=\"1.\"></a><br>\n",
    "#### 1. Preparação do problema\n",
    "* a) Esclarecer o problema\n",
    "* b) Carregar libraries\n",
    "* c) Carregar dataset"
   ]
  },
  {
   "cell_type": "markdown",
   "metadata": {},
   "source": [
    "- Base de dados que contém diversas características de clientes pelas quais deve-se perceber bons e maus pagadores"
   ]
  },
  {
   "cell_type": "code",
   "execution_count": 6,
   "metadata": {},
   "outputs": [],
   "source": [
    "import pandas as pd\n",
    "import matplotlib.pyplot as plt\n",
    "import seaborn as sns\n",
    "from sklearn.model_selection import train_test_split, KFold, cross_val_score\n",
    "from sklearn.naive_bayes import GaussianNB\n",
    "from sklearn.preprocessing import LabelEncoder\n",
    "from sklearn.metrics import plot_confusion_matrix, confusion_matrix, accuracy_score, classification_report\n",
    "from sklearn.ensemble import ExtraTreesClassifier\n",
    "%matplotlib inline"
   ]
  },
  {
   "cell_type": "code",
   "execution_count": 3,
   "metadata": {},
   "outputs": [],
   "source": [
    "#Preparação dos dados\n",
    "df = pd.read_csv('data/Credit.csv')"
   ]
  },
  {
   "cell_type": "markdown",
   "metadata": {},
   "source": [
    "<a id=\"2.\"></a><br>\n",
    "#### 2. Sumarizar Dados\n",
    "* a) Estatística descritiva\n",
    "* b) Visualização de dados e estrutura\n",
    "* c) EDA"
   ]
  },
  {
   "cell_type": "code",
   "execution_count": 4,
   "metadata": {},
   "outputs": [
    {
     "name": "stdout",
     "output_type": "stream",
     "text": [
      "<class 'pandas.core.frame.DataFrame'>\n",
      "RangeIndex: 1000 entries, 0 to 999\n",
      "Data columns (total 21 columns):\n",
      " #   Column                  Non-Null Count  Dtype \n",
      "---  ------                  --------------  ----- \n",
      " 0   checking_status         1000 non-null   object\n",
      " 1   duration                1000 non-null   int64 \n",
      " 2   credit_history          1000 non-null   object\n",
      " 3   purpose                 1000 non-null   object\n",
      " 4   credit_amount           1000 non-null   int64 \n",
      " 5   savings_status          1000 non-null   object\n",
      " 6   employment              1000 non-null   object\n",
      " 7   installment_commitment  1000 non-null   int64 \n",
      " 8   personal_status         1000 non-null   object\n",
      " 9   other_parties           1000 non-null   object\n",
      " 10  residence_since         1000 non-null   int64 \n",
      " 11  property_magnitude      1000 non-null   object\n",
      " 12  age                     1000 non-null   int64 \n",
      " 13  other_payment_plans     1000 non-null   object\n",
      " 14  housing                 1000 non-null   object\n",
      " 15  existing_credits        1000 non-null   int64 \n",
      " 16  job                     1000 non-null   object\n",
      " 17  num_dependents          1000 non-null   int64 \n",
      " 18  own_telephone           1000 non-null   object\n",
      " 19  foreign_worker          1000 non-null   object\n",
      " 20  class                   1000 non-null   object\n",
      "dtypes: int64(7), object(14)\n",
      "memory usage: 164.2+ KB\n"
     ]
    }
   ],
   "source": [
    "df.info()"
   ]
  },
  {
   "cell_type": "code",
   "execution_count": 5,
   "metadata": {},
   "outputs": [
    {
     "data": {
      "text/html": [
       "<div>\n",
       "<style scoped>\n",
       "    .dataframe tbody tr th:only-of-type {\n",
       "        vertical-align: middle;\n",
       "    }\n",
       "\n",
       "    .dataframe tbody tr th {\n",
       "        vertical-align: top;\n",
       "    }\n",
       "\n",
       "    .dataframe thead th {\n",
       "        text-align: right;\n",
       "    }\n",
       "</style>\n",
       "<table border=\"1\" class=\"dataframe\">\n",
       "  <thead>\n",
       "    <tr style=\"text-align: right;\">\n",
       "      <th></th>\n",
       "      <th>checking_status</th>\n",
       "      <th>duration</th>\n",
       "      <th>credit_history</th>\n",
       "      <th>purpose</th>\n",
       "      <th>credit_amount</th>\n",
       "      <th>savings_status</th>\n",
       "      <th>employment</th>\n",
       "      <th>installment_commitment</th>\n",
       "      <th>personal_status</th>\n",
       "      <th>other_parties</th>\n",
       "      <th>...</th>\n",
       "      <th>property_magnitude</th>\n",
       "      <th>age</th>\n",
       "      <th>other_payment_plans</th>\n",
       "      <th>housing</th>\n",
       "      <th>existing_credits</th>\n",
       "      <th>job</th>\n",
       "      <th>num_dependents</th>\n",
       "      <th>own_telephone</th>\n",
       "      <th>foreign_worker</th>\n",
       "      <th>class</th>\n",
       "    </tr>\n",
       "  </thead>\n",
       "  <tbody>\n",
       "    <tr>\n",
       "      <th>0</th>\n",
       "      <td>&lt;0</td>\n",
       "      <td>6</td>\n",
       "      <td>'critical/other existing credit'</td>\n",
       "      <td>radio/tv</td>\n",
       "      <td>1169</td>\n",
       "      <td>'no known savings'</td>\n",
       "      <td>&gt;=7</td>\n",
       "      <td>4</td>\n",
       "      <td>'male single'</td>\n",
       "      <td>none</td>\n",
       "      <td>...</td>\n",
       "      <td>'real estate'</td>\n",
       "      <td>67</td>\n",
       "      <td>none</td>\n",
       "      <td>own</td>\n",
       "      <td>2</td>\n",
       "      <td>skilled</td>\n",
       "      <td>1</td>\n",
       "      <td>yes</td>\n",
       "      <td>yes</td>\n",
       "      <td>good</td>\n",
       "    </tr>\n",
       "    <tr>\n",
       "      <th>1</th>\n",
       "      <td>0&lt;=X&lt;200</td>\n",
       "      <td>48</td>\n",
       "      <td>'existing paid'</td>\n",
       "      <td>radio/tv</td>\n",
       "      <td>5951</td>\n",
       "      <td>&lt;100</td>\n",
       "      <td>1&lt;=X&lt;4</td>\n",
       "      <td>2</td>\n",
       "      <td>'female div/dep/mar'</td>\n",
       "      <td>none</td>\n",
       "      <td>...</td>\n",
       "      <td>'real estate'</td>\n",
       "      <td>22</td>\n",
       "      <td>none</td>\n",
       "      <td>own</td>\n",
       "      <td>1</td>\n",
       "      <td>skilled</td>\n",
       "      <td>1</td>\n",
       "      <td>none</td>\n",
       "      <td>yes</td>\n",
       "      <td>bad</td>\n",
       "    </tr>\n",
       "    <tr>\n",
       "      <th>2</th>\n",
       "      <td>'no checking'</td>\n",
       "      <td>12</td>\n",
       "      <td>'critical/other existing credit'</td>\n",
       "      <td>education</td>\n",
       "      <td>2096</td>\n",
       "      <td>&lt;100</td>\n",
       "      <td>4&lt;=X&lt;7</td>\n",
       "      <td>2</td>\n",
       "      <td>'male single'</td>\n",
       "      <td>none</td>\n",
       "      <td>...</td>\n",
       "      <td>'real estate'</td>\n",
       "      <td>49</td>\n",
       "      <td>none</td>\n",
       "      <td>own</td>\n",
       "      <td>1</td>\n",
       "      <td>'unskilled resident'</td>\n",
       "      <td>2</td>\n",
       "      <td>none</td>\n",
       "      <td>yes</td>\n",
       "      <td>good</td>\n",
       "    </tr>\n",
       "    <tr>\n",
       "      <th>3</th>\n",
       "      <td>&lt;0</td>\n",
       "      <td>42</td>\n",
       "      <td>'existing paid'</td>\n",
       "      <td>furniture/equipment</td>\n",
       "      <td>7882</td>\n",
       "      <td>&lt;100</td>\n",
       "      <td>4&lt;=X&lt;7</td>\n",
       "      <td>2</td>\n",
       "      <td>'male single'</td>\n",
       "      <td>guarantor</td>\n",
       "      <td>...</td>\n",
       "      <td>'life insurance'</td>\n",
       "      <td>45</td>\n",
       "      <td>none</td>\n",
       "      <td>'for free'</td>\n",
       "      <td>1</td>\n",
       "      <td>skilled</td>\n",
       "      <td>2</td>\n",
       "      <td>none</td>\n",
       "      <td>yes</td>\n",
       "      <td>good</td>\n",
       "    </tr>\n",
       "    <tr>\n",
       "      <th>4</th>\n",
       "      <td>&lt;0</td>\n",
       "      <td>24</td>\n",
       "      <td>'delayed previously'</td>\n",
       "      <td>'new car'</td>\n",
       "      <td>4870</td>\n",
       "      <td>&lt;100</td>\n",
       "      <td>1&lt;=X&lt;4</td>\n",
       "      <td>3</td>\n",
       "      <td>'male single'</td>\n",
       "      <td>none</td>\n",
       "      <td>...</td>\n",
       "      <td>'no known property'</td>\n",
       "      <td>53</td>\n",
       "      <td>none</td>\n",
       "      <td>'for free'</td>\n",
       "      <td>2</td>\n",
       "      <td>skilled</td>\n",
       "      <td>2</td>\n",
       "      <td>none</td>\n",
       "      <td>yes</td>\n",
       "      <td>bad</td>\n",
       "    </tr>\n",
       "  </tbody>\n",
       "</table>\n",
       "<p>5 rows × 21 columns</p>\n",
       "</div>"
      ],
      "text/plain": [
       "  checking_status  duration                    credit_history  \\\n",
       "0              <0         6  'critical/other existing credit'   \n",
       "1        0<=X<200        48                   'existing paid'   \n",
       "2   'no checking'        12  'critical/other existing credit'   \n",
       "3              <0        42                   'existing paid'   \n",
       "4              <0        24              'delayed previously'   \n",
       "\n",
       "               purpose  credit_amount      savings_status employment  \\\n",
       "0             radio/tv           1169  'no known savings'        >=7   \n",
       "1             radio/tv           5951                <100     1<=X<4   \n",
       "2            education           2096                <100     4<=X<7   \n",
       "3  furniture/equipment           7882                <100     4<=X<7   \n",
       "4            'new car'           4870                <100     1<=X<4   \n",
       "\n",
       "   installment_commitment       personal_status other_parties  ...  \\\n",
       "0                       4         'male single'          none  ...   \n",
       "1                       2  'female div/dep/mar'          none  ...   \n",
       "2                       2         'male single'          none  ...   \n",
       "3                       2         'male single'     guarantor  ...   \n",
       "4                       3         'male single'          none  ...   \n",
       "\n",
       "    property_magnitude age  other_payment_plans     housing existing_credits  \\\n",
       "0        'real estate'  67                 none         own                2   \n",
       "1        'real estate'  22                 none         own                1   \n",
       "2        'real estate'  49                 none         own                1   \n",
       "3     'life insurance'  45                 none  'for free'                1   \n",
       "4  'no known property'  53                 none  'for free'                2   \n",
       "\n",
       "                    job num_dependents  own_telephone foreign_worker class  \n",
       "0               skilled              1            yes            yes  good  \n",
       "1               skilled              1           none            yes   bad  \n",
       "2  'unskilled resident'              2           none            yes  good  \n",
       "3               skilled              2           none            yes  good  \n",
       "4               skilled              2           none            yes   bad  \n",
       "\n",
       "[5 rows x 21 columns]"
      ]
     },
     "execution_count": 5,
     "metadata": {},
     "output_type": "execute_result"
    }
   ],
   "source": [
    "df.head()"
   ]
  },
  {
   "cell_type": "code",
   "execution_count": 9,
   "metadata": {},
   "outputs": [
    {
     "data": {
      "text/plain": [
       "<matplotlib.axes._subplots.AxesSubplot at 0x23cb7c268c8>"
      ]
     },
     "execution_count": 9,
     "metadata": {},
     "output_type": "execute_result"
    },
    {
     "data": {
      "image/png": "[encoded data removed]",
      "text/plain": [
       "<Figure size 432x288 with 2 Axes>"
      ]
     },
     "metadata": {
      "needs_background": "light"
     },
     "output_type": "display_data"
    }
   ],
   "source": [
    "sns.heatmap(df.drop('class', axis=1).corr(), annot=True, cmap='RdYlBu')"
   ]
  },
  {
   "cell_type": "markdown",
   "metadata": {},
   "source": [
    "<a id=\"3.\"></a><br>\n",
    "#### 3. Preparar Dados\n",
    "* a) Limpeza de dados\n",
    "* b) Seleção de características\n",
    "* c) Transformação dos dados\n",
    "* d) Dividir conjunto de dados em partes de treino e teste/validação"
   ]
  },
  {
   "cell_type": "code",
   "execution_count": 72,
   "metadata": {},
   "outputs": [],
   "source": [
    "# Conversão de parâmetros para formato apropriado (numérico)\n",
    "labelencoder = LabelEncoder()\n",
    "df['checking_status'] = labelencoder.fit_transform(df['checking_status'])\n",
    "df['credit_history'] = labelencoder.fit_transform(df['credit_history'])\n",
    "df['purpose'] = labelencoder.fit_transform(df['purpose'])\n",
    "df['savings_status'] = labelencoder.fit_transform(df['savings_status'])\n",
    "df['employment'] = labelencoder.fit_transform(df['employment'])\n",
    "df['personal_status'] = labelencoder.fit_transform(df['personal_status'])\n",
    "df['property_magnitude'] = labelencoder.fit_transform(df['property_magnitude'])\n",
    "df['other_parties'] = labelencoder.fit_transform(df['other_parties'])\n",
    "df['property_magnitude'] = labelencoder.fit_transform(df['property_magnitude'])\n",
    "df['other_payment_plans'] = labelencoder.fit_transform(df['other_payment_plans'])\n",
    "df['housing'] = labelencoder.fit_transform(df['housing'])\n",
    "df['job'] = labelencoder.fit_transform(df['job'])\n",
    "df['own_telephone'] = labelencoder.fit_transform(df['own_telephone'])\n",
    "df['foreign_worker'] = labelencoder.fit_transform(df['foreign_worker'])"
   ]
  },
  {
   "cell_type": "code",
   "execution_count": 73,
   "metadata": {},
   "outputs": [],
   "source": [
    "#Separação de conjunto de dados\n",
    "X = df.drop('class', axis=1)\n",
    "y = df['class']\n",
    "X_train, X_test, y_train, y_test = train_test_split(X, y, test_size = 0.3, random_state = 0)"
   ]
  },
  {
   "cell_type": "markdown",
   "metadata": {},
   "source": [
    "<a id=\"4.\"></a><br>\n",
    "#### 4. Avaliar algoritmos\n",
    "* a) Treinar algoritmos com o conjunto de treino\n",
    "* b) Avaliar desempenho no conjunto de teste"
   ]
  },
  {
   "cell_type": "code",
   "execution_count": 74,
   "metadata": {},
   "outputs": [],
   "source": [
    "models = []\n",
    "models.append(('Naive Bayes', GaussianNB()))\n",
    "models.append(('ExTree', ExtraTreesClassifier()))"
   ]
  },
  {
   "cell_type": "code",
   "execution_count": 90,
   "metadata": {},
   "outputs": [
    {
     "name": "stdout",
     "output_type": "stream",
     "text": [
      "Naive Bayes: 0.692857 (0.022361)\n",
      "ExTree: 0.720000 (0.045266)\n"
     ]
    }
   ],
   "source": [
    "num_folds = 10\n",
    "scoring = 'accuracy'\n",
    "results = []\n",
    "names = []\n",
    "for name, model in models:\n",
    "    kfold = KFold(n_splits=num_folds)\n",
    "    cv_results = cross_val_score(model, X_train, y_train, cv=kfold, scoring=scoring)\n",
    "    results.append(cv_results)\n",
    "    names.append(name)\n",
    "    msg = \"%s: %f (%f)\" % (name, cv_results.mean(), cv_results.std())\n",
    "    print(msg)"
   ]
  },
  {
   "cell_type": "markdown",
   "metadata": {},
   "source": [
    "<a id=\"5.\"></a><br>\n",
    "#### 5. Melhorar Desempenho\n",
    "* a) Verificar desempenho do(s) algoritmo(s) com os dados normalizados ou padronizados.\n",
    "* b) Verificar desempenho do(s) algoritmo(s) em diferentes ajustes de parâmetros da técnica.\n",
    "* c) Avaliar relevância de atributos x ruídos."
   ]
  },
  {
   "cell_type": "code",
   "execution_count": 44,
   "metadata": {},
   "outputs": [
    {
     "data": {
      "text/plain": [
       "array([0.11167415, 0.08511376, 0.0642813 , 0.0601114 , 0.08059288,\n",
       "       0.04710711, 0.05582798, 0.04764024, 0.04596535, 0.02567461,\n",
       "       0.051476  , 0.04766989, 0.06419827, 0.03628062, 0.03627702,\n",
       "       0.03296284, 0.04335562, 0.02474222, 0.03096374, 0.00808501])"
      ]
     },
     "execution_count": 44,
     "metadata": {},
     "output_type": "execute_result"
    }
   ],
   "source": [
    "#Avaliação de relevância dos parâmetros por RandomForest\n",
    "forest = ExtraTreesClassifier()\n",
    "forest.fit(X_train, y_train)\n",
    "relevancia = forest.feature_importances_\n",
    "relevancia"
   ]
  },
  {
   "cell_type": "markdown",
   "metadata": {},
   "source": [
    "- Os dados apresentam as colunas (0, 1, 2, 3, 4, 6, 10) como mais relevantes. Essas posições serão usadas para realizar novo treinamento e verificação de desempenho"
   ]
  },
  {
   "cell_type": "code",
   "execution_count": 103,
   "metadata": {},
   "outputs": [],
   "source": [
    "selected = ['checking_status', 'duration', 'credit_history', 'purpose', 'credit_amount', \n",
    "            'employment', 'residence_since']\n",
    "X_train_tr = X_train[selected]\n",
    "X_test_tr = X_test[selected]"
   ]
  },
  {
   "cell_type": "code",
   "execution_count": 105,
   "metadata": {},
   "outputs": [
    {
     "name": "stdout",
     "output_type": "stream",
     "text": [
      "Naive Bayes: 0.702857 (0.026186)\n",
      "ExTree: 0.750000 (0.062678)\n"
     ]
    }
   ],
   "source": [
    "num_folds = 10\n",
    "scoring = 'accuracy'\n",
    "results = []\n",
    "names = []\n",
    "for name, model in models:\n",
    "    kfold = KFold(n_splits=num_folds)\n",
    "    cv_results = cross_val_score(model, X_train_tr, y_train, cv=kfold, scoring=scoring)\n",
    "    results.append(cv_results)\n",
    "    names.append(name)\n",
    "    msg = \"%s: %f (%f)\" % (name, cv_results.mean(), cv_results.std())\n",
    "    print(msg)"
   ]
  },
  {
   "cell_type": "code",
   "execution_count": 107,
   "metadata": {},
   "outputs": [
    {
     "name": "stdout",
     "output_type": "stream",
     "text": [
      "[[ 21  65]\n",
      " [ 19 195]]\n",
      "              precision    recall  f1-score   support\n",
      "\n",
      "         bad       0.53      0.24      0.33        86\n",
      "        good       0.75      0.91      0.82       214\n",
      "\n",
      "    accuracy                           0.72       300\n",
      "   macro avg       0.64      0.58      0.58       300\n",
      "weighted avg       0.69      0.72      0.68       300\n",
      "\n"
     ]
    }
   ],
   "source": [
    "#Testes\n",
    "naive_bayes = GaussianNB()\n",
    "naive_bayes.fit(X_train_tr, y_train)\n",
    "y_pred_nb = naive_bayes.predict(X_test_tr)\n",
    "\n",
    "print(confusion_matrix(y_test, y_pred_nb))\n",
    "print(classification_report(y_test, y_pred_nb))"
   ]
  },
  {
   "cell_type": "code",
   "execution_count": 109,
   "metadata": {},
   "outputs": [
    {
     "data": {
      "text/plain": [
       "Text(0, 0.5, 'Real Value')"
      ]
     },
     "execution_count": 109,
     "metadata": {},
     "output_type": "execute_result"
    },
    {
     "data": {
      "image/png": "[encoded data removed]",
      "text/plain": [
       "<Figure size 432x288 with 2 Axes>"
      ]
     },
     "metadata": {
      "needs_background": "light"
     },
     "output_type": "display_data"
    }
   ],
   "source": [
    "plot_confusion_matrix(naive_bayes, X_test_tr, y_test, cmap='Blues', display_labels=['Worst Score', 'Best Score'], \n",
    "                      values_format='d')\n",
    "plt.title('Confusion Matrix')\n",
    "plt.xlabel('Prediction')\n",
    "plt.ylabel('Real Value')"
   ]
  },
  {
   "cell_type": "code",
   "execution_count": null,
   "metadata": {},
   "outputs": [],
   "source": []
  }
 ],
 "metadata": {
  "kernelspec": {
   "display_name": "Python 3",
   "language": "python",
   "name": "python3"
  },
  "language_info": {
   "codemirror_mode": {
    "name": "ipython",
    "version": 3
   },
   "file_extension": ".py",
   "mimetype": "text/x-python",
   "name": "python",
   "nbconvert_exporter": "python",
   "pygments_lexer": "ipython3",
   "version": "3.7.6"
  }
 },
 "nbformat": 4,
 "nbformat_minor": 4
}
