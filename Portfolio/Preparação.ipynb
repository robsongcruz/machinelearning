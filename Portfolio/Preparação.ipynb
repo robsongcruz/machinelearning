{
 "cells": [
  {
   "cell_type": "markdown",
   "metadata": {},
   "source": [
    "<img src='stats/img/topbar.png' />"
   ]
  },
  {
   "cell_type": "markdown",
   "metadata": {},
   "source": [
    "## Pré Processamento de Dados"
   ]
  },
  {
   "cell_type": "markdown",
   "metadata": {},
   "source": [
    "### 1. Codificação de Dados Categóricos"
   ]
  },
  {
   "cell_type": "markdown",
   "metadata": {},
   "source": [
    "- Label Enconding (pode ter problema se o algoritmo levar em conta ordem de grandeza)\n",
    "- OneHot Encoding (.getDummies())"
   ]
  },
  {
   "cell_type": "markdown",
   "metadata": {},
   "source": [
    "| Label Encoding | OneHot Encoding |\n",
    "|---|---|\n",
    "| Quando houver informação na ordem dos valores    |    Quando a ordem não tiver significância    |\n",
    "| Grande número de categorias | Poucas categorias |"
   ]
  },
  {
   "cell_type": "markdown",
   "metadata": {},
   "source": [
    "### 2. Compatibilização de Escalas entre Variáveis"
   ]
  },
  {
   "cell_type": "markdown",
   "metadata": {},
   "source": [
    "- Gradiente descendente converge mais rapidamente para o mínimo local com as variáveis na mesma escala\n",
    "- Padronização: aplicação da fórmula de Z da distribuição normal padrão.\n",
    "  - Dados são ajustados para valores entre 0 e 1, com média 0 e desvio padrão 1. <br><br>\n",
    "  $ X_s(i) = \\frac{X_i - \\mu}{\\sigma} $ <br><br>\n",
    "  - Funciona também para valores negativos.\n",
    "  - Não afeta outliers.\n",
    "  - Altera a distribuição dos dados.\n",
    "- Normalização: uma das técnicas utiliza a fórmula min-max.\n",
    "  - Transforma as amostras do dataset em valores entre 0 e 1. <br><br>\n",
    "  $ X_s(i) = \\frac{X_i - X_{min}}{X_{max} - X_{min}} $ <br><br>\n",
    "  - Bastante usado em aplicações de processamento de imagens e redes neurais.\n",
    "  - Usado quando não sabemos a distribuição dos dados ou os algoritmos não requerem dados normais.\n",
    "  - A transformação descaracteriza outliers.\n",
    "  - Não altera a distribuição dos dados."
   ]
  },
  {
   "cell_type": "code",
   "execution_count": 6,
   "metadata": {},
   "outputs": [],
   "source": [
    "# from sklearn.preprocessing import StandardScaler, MinMaxScaler"
   ]
  },
  {
   "cell_type": "code",
   "execution_count": null,
   "metadata": {},
   "outputs": [],
   "source": []
  }
 ],
 "metadata": {
  "kernelspec": {
   "display_name": "Python 3",
   "language": "python",
   "name": "python3"
  },
  "language_info": {
   "codemirror_mode": {
    "name": "ipython",
    "version": 3
   },
   "file_extension": ".py",
   "mimetype": "text/x-python",
   "name": "python",
   "nbconvert_exporter": "python",
   "pygments_lexer": "ipython3",
   "version": "3.7.6"
  }
 },
 "nbformat": 4,
 "nbformat_minor": 4
}
