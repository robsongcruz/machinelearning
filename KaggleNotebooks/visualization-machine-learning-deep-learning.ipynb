{
 "cells": [
  {
   "cell_type": "markdown",
   "metadata": {
    "_uuid": "e0db02d257c6bb6631773d9bcd03ff022e25649a"
   },
   "source": [
    "<img src=\"https://static.vecteezy.com/system/resources/previews/000/145/921/non_2x/vector-iris-flower-banner-line-art.jpg\">\n"
   ]
  },
  {
   "cell_type": "markdown",
   "metadata": {
    "_uuid": "283e08476dae18925992a6168f868693e81dcd2a"
   },
   "source": [
    "<a href='#'>Preface</a><br>\n",
    "<a href='#desc'>description</a><br>\n",
    "<a href='#about'>About notebook</a><br>\n",
    "<a href='#load_lib'>Load libraries</a><br>\n",
    "<a href='#load_data'>Load Dataset</a><br>\n",
    "<a href='#visual'>Let's Visualize the dataset</a><br>\n",
    "- <a href='#types_species'> Types of species</a>\n",
    "- <a href='#corelation'>Corelation between features</a><br>\n",
    "- <a href='#visual_sepal'>Visualizing species based on sepal length and width</a><br>\n",
    "- <a href='#visual_petal'>Visualizing species based on petal length and width</a><br>\n",
    "- <a href='#value_petal_width'>Values distribution based on petal width</a><br>\n",
    "- <a href='#value_petal_length'>Values distribution based on petal length</a><br>\n",
    "- <a href='#value_sepal_length'>Values distribution based on sepal length</a><br>\n",
    "- <a href='#value_sepal_width'>Values distribution based on sepal width</a><br>\n",
    "- <a href='#andrew'>Andrew curves</a><br>\n",
    "- <a href='#lin_sepal'>Linear regression based on sepal</a><br>\n",
    "- <a href='#lin_petal'>Linear regression based on petal</a><br>\n",
    "\n",
    "<a href='#ml'>Machine Learning</a><br>\n",
    "- <a href='#list'> List of algorithms</a>\n",
    "- <a href='#logistic'>Logistic regression</a><br>\n",
    "- <a href='#decision'>Decision tree</a><br>\n",
    "- <a href='#knn'>KNN</a><br>\n",
    "- <a href='#svm'>SVM</a><br>\n",
    "- <a href='#nbc'>Naive Bayes Classification</a><br>\n",
    "- <a href='#random'>Random forest</a><br>\n",
    "- <a href='#etc'>Extra Tree Classifier</a><br>\n",
    "- <a href='#xgboost'>XGBoost</a><br>\n",
    "- <a href='#lbgm'>LigthGBM</a><br>\n",
    "\n",
    "<a href='#dl'>Deep Learning</a><br>\n",
    "- <a href='#shallow'>Shallow Deep learning</a><br>\n",
    "- <a href='#deep'>Deep Deep learning</a><br>\n"
   ]
  },
  {
   "cell_type": "markdown",
   "metadata": {
    "_uuid": "b76ae77466be5ddfeb2ad8510c7c0c341ce863c4"
   },
   "source": [
    "# <a id='desc'> Description</a>\n"
   ]
  },
  {
   "cell_type": "markdown",
   "metadata": {
    "_uuid": "3c23607dc3ccb91848089096ccfd7620666903ae"
   },
   "source": [
    "The Iris dataset was used in R.A. Fisher's classic 1936 paper, The Use of Multiple Measurements in Taxonomic Problems, and can also be found on the UCI Machine Learning Repository.\n",
    "\n",
    "It includes three iris species with 50 samples each as well as some properties about each flower. One flower species is linearly separable from the other two, but the other two are not linearly separable from each other.\n",
    "\n",
    "The columns in this dataset are:\n",
    "\n",
    "- Id\n",
    "- SepalLengthCm\n",
    "- SepalWidthCm\n",
    "- PetalLengthCm\n",
    "- PetalWidthCm\n",
    "- Species"
   ]
  },
  {
   "cell_type": "markdown",
   "metadata": {
    "_uuid": "c48025029289ae1508f0757431ded97fa406da1a"
   },
   "source": [
    "# <a id='about'>About the notebook</a>\n"
   ]
  },
  {
   "cell_type": "markdown",
   "metadata": {
    "_uuid": "5ad3d0ac84f2ef712c4a77d0e8e83db59f1bb434"
   },
   "source": [
    "In this notebook we will look into famous dataset which is iris, we will analyse the dataset with plotly library which is very interactive library in python then later we will apply different macine learning algorithms and see the best accuracy.\n",
    "\n"
   ]
  },
  {
   "cell_type": "markdown",
   "metadata": {
    "_uuid": "b4d6c82733d12e223387758889036b50c68884dd"
   },
   "source": [
    "# <a id='load_lib'>Let's load the required libraries</a>\n"
   ]
  },
  {
   "cell_type": "code",
   "execution_count": 1,
   "metadata": {
    "_kg_hide-input": true,
    "_uuid": "ab3c2f7c07531992dd024b7d1df6997ba1a251b3"
   },
   "outputs": [
    {
     "data": {
      "text/html": [
       "<script>requirejs.config({paths: { 'plotly': ['https://cdn.plot.ly/plotly-latest.min']},});if(!window.Plotly) {{require(['plotly'],function(plotly) {window.Plotly=plotly;});}}</script>"
      ],
      "text/vnd.plotly.v1+html": [
       "<script>requirejs.config({paths: { 'plotly': ['https://cdn.plot.ly/plotly-latest.min']},});if(!window.Plotly) {{require(['plotly'],function(plotly) {window.Plotly=plotly;});}}</script>"
      ]
     },
     "metadata": {},
     "output_type": "display_data"
    },
    {
     "name": "stderr",
     "output_type": "stream",
     "text": [
      "/opt/conda/lib/python3.6/site-packages/sklearn/ensemble/weight_boosting.py:29: DeprecationWarning:\n",
      "\n",
      "numpy.core.umath_tests is an internal NumPy module and should not be imported. It will be removed in a future NumPy release.\n",
      "\n"
     ]
    }
   ],
   "source": [
    "import numpy as np\n",
    "import random\n",
    "import pandas as pd\n",
    "from pandas.tools import plotting\n",
    "import seaborn as sns\n",
    "import matplotlib.pyplot as plt\n",
    "%matplotlib inline\n",
    "\n",
    "import plotly.offline as py\n",
    "from plotly.offline import init_notebook_mode, iplot\n",
    "import plotly.graph_objs as go\n",
    "from plotly import tools\n",
    "init_notebook_mode(connected=True)  \n",
    "import plotly.figure_factory as ff\n",
    "\n",
    "from sklearn.model_selection import train_test_split\n",
    "from sklearn.linear_model import LogisticRegression\n",
    "from sklearn.svm import SVC\n",
    "from sklearn.naive_bayes import GaussianNB\n",
    "from sklearn.tree import DecisionTreeClassifier\n",
    "from sklearn.ensemble import RandomForestClassifier, ExtraTreesClassifier\n",
    "from sklearn.neighbors import KNeighborsClassifier\n",
    "from lightgbm import LGBMClassifier\n",
    "from sklearn.metrics import  accuracy_score\n",
    "\n",
    "\n",
    "import xgboost as xgb\n",
    "import lightgbm as  lgb\n",
    "from xgboost.sklearn import XGBClassifier\n",
    "from catboost import CatBoostClassifier\n",
    "\n",
    "from sklearn.preprocessing import StandardScaler, LabelBinarizer\n",
    "# auxiliary function\n",
    "from sklearn.preprocessing import LabelEncoder\n",
    "def random_colors(number_of_colors):\n",
    "    color = [\"#\"+''.join([random.choice('0123456789ABCDEF') for j in range(6)])\n",
    "                 for i in range(number_of_colors)]\n",
    "    return color\n",
    "\n",
    "\n",
    "import warnings\n",
    "warnings.filterwarnings('ignore')"
   ]
  },
  {
   "cell_type": "markdown",
   "metadata": {
    "_uuid": "cc720b9cb2ab8ee436074089b4d6d74fc5b8f882"
   },
   "source": [
    "# <a id='load_data'>Load data set</a>"
   ]
  },
  {
   "cell_type": "code",
   "execution_count": 2,
   "metadata": {
    "_kg_hide-input": true,
    "_uuid": "0caff7f827cd7a8a0352992e2a80d42fdb8d26dc"
   },
   "outputs": [],
   "source": [
    "df = pd.read_csv('../input/Iris.csv')\n",
    "table = ff.create_table(df.head())\n"
   ]
  },
  {
   "cell_type": "code",
   "execution_count": 3,
   "metadata": {
    "_kg_hide-input": true,
    "_uuid": "3f04383afd4c6edfdd1a395d6425f5278a8bc778"
   },
   "outputs": [
    {
     "data": {
      "application/vnd.plotly.v1+json": {
       "data": [
        {
         "colorscale": [
          [
           0,
           "#00083e"
          ],
          [
           0.5,
           "#ededee"
          ],
          [
           1,
           "#ffffff"
          ]
         ],
         "hoverinfo": "none",
         "opacity": 0.75,
         "showscale": false,
         "type": "heatmap",
         "uid": "9551a94e-12be-11ea-87e1-bd890e9caf3c",
         "z": [
          [
           0,
           0,
           0,
           0,
           0,
           0
          ],
          [
           0.5,
           0.5,
           0.5,
           0.5,
           0.5,
           0.5
          ],
          [
           1,
           1,
           1,
           1,
           1,
           1
          ],
          [
           0.5,
           0.5,
           0.5,
           0.5,
           0.5,
           0.5
          ],
          [
           1,
           1,
           1,
           1,
           1,
           1
          ],
          [
           0.5,
           0.5,
           0.5,
           0.5,
           0.5,
           0.5
          ]
         ]
        }
       ],
       "layout": {
        "annotations": [
         {
          "align": "left",
          "font": {
           "color": "#ffffff"
          },
          "showarrow": false,
          "text": "<b>Id</b>",
          "x": -0.45,
          "xanchor": "left",
          "xref": "x",
          "y": 0,
          "yref": "y"
         },
         {
          "align": "left",
          "font": {
           "color": "#ffffff"
          },
          "showarrow": false,
          "text": "<b>SepalLengthCm</b>",
          "x": 0.55,
          "xanchor": "left",
          "xref": "x",
          "y": 0,
          "yref": "y"
         },
         {
          "align": "left",
          "font": {
           "color": "#ffffff"
          },
          "showarrow": false,
          "text": "<b>SepalWidthCm</b>",
          "x": 1.55,
          "xanchor": "left",
          "xref": "x",
          "y": 0,
          "yref": "y"
         },
         {
          "align": "left",
          "font": {
           "color": "#ffffff"
          },
          "showarrow": false,
          "text": "<b>PetalLengthCm</b>",
          "x": 2.55,
          "xanchor": "left",
          "xref": "x",
          "y": 0,
          "yref": "y"
         },
         {
          "align": "left",
          "font": {
           "color": "#ffffff"
          },
          "showarrow": false,
          "text": "<b>PetalWidthCm</b>",
          "x": 3.55,
          "xanchor": "left",
          "xref": "x",
          "y": 0,
          "yref": "y"
         },
         {
          "align": "left",
          "font": {
           "color": "#ffffff"
          },
          "showarrow": false,
          "text": "<b>Species</b>",
          "x": 4.55,
          "xanchor": "left",
          "xref": "x",
          "y": 0,
          "yref": "y"
         },
         {
          "align": "left",
          "font": {
           "color": "#000000"
          },
          "showarrow": false,
          "text": "1",
          "x": -0.45,
          "xanchor": "left",
          "xref": "x",
          "y": 1,
          "yref": "y"
         },
         {
          "align": "left",
          "font": {
           "color": "#000000"
          },
          "showarrow": false,
          "text": "5.1",
          "x": 0.55,
          "xanchor": "left",
          "xref": "x",
          "y": 1,
          "yref": "y"
         },
         {
          "align": "left",
          "font": {
           "color": "#000000"
          },
          "showarrow": false,
          "text": "3.5",
          "x": 1.55,
          "xanchor": "left",
          "xref": "x",
          "y": 1,
          "yref": "y"
         },
         {
          "align": "left",
          "font": {
           "color": "#000000"
          },
          "showarrow": false,
          "text": "1.4",
          "x": 2.55,
          "xanchor": "left",
          "xref": "x",
          "y": 1,
          "yref": "y"
         },
         {
          "align": "left",
          "font": {
           "color": "#000000"
          },
          "showarrow": false,
          "text": "0.2",
          "x": 3.55,
          "xanchor": "left",
          "xref": "x",
          "y": 1,
          "yref": "y"
         },
         {
          "align": "left",
          "font": {
           "color": "#000000"
          },
          "showarrow": false,
          "text": "Iris-setosa",
          "x": 4.55,
          "xanchor": "left",
          "xref": "x",
          "y": 1,
          "yref": "y"
         },
         {
          "align": "left",
          "font": {
           "color": "#000000"
          },
          "showarrow": false,
          "text": "2",
          "x": -0.45,
          "xanchor": "left",
          "xref": "x",
          "y": 2,
          "yref": "y"
         },
         {
          "align": "left",
          "font": {
           "color": "#000000"
          },
          "showarrow": false,
          "text": "4.9",
          "x": 0.55,
          "xanchor": "left",
          "xref": "x",
          "y": 2,
          "yref": "y"
         },
         {
          "align": "left",
          "font": {
           "color": "#000000"
          },
          "showarrow": false,
          "text": "3.0",
          "x": 1.55,
          "xanchor": "left",
          "xref": "x",
          "y": 2,
          "yref": "y"
         },
         {
          "align": "left",
          "font": {
           "color": "#000000"
          },
          "showarrow": false,
          "text": "1.4",
          "x": 2.55,
          "xanchor": "left",
          "xref": "x",
          "y": 2,
          "yref": "y"
         },
         {
          "align": "left",
          "font": {
           "color": "#000000"
          },
          "showarrow": false,
          "text": "0.2",
          "x": 3.55,
          "xanchor": "left",
          "xref": "x",
          "y": 2,
          "yref": "y"
         },
         {
          "align": "left",
          "font": {
           "color": "#000000"
          },
          "showarrow": false,
          "text": "Iris-setosa",
          "x": 4.55,
          "xanchor": "left",
          "xref": "x",
          "y": 2,
          "yref": "y"
         },
         {
          "align": "left",
          "font": {
           "color": "#000000"
          },
          "showarrow": false,
          "text": "3",
          "x": -0.45,
          "xanchor": "left",
          "xref": "x",
          "y": 3,
          "yref": "y"
         },
         {
          "align": "left",
          "font": {
           "color": "#000000"
          },
          "showarrow": false,
          "text": "4.7",
          "x": 0.55,
          "xanchor": "left",
          "xref": "x",
          "y": 3,
          "yref": "y"
         },
         {
          "align": "left",
          "font": {
           "color": "#000000"
          },
          "showarrow": false,
          "text": "3.2",
          "x": 1.55,
          "xanchor": "left",
          "xref": "x",
          "y": 3,
          "yref": "y"
         },
         {
          "align": "left",
          "font": {
           "color": "#000000"
          },
          "showarrow": false,
          "text": "1.3",
          "x": 2.55,
          "xanchor": "left",
          "xref": "x",
          "y": 3,
          "yref": "y"
         },
         {
          "align": "left",
          "font": {
           "color": "#000000"
          },
          "showarrow": false,
          "text": "0.2",
          "x": 3.55,
          "xanchor": "left",
          "xref": "x",
          "y": 3,
          "yref": "y"
         },
         {
          "align": "left",
          "font": {
           "color": "#000000"
          },
          "showarrow": false,
          "text": "Iris-setosa",
          "x": 4.55,
          "xanchor": "left",
          "xref": "x",
          "y": 3,
          "yref": "y"
         },
         {
          "align": "left",
          "font": {
           "color": "#000000"
          },
          "showarrow": false,
          "text": "4",
          "x": -0.45,
          "xanchor": "left",
          "xref": "x",
          "y": 4,
          "yref": "y"
         },
         {
          "align": "left",
          "font": {
           "color": "#000000"
          },
          "showarrow": false,
          "text": "4.6",
          "x": 0.55,
          "xanchor": "left",
          "xref": "x",
          "y": 4,
          "yref": "y"
         },
         {
          "align": "left",
          "font": {
           "color": "#000000"
          },
          "showarrow": false,
          "text": "3.1",
          "x": 1.55,
          "xanchor": "left",
          "xref": "x",
          "y": 4,
          "yref": "y"
         },
         {
          "align": "left",
          "font": {
           "color": "#000000"
          },
          "showarrow": false,
          "text": "1.5",
          "x": 2.55,
          "xanchor": "left",
          "xref": "x",
          "y": 4,
          "yref": "y"
         },
         {
          "align": "left",
          "font": {
           "color": "#000000"
          },
          "showarrow": false,
          "text": "0.2",
          "x": 3.55,
          "xanchor": "left",
          "xref": "x",
          "y": 4,
          "yref": "y"
         },
         {
          "align": "left",
          "font": {
           "color": "#000000"
          },
          "showarrow": false,
          "text": "Iris-setosa",
          "x": 4.55,
          "xanchor": "left",
          "xref": "x",
          "y": 4,
          "yref": "y"
         },
         {
          "align": "left",
          "font": {
           "color": "#000000"
          },
          "showarrow": false,
          "text": "5",
          "x": -0.45,
          "xanchor": "left",
          "xref": "x",
          "y": 5,
          "yref": "y"
         },
         {
          "align": "left",
          "font": {
           "color": "#000000"
          },
          "showarrow": false,
          "text": "5.0",
          "x": 0.55,
          "xanchor": "left",
          "xref": "x",
          "y": 5,
          "yref": "y"
         },
         {
          "align": "left",
          "font": {
           "color": "#000000"
          },
          "showarrow": false,
          "text": "3.6",
          "x": 1.55,
          "xanchor": "left",
          "xref": "x",
          "y": 5,
          "yref": "y"
         },
         {
          "align": "left",
          "font": {
           "color": "#000000"
          },
          "showarrow": false,
          "text": "1.4",
          "x": 2.55,
          "xanchor": "left",
          "xref": "x",
          "y": 5,
          "yref": "y"
         },
         {
          "align": "left",
          "font": {
           "color": "#000000"
          },
          "showarrow": false,
          "text": "0.2",
          "x": 3.55,
          "xanchor": "left",
          "xref": "x",
          "y": 5,
          "yref": "y"
         },
         {
          "align": "left",
          "font": {
           "color": "#000000"
          },
          "showarrow": false,
          "text": "Iris-setosa",
          "x": 4.55,
          "xanchor": "left",
          "xref": "x",
          "y": 5,
          "yref": "y"
         }
        ],
        "height": 230,
        "margin": {
         "b": 0,
         "l": 0,
         "r": 0,
         "t": 0
        },
        "xaxis": {
         "dtick": 1,
         "gridwidth": 2,
         "showticklabels": false,
         "tick0": -0.5,
         "ticks": "",
         "zeroline": false
        },
        "yaxis": {
         "autorange": "reversed",
         "dtick": 1,
         "gridwidth": 2,
         "showticklabels": false,
         "tick0": 0.5,
         "ticks": "",
         "zeroline": false
        }
       }
      },
      "text/html": [
       "<div id=\"1bbe9bfb-19c4-45ae-9b02-b720c9b5a611\" style=\"height: 230px; width: 100%;\" class=\"plotly-graph-div\"></div><script type=\"text/javascript\">require([\"plotly\"], function(Plotly) { window.PLOTLYENV=window.PLOTLYENV || {};window.PLOTLYENV.BASE_URL=\"https://plot.ly\";Plotly.newPlot(\"1bbe9bfb-19c4-45ae-9b02-b720c9b5a611\", [{\"colorscale\": [[0, \"#00083e\"], [0.5, \"#ededee\"], [1, \"#ffffff\"]], \"hoverinfo\": \"none\", \"opacity\": 0.75, \"showscale\": false, \"z\": [[0, 0, 0, 0, 0, 0], [0.5, 0.5, 0.5, 0.5, 0.5, 0.5], [1, 1, 1, 1, 1, 1], [0.5, 0.5, 0.5, 0.5, 0.5, 0.5], [1, 1, 1, 1, 1, 1], [0.5, 0.5, 0.5, 0.5, 0.5, 0.5]], \"type\": \"heatmap\", \"uid\": \"9551a94e-12be-11ea-87e1-bd890e9caf3c\"}], {\"annotations\": [{\"align\": \"left\", \"font\": {\"color\": \"#ffffff\"}, \"showarrow\": false, \"text\": \"<b>Id</b>\", \"x\": -0.45, \"xanchor\": \"left\", \"xref\": \"x\", \"y\": 0, \"yref\": \"y\"}, {\"align\": \"left\", \"font\": {\"color\": \"#ffffff\"}, \"showarrow\": false, \"text\": \"<b>SepalLengthCm</b>\", \"x\": 0.55, \"xanchor\": \"left\", \"xref\": \"x\", \"y\": 0, \"yref\": \"y\"}, {\"align\": \"left\", \"font\": {\"color\": \"#ffffff\"}, \"showarrow\": false, \"text\": \"<b>SepalWidthCm</b>\", \"x\": 1.55, \"xanchor\": \"left\", \"xref\": \"x\", \"y\": 0, \"yref\": \"y\"}, {\"align\": \"left\", \"font\": {\"color\": \"#ffffff\"}, \"showarrow\": false, \"text\": \"<b>PetalLengthCm</b>\", \"x\": 2.55, \"xanchor\": \"left\", \"xref\": \"x\", \"y\": 0, \"yref\": \"y\"}, {\"align\": \"left\", \"font\": {\"color\": \"#ffffff\"}, \"showarrow\": false, \"text\": \"<b>PetalWidthCm</b>\", \"x\": 3.55, \"xanchor\": \"left\", \"xref\": \"x\", \"y\": 0, \"yref\": \"y\"}, {\"align\": \"left\", \"font\": {\"color\": \"#ffffff\"}, \"showarrow\": false, \"text\": \"<b>Species</b>\", \"x\": 4.55, \"xanchor\": \"left\", \"xref\": \"x\", \"y\": 0, \"yref\": \"y\"}, {\"align\": \"left\", \"font\": {\"color\": \"#000000\"}, \"showarrow\": false, \"text\": \"1\", \"x\": -0.45, \"xanchor\": \"left\", \"xref\": \"x\", \"y\": 1, \"yref\": \"y\"}, {\"align\": \"left\", \"font\": {\"color\": \"#000000\"}, \"showarrow\": false, \"text\": \"5.1\", \"x\": 0.55, \"xanchor\": \"left\", \"xref\": \"x\", \"y\": 1, \"yref\": \"y\"}, {\"align\": \"left\", \"font\": {\"color\": \"#000000\"}, \"showarrow\": false, \"text\": \"3.5\", \"x\": 1.55, \"xanchor\": \"left\", \"xref\": \"x\", \"y\": 1, \"yref\": \"y\"}, {\"align\": \"left\", \"font\": {\"color\": \"#000000\"}, \"showarrow\": false, \"text\": \"1.4\", \"x\": 2.55, \"xanchor\": \"left\", \"xref\": \"x\", \"y\": 1, \"yref\": \"y\"}, {\"align\": \"left\", \"font\": {\"color\": \"#000000\"}, \"showarrow\": false, \"text\": \"0.2\", \"x\": 3.55, \"xanchor\": \"left\", \"xref\": \"x\", \"y\": 1, \"yref\": \"y\"}, {\"align\": \"left\", \"font\": {\"color\": \"#000000\"}, \"showarrow\": false, \"text\": \"Iris-setosa\", \"x\": 4.55, \"xanchor\": \"left\", \"xref\": \"x\", \"y\": 1, \"yref\": \"y\"}, {\"align\": \"left\", \"font\": {\"color\": \"#000000\"}, \"showarrow\": false, \"text\": \"2\", \"x\": -0.45, \"xanchor\": \"left\", \"xref\": \"x\", \"y\": 2, \"yref\": \"y\"}, {\"align\": \"left\", \"font\": {\"color\": \"#000000\"}, \"showarrow\": false, \"text\": \"4.9\", \"x\": 0.55, \"xanchor\": \"left\", \"xref\": \"x\", \"y\": 2, \"yref\": \"y\"}, {\"align\": \"left\", \"font\": {\"color\": \"#000000\"}, \"showarrow\": false, \"text\": \"3.0\", \"x\": 1.55, \"xanchor\": \"left\", \"xref\": \"x\", \"y\": 2, \"yref\": \"y\"}, {\"align\": \"left\", \"font\": {\"color\": \"#000000\"}, \"showarrow\": false, \"text\": \"1.4\", \"x\": 2.55, \"xanchor\": \"left\", \"xref\": \"x\", \"y\": 2, \"yref\": \"y\"}, {\"align\": \"left\", \"font\": {\"color\": \"#000000\"}, \"showarrow\": false, \"text\": \"0.2\", \"x\": 3.55, \"xanchor\": \"left\", \"xref\": \"x\", \"y\": 2, \"yref\": \"y\"}, {\"align\": \"left\", \"font\": {\"color\": \"#000000\"}, \"showarrow\": false, \"text\": \"Iris-setosa\", \"x\": 4.55, \"xanchor\": \"left\", \"xref\": \"x\", \"y\": 2, \"yref\": \"y\"}, {\"align\": \"left\", \"font\": {\"color\": \"#000000\"}, \"showarrow\": false, \"text\": \"3\", \"x\": -0.45, \"xanchor\": \"left\", \"xref\": \"x\", \"y\": 3, \"yref\": \"y\"}, {\"align\": \"left\", \"font\": {\"color\": \"#000000\"}, \"showarrow\": false, \"text\": \"4.7\", \"x\": 0.55, \"xanchor\": \"left\", \"xref\": \"x\", \"y\": 3, \"yref\": \"y\"}, {\"align\": \"left\", \"font\": {\"color\": \"#000000\"}, \"showarrow\": false, \"text\": \"3.2\", \"x\": 1.55, \"xanchor\": \"left\", \"xref\": \"x\", \"y\": 3, \"yref\": \"y\"}, {\"align\": \"left\", \"font\": {\"color\": \"#000000\"}, \"showarrow\": false, \"text\": \"1.3\", \"x\": 2.55, \"xanchor\": \"left\", \"xref\": \"x\", \"y\": 3, \"yref\": \"y\"}, {\"align\": \"left\", \"font\": {\"color\": \"#000000\"}, \"showarrow\": false, \"text\": \"0.2\", \"x\": 3.55, \"xanchor\": \"left\", \"xref\": \"x\", \"y\": 3, \"yref\": \"y\"}, {\"align\": \"left\", \"font\": {\"color\": \"#000000\"}, \"showarrow\": false, \"text\": \"Iris-setosa\", \"x\": 4.55, \"xanchor\": \"left\", \"xref\": \"x\", \"y\": 3, \"yref\": \"y\"}, {\"align\": \"left\", \"font\": {\"color\": \"#000000\"}, \"showarrow\": false, \"text\": \"4\", \"x\": -0.45, \"xanchor\": \"left\", \"xref\": \"x\", \"y\": 4, \"yref\": \"y\"}, {\"align\": \"left\", \"font\": {\"color\": \"#000000\"}, \"showarrow\": false, \"text\": \"4.6\", \"x\": 0.55, \"xanchor\": \"left\", \"xref\": \"x\", \"y\": 4, \"yref\": \"y\"}, {\"align\": \"left\", \"font\": {\"color\": \"#000000\"}, \"showarrow\": false, \"text\": \"3.1\", \"x\": 1.55, \"xanchor\": \"left\", \"xref\": \"x\", \"y\": 4, \"yref\": \"y\"}, {\"align\": \"left\", \"font\": {\"color\": \"#000000\"}, \"showarrow\": false, \"text\": \"1.5\", \"x\": 2.55, \"xanchor\": \"left\", \"xref\": \"x\", \"y\": 4, \"yref\": \"y\"}, {\"align\": \"left\", \"font\": {\"color\": \"#000000\"}, \"showarrow\": false, \"text\": \"0.2\", \"x\": 3.55, \"xanchor\": \"left\", \"xref\": \"x\", \"y\": 4, \"yref\": \"y\"}, {\"align\": \"left\", \"font\": {\"color\": \"#000000\"}, \"showarrow\": false, \"text\": \"Iris-setosa\", \"x\": 4.55, \"xanchor\": \"left\", \"xref\": \"x\", \"y\": 4, \"yref\": \"y\"}, {\"align\": \"left\", \"font\": {\"color\": \"#000000\"}, \"showarrow\": false, \"text\": \"5\", \"x\": -0.45, \"xanchor\": \"left\", \"xref\": \"x\", \"y\": 5, \"yref\": \"y\"}, {\"align\": \"left\", \"font\": {\"color\": \"#000000\"}, \"showarrow\": false, \"text\": \"5.0\", \"x\": 0.55, \"xanchor\": \"left\", \"xref\": \"x\", \"y\": 5, \"yref\": \"y\"}, {\"align\": \"left\", \"font\": {\"color\": \"#000000\"}, \"showarrow\": false, \"text\": \"3.6\", \"x\": 1.55, \"xanchor\": \"left\", \"xref\": \"x\", \"y\": 5, \"yref\": \"y\"}, {\"align\": \"left\", \"font\": {\"color\": \"#000000\"}, \"showarrow\": false, \"text\": \"1.4\", \"x\": 2.55, \"xanchor\": \"left\", \"xref\": \"x\", \"y\": 5, \"yref\": \"y\"}, {\"align\": \"left\", \"font\": {\"color\": \"#000000\"}, \"showarrow\": false, \"text\": \"0.2\", \"x\": 3.55, \"xanchor\": \"left\", \"xref\": \"x\", \"y\": 5, \"yref\": \"y\"}, {\"align\": \"left\", \"font\": {\"color\": \"#000000\"}, \"showarrow\": false, \"text\": \"Iris-setosa\", \"x\": 4.55, \"xanchor\": \"left\", \"xref\": \"x\", \"y\": 5, \"yref\": \"y\"}], \"height\": 230, \"margin\": {\"b\": 0, \"l\": 0, \"r\": 0, \"t\": 0}, \"xaxis\": {\"dtick\": 1, \"gridwidth\": 2, \"showticklabels\": false, \"tick0\": -0.5, \"ticks\": \"\", \"zeroline\": false}, \"yaxis\": {\"autorange\": \"reversed\", \"dtick\": 1, \"gridwidth\": 2, \"showticklabels\": false, \"tick0\": 0.5, \"ticks\": \"\", \"zeroline\": false}}, {\"showLink\": true, \"linkText\": \"Export to plot.ly\"})});</script>"
      ],
      "text/vnd.plotly.v1+html": [
       "<div id=\"1bbe9bfb-19c4-45ae-9b02-b720c9b5a611\" style=\"height: 230px; width: 100%;\" class=\"plotly-graph-div\"></div><script type=\"text/javascript\">require([\"plotly\"], function(Plotly) { window.PLOTLYENV=window.PLOTLYENV || {};window.PLOTLYENV.BASE_URL=\"https://plot.ly\";Plotly.newPlot(\"1bbe9bfb-19c4-45ae-9b02-b720c9b5a611\", [{\"colorscale\": [[0, \"#00083e\"], [0.5, \"#ededee\"], [1, \"#ffffff\"]], \"hoverinfo\": \"none\", \"opacity\": 0.75, \"showscale\": false, \"z\": [[0, 0, 0, 0, 0, 0], [0.5, 0.5, 0.5, 0.5, 0.5, 0.5], [1, 1, 1, 1, 1, 1], [0.5, 0.5, 0.5, 0.5, 0.5, 0.5], [1, 1, 1, 1, 1, 1], [0.5, 0.5, 0.5, 0.5, 0.5, 0.5]], \"type\": \"heatmap\", \"uid\": \"9551a94e-12be-11ea-87e1-bd890e9caf3c\"}], {\"annotations\": [{\"align\": \"left\", \"font\": {\"color\": \"#ffffff\"}, \"showarrow\": false, \"text\": \"<b>Id</b>\", \"x\": -0.45, \"xanchor\": \"left\", \"xref\": \"x\", \"y\": 0, \"yref\": \"y\"}, {\"align\": \"left\", \"font\": {\"color\": \"#ffffff\"}, \"showarrow\": false, \"text\": \"<b>SepalLengthCm</b>\", \"x\": 0.55, \"xanchor\": \"left\", \"xref\": \"x\", \"y\": 0, \"yref\": \"y\"}, {\"align\": \"left\", \"font\": {\"color\": \"#ffffff\"}, \"showarrow\": false, \"text\": \"<b>SepalWidthCm</b>\", \"x\": 1.55, \"xanchor\": \"left\", \"xref\": \"x\", \"y\": 0, \"yref\": \"y\"}, {\"align\": \"left\", \"font\": {\"color\": \"#ffffff\"}, \"showarrow\": false, \"text\": \"<b>PetalLengthCm</b>\", \"x\": 2.55, \"xanchor\": \"left\", \"xref\": \"x\", \"y\": 0, \"yref\": \"y\"}, {\"align\": \"left\", \"font\": {\"color\": \"#ffffff\"}, \"showarrow\": false, \"text\": \"<b>PetalWidthCm</b>\", \"x\": 3.55, \"xanchor\": \"left\", \"xref\": \"x\", \"y\": 0, \"yref\": \"y\"}, {\"align\": \"left\", \"font\": {\"color\": \"#ffffff\"}, \"showarrow\": false, \"text\": \"<b>Species</b>\", \"x\": 4.55, \"xanchor\": \"left\", \"xref\": \"x\", \"y\": 0, \"yref\": \"y\"}, {\"align\": \"left\", \"font\": {\"color\": \"#000000\"}, \"showarrow\": false, \"text\": \"1\", \"x\": -0.45, \"xanchor\": \"left\", \"xref\": \"x\", \"y\": 1, \"yref\": \"y\"}, {\"align\": \"left\", \"font\": {\"color\": \"#000000\"}, \"showarrow\": false, \"text\": \"5.1\", \"x\": 0.55, \"xanchor\": \"left\", \"xref\": \"x\", \"y\": 1, \"yref\": \"y\"}, {\"align\": \"left\", \"font\": {\"color\": \"#000000\"}, \"showarrow\": false, \"text\": \"3.5\", \"x\": 1.55, \"xanchor\": \"left\", \"xref\": \"x\", \"y\": 1, \"yref\": \"y\"}, {\"align\": \"left\", \"font\": {\"color\": \"#000000\"}, \"showarrow\": false, \"text\": \"1.4\", \"x\": 2.55, \"xanchor\": \"left\", \"xref\": \"x\", \"y\": 1, \"yref\": \"y\"}, {\"align\": \"left\", \"font\": {\"color\": \"#000000\"}, \"showarrow\": false, \"text\": \"0.2\", \"x\": 3.55, \"xanchor\": \"left\", \"xref\": \"x\", \"y\": 1, \"yref\": \"y\"}, {\"align\": \"left\", \"font\": {\"color\": \"#000000\"}, \"showarrow\": false, \"text\": \"Iris-setosa\", \"x\": 4.55, \"xanchor\": \"left\", \"xref\": \"x\", \"y\": 1, \"yref\": \"y\"}, {\"align\": \"left\", \"font\": {\"color\": \"#000000\"}, \"showarrow\": false, \"text\": \"2\", \"x\": -0.45, \"xanchor\": \"left\", \"xref\": \"x\", \"y\": 2, \"yref\": \"y\"}, {\"align\": \"left\", \"font\": {\"color\": \"#000000\"}, \"showarrow\": false, \"text\": \"4.9\", \"x\": 0.55, \"xanchor\": \"left\", \"xref\": \"x\", \"y\": 2, \"yref\": \"y\"}, {\"align\": \"left\", \"font\": {\"color\": \"#000000\"}, \"showarrow\": false, \"text\": \"3.0\", \"x\": 1.55, \"xanchor\": \"left\", \"xref\": \"x\", \"y\": 2, \"yref\": \"y\"}, {\"align\": \"left\", \"font\": {\"color\": \"#000000\"}, \"showarrow\": false, \"text\": \"1.4\", \"x\": 2.55, \"xanchor\": \"left\", \"xref\": \"x\", \"y\": 2, \"yref\": \"y\"}, {\"align\": \"left\", \"font\": {\"color\": \"#000000\"}, \"showarrow\": false, \"text\": \"0.2\", \"x\": 3.55, \"xanchor\": \"left\", \"xref\": \"x\", \"y\": 2, \"yref\": \"y\"}, {\"align\": \"left\", \"font\": {\"color\": \"#000000\"}, \"showarrow\": false, \"text\": \"Iris-setosa\", \"x\": 4.55, \"xanchor\": \"left\", \"xref\": \"x\", \"y\": 2, \"yref\": \"y\"}, {\"align\": \"left\", \"font\": {\"color\": \"#000000\"}, \"showarrow\": false, \"text\": \"3\", \"x\": -0.45, \"xanchor\": \"left\", \"xref\": \"x\", \"y\": 3, \"yref\": \"y\"}, {\"align\": \"left\", \"font\": {\"color\": \"#000000\"}, \"showarrow\": false, \"text\": \"4.7\", \"x\": 0.55, \"xanchor\": \"left\", \"xref\": \"x\", \"y\": 3, \"yref\": \"y\"}, {\"align\": \"left\", \"font\": {\"color\": \"#000000\"}, \"showarrow\": false, \"text\": \"3.2\", \"x\": 1.55, \"xanchor\": \"left\", \"xref\": \"x\", \"y\": 3, \"yref\": \"y\"}, {\"align\": \"left\", \"font\": {\"color\": \"#000000\"}, \"showarrow\": false, \"text\": \"1.3\", \"x\": 2.55, \"xanchor\": \"left\", \"xref\": \"x\", \"y\": 3, \"yref\": \"y\"}, {\"align\": \"left\", \"font\": {\"color\": \"#000000\"}, \"showarrow\": false, \"text\": \"0.2\", \"x\": 3.55, \"xanchor\": \"left\", \"xref\": \"x\", \"y\": 3, \"yref\": \"y\"}, {\"align\": \"left\", \"font\": {\"color\": \"#000000\"}, \"showarrow\": false, \"text\": \"Iris-setosa\", \"x\": 4.55, \"xanchor\": \"left\", \"xref\": \"x\", \"y\": 3, \"yref\": \"y\"}, {\"align\": \"left\", \"font\": {\"color\": \"#000000\"}, \"showarrow\": false, \"text\": \"4\", \"x\": -0.45, \"xanchor\": \"left\", \"xref\": \"x\", \"y\": 4, \"yref\": \"y\"}, {\"align\": \"left\", \"font\": {\"color\": \"#000000\"}, \"showarrow\": false, \"text\": \"4.6\", \"x\": 0.55, \"xanchor\": \"left\", \"xref\": \"x\", \"y\": 4, \"yref\": \"y\"}, {\"align\": \"left\", \"font\": {\"color\": \"#000000\"}, \"showarrow\": false, \"text\": \"3.1\", \"x\": 1.55, \"xanchor\": \"left\", \"xref\": \"x\", \"y\": 4, \"yref\": \"y\"}, {\"align\": \"left\", \"font\": {\"color\": \"#000000\"}, \"showarrow\": false, \"text\": \"1.5\", \"x\": 2.55, \"xanchor\": \"left\", \"xref\": \"x\", \"y\": 4, \"yref\": \"y\"}, {\"align\": \"left\", \"font\": {\"color\": \"#000000\"}, \"showarrow\": false, \"text\": \"0.2\", \"x\": 3.55, \"xanchor\": \"left\", \"xref\": \"x\", \"y\": 4, \"yref\": \"y\"}, {\"align\": \"left\", \"font\": {\"color\": \"#000000\"}, \"showarrow\": false, \"text\": \"Iris-setosa\", \"x\": 4.55, \"xanchor\": \"left\", \"xref\": \"x\", \"y\": 4, \"yref\": \"y\"}, {\"align\": \"left\", \"font\": {\"color\": \"#000000\"}, \"showarrow\": false, \"text\": \"5\", \"x\": -0.45, \"xanchor\": \"left\", \"xref\": \"x\", \"y\": 5, \"yref\": \"y\"}, {\"align\": \"left\", \"font\": {\"color\": \"#000000\"}, \"showarrow\": false, \"text\": \"5.0\", \"x\": 0.55, \"xanchor\": \"left\", \"xref\": \"x\", \"y\": 5, \"yref\": \"y\"}, {\"align\": \"left\", \"font\": {\"color\": \"#000000\"}, \"showarrow\": false, \"text\": \"3.6\", \"x\": 1.55, \"xanchor\": \"left\", \"xref\": \"x\", \"y\": 5, \"yref\": \"y\"}, {\"align\": \"left\", \"font\": {\"color\": \"#000000\"}, \"showarrow\": false, \"text\": \"1.4\", \"x\": 2.55, \"xanchor\": \"left\", \"xref\": \"x\", \"y\": 5, \"yref\": \"y\"}, {\"align\": \"left\", \"font\": {\"color\": \"#000000\"}, \"showarrow\": false, \"text\": \"0.2\", \"x\": 3.55, \"xanchor\": \"left\", \"xref\": \"x\", \"y\": 5, \"yref\": \"y\"}, {\"align\": \"left\", \"font\": {\"color\": \"#000000\"}, \"showarrow\": false, \"text\": \"Iris-setosa\", \"x\": 4.55, \"xanchor\": \"left\", \"xref\": \"x\", \"y\": 5, \"yref\": \"y\"}], \"height\": 230, \"margin\": {\"b\": 0, \"l\": 0, \"r\": 0, \"t\": 0}, \"xaxis\": {\"dtick\": 1, \"gridwidth\": 2, \"showticklabels\": false, \"tick0\": -0.5, \"ticks\": \"\", \"zeroline\": false}, \"yaxis\": {\"autorange\": \"reversed\", \"dtick\": 1, \"gridwidth\": 2, \"showticklabels\": false, \"tick0\": 0.5, \"ticks\": \"\", \"zeroline\": false}}, {\"showLink\": true, \"linkText\": \"Export to plot.ly\"})});</script>"
      ]
     },
     "metadata": {},
     "output_type": "display_data"
    }
   ],
   "source": [
    "py.iplot(table,filename='jupyter-table1')\n"
   ]
  },
  {
   "cell_type": "code",
   "execution_count": 4,
   "metadata": {
    "_kg_hide-input": true,
    "_uuid": "60779db42446412a6b94d353e9173285351042e2"
   },
   "outputs": [
    {
     "data": {
      "application/vnd.plotly.v1+json": {
       "data": [
        {
         "colorscale": [
          [
           0,
           "#00083e"
          ],
          [
           0.5,
           "#ededee"
          ],
          [
           1,
           "#ffffff"
          ]
         ],
         "hoverinfo": "none",
         "opacity": 0.75,
         "showscale": false,
         "type": "heatmap",
         "uid": "9602aea6-12be-11ea-87e1-bd890e9caf3c",
         "z": [
          [
           0,
           0,
           0,
           0,
           0
          ],
          [
           0.5,
           0.5,
           0.5,
           0.5,
           0.5
          ],
          [
           1,
           1,
           1,
           1,
           1
          ],
          [
           0.5,
           0.5,
           0.5,
           0.5,
           0.5
          ],
          [
           1,
           1,
           1,
           1,
           1
          ],
          [
           0.5,
           0.5,
           0.5,
           0.5,
           0.5
          ],
          [
           1,
           1,
           1,
           1,
           1
          ],
          [
           0.5,
           0.5,
           0.5,
           0.5,
           0.5
          ],
          [
           1,
           1,
           1,
           1,
           1
          ]
         ]
        }
       ],
       "layout": {
        "annotations": [
         {
          "align": "left",
          "font": {
           "color": "#ffffff"
          },
          "showarrow": false,
          "text": "<b>Id</b>",
          "x": -0.45,
          "xanchor": "left",
          "xref": "x",
          "y": 0,
          "yref": "y"
         },
         {
          "align": "left",
          "font": {
           "color": "#ffffff"
          },
          "showarrow": false,
          "text": "<b>SepalLengthCm</b>",
          "x": 0.55,
          "xanchor": "left",
          "xref": "x",
          "y": 0,
          "yref": "y"
         },
         {
          "align": "left",
          "font": {
           "color": "#ffffff"
          },
          "showarrow": false,
          "text": "<b>SepalWidthCm</b>",
          "x": 1.55,
          "xanchor": "left",
          "xref": "x",
          "y": 0,
          "yref": "y"
         },
         {
          "align": "left",
          "font": {
           "color": "#ffffff"
          },
          "showarrow": false,
          "text": "<b>PetalLengthCm</b>",
          "x": 2.55,
          "xanchor": "left",
          "xref": "x",
          "y": 0,
          "yref": "y"
         },
         {
          "align": "left",
          "font": {
           "color": "#ffffff"
          },
          "showarrow": false,
          "text": "<b>PetalWidthCm</b>",
          "x": 3.55,
          "xanchor": "left",
          "xref": "x",
          "y": 0,
          "yref": "y"
         },
         {
          "align": "left",
          "font": {
           "color": "#000000"
          },
          "showarrow": false,
          "text": "150.0",
          "x": -0.45,
          "xanchor": "left",
          "xref": "x",
          "y": 1,
          "yref": "y"
         },
         {
          "align": "left",
          "font": {
           "color": "#000000"
          },
          "showarrow": false,
          "text": "150.0",
          "x": 0.55,
          "xanchor": "left",
          "xref": "x",
          "y": 1,
          "yref": "y"
         },
         {
          "align": "left",
          "font": {
           "color": "#000000"
          },
          "showarrow": false,
          "text": "150.0",
          "x": 1.55,
          "xanchor": "left",
          "xref": "x",
          "y": 1,
          "yref": "y"
         },
         {
          "align": "left",
          "font": {
           "color": "#000000"
          },
          "showarrow": false,
          "text": "150.0",
          "x": 2.55,
          "xanchor": "left",
          "xref": "x",
          "y": 1,
          "yref": "y"
         },
         {
          "align": "left",
          "font": {
           "color": "#000000"
          },
          "showarrow": false,
          "text": "150.0",
          "x": 3.55,
          "xanchor": "left",
          "xref": "x",
          "y": 1,
          "yref": "y"
         },
         {
          "align": "left",
          "font": {
           "color": "#000000"
          },
          "showarrow": false,
          "text": "75.5",
          "x": -0.45,
          "xanchor": "left",
          "xref": "x",
          "y": 2,
          "yref": "y"
         },
         {
          "align": "left",
          "font": {
           "color": "#000000"
          },
          "showarrow": false,
          "text": "5.843333333333335",
          "x": 0.55,
          "xanchor": "left",
          "xref": "x",
          "y": 2,
          "yref": "y"
         },
         {
          "align": "left",
          "font": {
           "color": "#000000"
          },
          "showarrow": false,
          "text": "3.0540000000000007",
          "x": 1.55,
          "xanchor": "left",
          "xref": "x",
          "y": 2,
          "yref": "y"
         },
         {
          "align": "left",
          "font": {
           "color": "#000000"
          },
          "showarrow": false,
          "text": "3.7586666666666693",
          "x": 2.55,
          "xanchor": "left",
          "xref": "x",
          "y": 2,
          "yref": "y"
         },
         {
          "align": "left",
          "font": {
           "color": "#000000"
          },
          "showarrow": false,
          "text": "1.1986666666666672",
          "x": 3.55,
          "xanchor": "left",
          "xref": "x",
          "y": 2,
          "yref": "y"
         },
         {
          "align": "left",
          "font": {
           "color": "#000000"
          },
          "showarrow": false,
          "text": "43.445367992456916",
          "x": -0.45,
          "xanchor": "left",
          "xref": "x",
          "y": 3,
          "yref": "y"
         },
         {
          "align": "left",
          "font": {
           "color": "#000000"
          },
          "showarrow": false,
          "text": "0.8280661279778629",
          "x": 0.55,
          "xanchor": "left",
          "xref": "x",
          "y": 3,
          "yref": "y"
         },
         {
          "align": "left",
          "font": {
           "color": "#000000"
          },
          "showarrow": false,
          "text": "0.4335943113621737",
          "x": 1.55,
          "xanchor": "left",
          "xref": "x",
          "y": 3,
          "yref": "y"
         },
         {
          "align": "left",
          "font": {
           "color": "#000000"
          },
          "showarrow": false,
          "text": "1.7644204199522617",
          "x": 2.55,
          "xanchor": "left",
          "xref": "x",
          "y": 3,
          "yref": "y"
         },
         {
          "align": "left",
          "font": {
           "color": "#000000"
          },
          "showarrow": false,
          "text": "0.7631607417008414",
          "x": 3.55,
          "xanchor": "left",
          "xref": "x",
          "y": 3,
          "yref": "y"
         },
         {
          "align": "left",
          "font": {
           "color": "#000000"
          },
          "showarrow": false,
          "text": "1.0",
          "x": -0.45,
          "xanchor": "left",
          "xref": "x",
          "y": 4,
          "yref": "y"
         },
         {
          "align": "left",
          "font": {
           "color": "#000000"
          },
          "showarrow": false,
          "text": "4.3",
          "x": 0.55,
          "xanchor": "left",
          "xref": "x",
          "y": 4,
          "yref": "y"
         },
         {
          "align": "left",
          "font": {
           "color": "#000000"
          },
          "showarrow": false,
          "text": "2.0",
          "x": 1.55,
          "xanchor": "left",
          "xref": "x",
          "y": 4,
          "yref": "y"
         },
         {
          "align": "left",
          "font": {
           "color": "#000000"
          },
          "showarrow": false,
          "text": "1.0",
          "x": 2.55,
          "xanchor": "left",
          "xref": "x",
          "y": 4,
          "yref": "y"
         },
         {
          "align": "left",
          "font": {
           "color": "#000000"
          },
          "showarrow": false,
          "text": "0.1",
          "x": 3.55,
          "xanchor": "left",
          "xref": "x",
          "y": 4,
          "yref": "y"
         },
         {
          "align": "left",
          "font": {
           "color": "#000000"
          },
          "showarrow": false,
          "text": "38.25",
          "x": -0.45,
          "xanchor": "left",
          "xref": "x",
          "y": 5,
          "yref": "y"
         },
         {
          "align": "left",
          "font": {
           "color": "#000000"
          },
          "showarrow": false,
          "text": "5.1",
          "x": 0.55,
          "xanchor": "left",
          "xref": "x",
          "y": 5,
          "yref": "y"
         },
         {
          "align": "left",
          "font": {
           "color": "#000000"
          },
          "showarrow": false,
          "text": "2.8",
          "x": 1.55,
          "xanchor": "left",
          "xref": "x",
          "y": 5,
          "yref": "y"
         },
         {
          "align": "left",
          "font": {
           "color": "#000000"
          },
          "showarrow": false,
          "text": "1.6",
          "x": 2.55,
          "xanchor": "left",
          "xref": "x",
          "y": 5,
          "yref": "y"
         },
         {
          "align": "left",
          "font": {
           "color": "#000000"
          },
          "showarrow": false,
          "text": "0.3",
          "x": 3.55,
          "xanchor": "left",
          "xref": "x",
          "y": 5,
          "yref": "y"
         },
         {
          "align": "left",
          "font": {
           "color": "#000000"
          },
          "showarrow": false,
          "text": "75.5",
          "x": -0.45,
          "xanchor": "left",
          "xref": "x",
          "y": 6,
          "yref": "y"
         },
         {
          "align": "left",
          "font": {
           "color": "#000000"
          },
          "showarrow": false,
          "text": "5.8",
          "x": 0.55,
          "xanchor": "left",
          "xref": "x",
          "y": 6,
          "yref": "y"
         },
         {
          "align": "left",
          "font": {
           "color": "#000000"
          },
          "showarrow": false,
          "text": "3.0",
          "x": 1.55,
          "xanchor": "left",
          "xref": "x",
          "y": 6,
          "yref": "y"
         },
         {
          "align": "left",
          "font": {
           "color": "#000000"
          },
          "showarrow": false,
          "text": "4.35",
          "x": 2.55,
          "xanchor": "left",
          "xref": "x",
          "y": 6,
          "yref": "y"
         },
         {
          "align": "left",
          "font": {
           "color": "#000000"
          },
          "showarrow": false,
          "text": "1.3",
          "x": 3.55,
          "xanchor": "left",
          "xref": "x",
          "y": 6,
          "yref": "y"
         },
         {
          "align": "left",
          "font": {
           "color": "#000000"
          },
          "showarrow": false,
          "text": "112.75",
          "x": -0.45,
          "xanchor": "left",
          "xref": "x",
          "y": 7,
          "yref": "y"
         },
         {
          "align": "left",
          "font": {
           "color": "#000000"
          },
          "showarrow": false,
          "text": "6.4",
          "x": 0.55,
          "xanchor": "left",
          "xref": "x",
          "y": 7,
          "yref": "y"
         },
         {
          "align": "left",
          "font": {
           "color": "#000000"
          },
          "showarrow": false,
          "text": "3.3",
          "x": 1.55,
          "xanchor": "left",
          "xref": "x",
          "y": 7,
          "yref": "y"
         },
         {
          "align": "left",
          "font": {
           "color": "#000000"
          },
          "showarrow": false,
          "text": "5.1",
          "x": 2.55,
          "xanchor": "left",
          "xref": "x",
          "y": 7,
          "yref": "y"
         },
         {
          "align": "left",
          "font": {
           "color": "#000000"
          },
          "showarrow": false,
          "text": "1.8",
          "x": 3.55,
          "xanchor": "left",
          "xref": "x",
          "y": 7,
          "yref": "y"
         },
         {
          "align": "left",
          "font": {
           "color": "#000000"
          },
          "showarrow": false,
          "text": "150.0",
          "x": -0.45,
          "xanchor": "left",
          "xref": "x",
          "y": 8,
          "yref": "y"
         },
         {
          "align": "left",
          "font": {
           "color": "#000000"
          },
          "showarrow": false,
          "text": "7.9",
          "x": 0.55,
          "xanchor": "left",
          "xref": "x",
          "y": 8,
          "yref": "y"
         },
         {
          "align": "left",
          "font": {
           "color": "#000000"
          },
          "showarrow": false,
          "text": "4.4",
          "x": 1.55,
          "xanchor": "left",
          "xref": "x",
          "y": 8,
          "yref": "y"
         },
         {
          "align": "left",
          "font": {
           "color": "#000000"
          },
          "showarrow": false,
          "text": "6.9",
          "x": 2.55,
          "xanchor": "left",
          "xref": "x",
          "y": 8,
          "yref": "y"
         },
         {
          "align": "left",
          "font": {
           "color": "#000000"
          },
          "showarrow": false,
          "text": "2.5",
          "x": 3.55,
          "xanchor": "left",
          "xref": "x",
          "y": 8,
          "yref": "y"
         }
        ],
        "height": 320,
        "margin": {
         "b": 0,
         "l": 0,
         "r": 0,
         "t": 0
        },
        "xaxis": {
         "dtick": 1,
         "gridwidth": 2,
         "showticklabels": false,
         "tick0": -0.5,
         "ticks": "",
         "zeroline": false
        },
        "yaxis": {
         "autorange": "reversed",
         "dtick": 1,
         "gridwidth": 2,
         "showticklabels": false,
         "tick0": 0.5,
         "ticks": "",
         "zeroline": false
        }
       }
      },
      "text/html": [
       "<div id=\"99542119-1697-49c5-b20a-09073d160f3c\" style=\"height: 320px; width: 100%;\" class=\"plotly-graph-div\"></div><script type=\"text/javascript\">require([\"plotly\"], function(Plotly) { window.PLOTLYENV=window.PLOTLYENV || {};window.PLOTLYENV.BASE_URL=\"https://plot.ly\";Plotly.newPlot(\"99542119-1697-49c5-b20a-09073d160f3c\", [{\"colorscale\": [[0, \"#00083e\"], [0.5, \"#ededee\"], [1, \"#ffffff\"]], \"hoverinfo\": \"none\", \"opacity\": 0.75, \"showscale\": false, \"z\": [[0, 0, 0, 0, 0], [0.5, 0.5, 0.5, 0.5, 0.5], [1, 1, 1, 1, 1], [0.5, 0.5, 0.5, 0.5, 0.5], [1, 1, 1, 1, 1], [0.5, 0.5, 0.5, 0.5, 0.5], [1, 1, 1, 1, 1], [0.5, 0.5, 0.5, 0.5, 0.5], [1, 1, 1, 1, 1]], \"type\": \"heatmap\", \"uid\": \"9602aea6-12be-11ea-87e1-bd890e9caf3c\"}], {\"annotations\": [{\"align\": \"left\", \"font\": {\"color\": \"#ffffff\"}, \"showarrow\": false, \"text\": \"<b>Id</b>\", \"x\": -0.45, \"xanchor\": \"left\", \"xref\": \"x\", \"y\": 0, \"yref\": \"y\"}, {\"align\": \"left\", \"font\": {\"color\": \"#ffffff\"}, \"showarrow\": false, \"text\": \"<b>SepalLengthCm</b>\", \"x\": 0.55, \"xanchor\": \"left\", \"xref\": \"x\", \"y\": 0, \"yref\": \"y\"}, {\"align\": \"left\", \"font\": {\"color\": \"#ffffff\"}, \"showarrow\": false, \"text\": \"<b>SepalWidthCm</b>\", \"x\": 1.55, \"xanchor\": \"left\", \"xref\": \"x\", \"y\": 0, \"yref\": \"y\"}, {\"align\": \"left\", \"font\": {\"color\": \"#ffffff\"}, \"showarrow\": false, \"text\": \"<b>PetalLengthCm</b>\", \"x\": 2.55, \"xanchor\": \"left\", \"xref\": \"x\", \"y\": 0, \"yref\": \"y\"}, {\"align\": \"left\", \"font\": {\"color\": \"#ffffff\"}, \"showarrow\": false, \"text\": \"<b>PetalWidthCm</b>\", \"x\": 3.55, \"xanchor\": \"left\", \"xref\": \"x\", \"y\": 0, \"yref\": \"y\"}, {\"align\": \"left\", \"font\": {\"color\": \"#000000\"}, \"showarrow\": false, \"text\": \"150.0\", \"x\": -0.45, \"xanchor\": \"left\", \"xref\": \"x\", \"y\": 1, \"yref\": \"y\"}, {\"align\": \"left\", \"font\": {\"color\": \"#000000\"}, \"showarrow\": false, \"text\": \"150.0\", \"x\": 0.55, \"xanchor\": \"left\", \"xref\": \"x\", \"y\": 1, \"yref\": \"y\"}, {\"align\": \"left\", \"font\": {\"color\": \"#000000\"}, \"showarrow\": false, \"text\": \"150.0\", \"x\": 1.55, \"xanchor\": \"left\", \"xref\": \"x\", \"y\": 1, \"yref\": \"y\"}, {\"align\": \"left\", \"font\": {\"color\": \"#000000\"}, \"showarrow\": false, \"text\": \"150.0\", \"x\": 2.55, \"xanchor\": \"left\", \"xref\": \"x\", \"y\": 1, \"yref\": \"y\"}, {\"align\": \"left\", \"font\": {\"color\": \"#000000\"}, \"showarrow\": false, \"text\": \"150.0\", \"x\": 3.55, \"xanchor\": \"left\", \"xref\": \"x\", \"y\": 1, \"yref\": \"y\"}, {\"align\": \"left\", \"font\": {\"color\": \"#000000\"}, \"showarrow\": false, \"text\": \"75.5\", \"x\": -0.45, \"xanchor\": \"left\", \"xref\": \"x\", \"y\": 2, \"yref\": \"y\"}, {\"align\": \"left\", \"font\": {\"color\": \"#000000\"}, \"showarrow\": false, \"text\": \"5.843333333333335\", \"x\": 0.55, \"xanchor\": \"left\", \"xref\": \"x\", \"y\": 2, \"yref\": \"y\"}, {\"align\": \"left\", \"font\": {\"color\": \"#000000\"}, \"showarrow\": false, \"text\": \"3.0540000000000007\", \"x\": 1.55, \"xanchor\": \"left\", \"xref\": \"x\", \"y\": 2, \"yref\": \"y\"}, {\"align\": \"left\", \"font\": {\"color\": \"#000000\"}, \"showarrow\": false, \"text\": \"3.7586666666666693\", \"x\": 2.55, \"xanchor\": \"left\", \"xref\": \"x\", \"y\": 2, \"yref\": \"y\"}, {\"align\": \"left\", \"font\": {\"color\": \"#000000\"}, \"showarrow\": false, \"text\": \"1.1986666666666672\", \"x\": 3.55, \"xanchor\": \"left\", \"xref\": \"x\", \"y\": 2, \"yref\": \"y\"}, {\"align\": \"left\", \"font\": {\"color\": \"#000000\"}, \"showarrow\": false, \"text\": \"43.445367992456916\", \"x\": -0.45, \"xanchor\": \"left\", \"xref\": \"x\", \"y\": 3, \"yref\": \"y\"}, {\"align\": \"left\", \"font\": {\"color\": \"#000000\"}, \"showarrow\": false, \"text\": \"0.8280661279778629\", \"x\": 0.55, \"xanchor\": \"left\", \"xref\": \"x\", \"y\": 3, \"yref\": \"y\"}, {\"align\": \"left\", \"font\": {\"color\": \"#000000\"}, \"showarrow\": false, \"text\": \"0.4335943113621737\", \"x\": 1.55, \"xanchor\": \"left\", \"xref\": \"x\", \"y\": 3, \"yref\": \"y\"}, {\"align\": \"left\", \"font\": {\"color\": \"#000000\"}, \"showarrow\": false, \"text\": \"1.7644204199522617\", \"x\": 2.55, \"xanchor\": \"left\", \"xref\": \"x\", \"y\": 3, \"yref\": \"y\"}, {\"align\": \"left\", \"font\": {\"color\": \"#000000\"}, \"showarrow\": false, \"text\": \"0.7631607417008414\", \"x\": 3.55, \"xanchor\": \"left\", \"xref\": \"x\", \"y\": 3, \"yref\": \"y\"}, {\"align\": \"left\", \"font\": {\"color\": \"#000000\"}, \"showarrow\": false, \"text\": \"1.0\", \"x\": -0.45, \"xanchor\": \"left\", \"xref\": \"x\", \"y\": 4, \"yref\": \"y\"}, {\"align\": \"left\", \"font\": {\"color\": \"#000000\"}, \"showarrow\": false, \"text\": \"4.3\", \"x\": 0.55, \"xanchor\": \"left\", \"xref\": \"x\", \"y\": 4, \"yref\": \"y\"}, {\"align\": \"left\", \"font\": {\"color\": \"#000000\"}, \"showarrow\": false, \"text\": \"2.0\", \"x\": 1.55, \"xanchor\": \"left\", \"xref\": \"x\", \"y\": 4, \"yref\": \"y\"}, {\"align\": \"left\", \"font\": {\"color\": \"#000000\"}, \"showarrow\": false, \"text\": \"1.0\", \"x\": 2.55, \"xanchor\": \"left\", \"xref\": \"x\", \"y\": 4, \"yref\": \"y\"}, {\"align\": \"left\", \"font\": {\"color\": \"#000000\"}, \"showarrow\": false, \"text\": \"0.1\", \"x\": 3.55, \"xanchor\": \"left\", \"xref\": \"x\", \"y\": 4, \"yref\": \"y\"}, {\"align\": \"left\", \"font\": {\"color\": \"#000000\"}, \"showarrow\": false, \"text\": \"38.25\", \"x\": -0.45, \"xanchor\": \"left\", \"xref\": \"x\", \"y\": 5, \"yref\": \"y\"}, {\"align\": \"left\", \"font\": {\"color\": \"#000000\"}, \"showarrow\": false, \"text\": \"5.1\", \"x\": 0.55, \"xanchor\": \"left\", \"xref\": \"x\", \"y\": 5, \"yref\": \"y\"}, {\"align\": \"left\", \"font\": {\"color\": \"#000000\"}, \"showarrow\": false, \"text\": \"2.8\", \"x\": 1.55, \"xanchor\": \"left\", \"xref\": \"x\", \"y\": 5, \"yref\": \"y\"}, {\"align\": \"left\", \"font\": {\"color\": \"#000000\"}, \"showarrow\": false, \"text\": \"1.6\", \"x\": 2.55, \"xanchor\": \"left\", \"xref\": \"x\", \"y\": 5, \"yref\": \"y\"}, {\"align\": \"left\", \"font\": {\"color\": \"#000000\"}, \"showarrow\": false, \"text\": \"0.3\", \"x\": 3.55, \"xanchor\": \"left\", \"xref\": \"x\", \"y\": 5, \"yref\": \"y\"}, {\"align\": \"left\", \"font\": {\"color\": \"#000000\"}, \"showarrow\": false, \"text\": \"75.5\", \"x\": -0.45, \"xanchor\": \"left\", \"xref\": \"x\", \"y\": 6, \"yref\": \"y\"}, {\"align\": \"left\", \"font\": {\"color\": \"#000000\"}, \"showarrow\": false, \"text\": \"5.8\", \"x\": 0.55, \"xanchor\": \"left\", \"xref\": \"x\", \"y\": 6, \"yref\": \"y\"}, {\"align\": \"left\", \"font\": {\"color\": \"#000000\"}, \"showarrow\": false, \"text\": \"3.0\", \"x\": 1.55, \"xanchor\": \"left\", \"xref\": \"x\", \"y\": 6, \"yref\": \"y\"}, {\"align\": \"left\", \"font\": {\"color\": \"#000000\"}, \"showarrow\": false, \"text\": \"4.35\", \"x\": 2.55, \"xanchor\": \"left\", \"xref\": \"x\", \"y\": 6, \"yref\": \"y\"}, {\"align\": \"left\", \"font\": {\"color\": \"#000000\"}, \"showarrow\": false, \"text\": \"1.3\", \"x\": 3.55, \"xanchor\": \"left\", \"xref\": \"x\", \"y\": 6, \"yref\": \"y\"}, {\"align\": \"left\", \"font\": {\"color\": \"#000000\"}, \"showarrow\": false, \"text\": \"112.75\", \"x\": -0.45, \"xanchor\": \"left\", \"xref\": \"x\", \"y\": 7, \"yref\": \"y\"}, {\"align\": \"left\", \"font\": {\"color\": \"#000000\"}, \"showarrow\": false, \"text\": \"6.4\", \"x\": 0.55, \"xanchor\": \"left\", \"xref\": \"x\", \"y\": 7, \"yref\": \"y\"}, {\"align\": \"left\", \"font\": {\"color\": \"#000000\"}, \"showarrow\": false, \"text\": \"3.3\", \"x\": 1.55, \"xanchor\": \"left\", \"xref\": \"x\", \"y\": 7, \"yref\": \"y\"}, {\"align\": \"left\", \"font\": {\"color\": \"#000000\"}, \"showarrow\": false, \"text\": \"5.1\", \"x\": 2.55, \"xanchor\": \"left\", \"xref\": \"x\", \"y\": 7, \"yref\": \"y\"}, {\"align\": \"left\", \"font\": {\"color\": \"#000000\"}, \"showarrow\": false, \"text\": \"1.8\", \"x\": 3.55, \"xanchor\": \"left\", \"xref\": \"x\", \"y\": 7, \"yref\": \"y\"}, {\"align\": \"left\", \"font\": {\"color\": \"#000000\"}, \"showarrow\": false, \"text\": \"150.0\", \"x\": -0.45, \"xanchor\": \"left\", \"xref\": \"x\", \"y\": 8, \"yref\": \"y\"}, {\"align\": \"left\", \"font\": {\"color\": \"#000000\"}, \"showarrow\": false, \"text\": \"7.9\", \"x\": 0.55, \"xanchor\": \"left\", \"xref\": \"x\", \"y\": 8, \"yref\": \"y\"}, {\"align\": \"left\", \"font\": {\"color\": \"#000000\"}, \"showarrow\": false, \"text\": \"4.4\", \"x\": 1.55, \"xanchor\": \"left\", \"xref\": \"x\", \"y\": 8, \"yref\": \"y\"}, {\"align\": \"left\", \"font\": {\"color\": \"#000000\"}, \"showarrow\": false, \"text\": \"6.9\", \"x\": 2.55, \"xanchor\": \"left\", \"xref\": \"x\", \"y\": 8, \"yref\": \"y\"}, {\"align\": \"left\", \"font\": {\"color\": \"#000000\"}, \"showarrow\": false, \"text\": \"2.5\", \"x\": 3.55, \"xanchor\": \"left\", \"xref\": \"x\", \"y\": 8, \"yref\": \"y\"}], \"height\": 320, \"margin\": {\"b\": 0, \"l\": 0, \"r\": 0, \"t\": 0}, \"xaxis\": {\"dtick\": 1, \"gridwidth\": 2, \"showticklabels\": false, \"tick0\": -0.5, \"ticks\": \"\", \"zeroline\": false}, \"yaxis\": {\"autorange\": \"reversed\", \"dtick\": 1, \"gridwidth\": 2, \"showticklabels\": false, \"tick0\": 0.5, \"ticks\": \"\", \"zeroline\": false}}, {\"showLink\": true, \"linkText\": \"Export to plot.ly\"})});</script>"
      ],
      "text/vnd.plotly.v1+html": [
       "<div id=\"99542119-1697-49c5-b20a-09073d160f3c\" style=\"height: 320px; width: 100%;\" class=\"plotly-graph-div\"></div><script type=\"text/javascript\">require([\"plotly\"], function(Plotly) { window.PLOTLYENV=window.PLOTLYENV || {};window.PLOTLYENV.BASE_URL=\"https://plot.ly\";Plotly.newPlot(\"99542119-1697-49c5-b20a-09073d160f3c\", [{\"colorscale\": [[0, \"#00083e\"], [0.5, \"#ededee\"], [1, \"#ffffff\"]], \"hoverinfo\": \"none\", \"opacity\": 0.75, \"showscale\": false, \"z\": [[0, 0, 0, 0, 0], [0.5, 0.5, 0.5, 0.5, 0.5], [1, 1, 1, 1, 1], [0.5, 0.5, 0.5, 0.5, 0.5], [1, 1, 1, 1, 1], [0.5, 0.5, 0.5, 0.5, 0.5], [1, 1, 1, 1, 1], [0.5, 0.5, 0.5, 0.5, 0.5], [1, 1, 1, 1, 1]], \"type\": \"heatmap\", \"uid\": \"9602aea6-12be-11ea-87e1-bd890e9caf3c\"}], {\"annotations\": [{\"align\": \"left\", \"font\": {\"color\": \"#ffffff\"}, \"showarrow\": false, \"text\": \"<b>Id</b>\", \"x\": -0.45, \"xanchor\": \"left\", \"xref\": \"x\", \"y\": 0, \"yref\": \"y\"}, {\"align\": \"left\", \"font\": {\"color\": \"#ffffff\"}, \"showarrow\": false, \"text\": \"<b>SepalLengthCm</b>\", \"x\": 0.55, \"xanchor\": \"left\", \"xref\": \"x\", \"y\": 0, \"yref\": \"y\"}, {\"align\": \"left\", \"font\": {\"color\": \"#ffffff\"}, \"showarrow\": false, \"text\": \"<b>SepalWidthCm</b>\", \"x\": 1.55, \"xanchor\": \"left\", \"xref\": \"x\", \"y\": 0, \"yref\": \"y\"}, {\"align\": \"left\", \"font\": {\"color\": \"#ffffff\"}, \"showarrow\": false, \"text\": \"<b>PetalLengthCm</b>\", \"x\": 2.55, \"xanchor\": \"left\", \"xref\": \"x\", \"y\": 0, \"yref\": \"y\"}, {\"align\": \"left\", \"font\": {\"color\": \"#ffffff\"}, \"showarrow\": false, \"text\": \"<b>PetalWidthCm</b>\", \"x\": 3.55, \"xanchor\": \"left\", \"xref\": \"x\", \"y\": 0, \"yref\": \"y\"}, {\"align\": \"left\", \"font\": {\"color\": \"#000000\"}, \"showarrow\": false, \"text\": \"150.0\", \"x\": -0.45, \"xanchor\": \"left\", \"xref\": \"x\", \"y\": 1, \"yref\": \"y\"}, {\"align\": \"left\", \"font\": {\"color\": \"#000000\"}, \"showarrow\": false, \"text\": \"150.0\", \"x\": 0.55, \"xanchor\": \"left\", \"xref\": \"x\", \"y\": 1, \"yref\": \"y\"}, {\"align\": \"left\", \"font\": {\"color\": \"#000000\"}, \"showarrow\": false, \"text\": \"150.0\", \"x\": 1.55, \"xanchor\": \"left\", \"xref\": \"x\", \"y\": 1, \"yref\": \"y\"}, {\"align\": \"left\", \"font\": {\"color\": \"#000000\"}, \"showarrow\": false, \"text\": \"150.0\", \"x\": 2.55, \"xanchor\": \"left\", \"xref\": \"x\", \"y\": 1, \"yref\": \"y\"}, {\"align\": \"left\", \"font\": {\"color\": \"#000000\"}, \"showarrow\": false, \"text\": \"150.0\", \"x\": 3.55, \"xanchor\": \"left\", \"xref\": \"x\", \"y\": 1, \"yref\": \"y\"}, {\"align\": \"left\", \"font\": {\"color\": \"#000000\"}, \"showarrow\": false, \"text\": \"75.5\", \"x\": -0.45, \"xanchor\": \"left\", \"xref\": \"x\", \"y\": 2, \"yref\": \"y\"}, {\"align\": \"left\", \"font\": {\"color\": \"#000000\"}, \"showarrow\": false, \"text\": \"5.843333333333335\", \"x\": 0.55, \"xanchor\": \"left\", \"xref\": \"x\", \"y\": 2, \"yref\": \"y\"}, {\"align\": \"left\", \"font\": {\"color\": \"#000000\"}, \"showarrow\": false, \"text\": \"3.0540000000000007\", \"x\": 1.55, \"xanchor\": \"left\", \"xref\": \"x\", \"y\": 2, \"yref\": \"y\"}, {\"align\": \"left\", \"font\": {\"color\": \"#000000\"}, \"showarrow\": false, \"text\": \"3.7586666666666693\", \"x\": 2.55, \"xanchor\": \"left\", \"xref\": \"x\", \"y\": 2, \"yref\": \"y\"}, {\"align\": \"left\", \"font\": {\"color\": \"#000000\"}, \"showarrow\": false, \"text\": \"1.1986666666666672\", \"x\": 3.55, \"xanchor\": \"left\", \"xref\": \"x\", \"y\": 2, \"yref\": \"y\"}, {\"align\": \"left\", \"font\": {\"color\": \"#000000\"}, \"showarrow\": false, \"text\": \"43.445367992456916\", \"x\": -0.45, \"xanchor\": \"left\", \"xref\": \"x\", \"y\": 3, \"yref\": \"y\"}, {\"align\": \"left\", \"font\": {\"color\": \"#000000\"}, \"showarrow\": false, \"text\": \"0.8280661279778629\", \"x\": 0.55, \"xanchor\": \"left\", \"xref\": \"x\", \"y\": 3, \"yref\": \"y\"}, {\"align\": \"left\", \"font\": {\"color\": \"#000000\"}, \"showarrow\": false, \"text\": \"0.4335943113621737\", \"x\": 1.55, \"xanchor\": \"left\", \"xref\": \"x\", \"y\": 3, \"yref\": \"y\"}, {\"align\": \"left\", \"font\": {\"color\": \"#000000\"}, \"showarrow\": false, \"text\": \"1.7644204199522617\", \"x\": 2.55, \"xanchor\": \"left\", \"xref\": \"x\", \"y\": 3, \"yref\": \"y\"}, {\"align\": \"left\", \"font\": {\"color\": \"#000000\"}, \"showarrow\": false, \"text\": \"0.7631607417008414\", \"x\": 3.55, \"xanchor\": \"left\", \"xref\": \"x\", \"y\": 3, \"yref\": \"y\"}, {\"align\": \"left\", \"font\": {\"color\": \"#000000\"}, \"showarrow\": false, \"text\": \"1.0\", \"x\": -0.45, \"xanchor\": \"left\", \"xref\": \"x\", \"y\": 4, \"yref\": \"y\"}, {\"align\": \"left\", \"font\": {\"color\": \"#000000\"}, \"showarrow\": false, \"text\": \"4.3\", \"x\": 0.55, \"xanchor\": \"left\", \"xref\": \"x\", \"y\": 4, \"yref\": \"y\"}, {\"align\": \"left\", \"font\": {\"color\": \"#000000\"}, \"showarrow\": false, \"text\": \"2.0\", \"x\": 1.55, \"xanchor\": \"left\", \"xref\": \"x\", \"y\": 4, \"yref\": \"y\"}, {\"align\": \"left\", \"font\": {\"color\": \"#000000\"}, \"showarrow\": false, \"text\": \"1.0\", \"x\": 2.55, \"xanchor\": \"left\", \"xref\": \"x\", \"y\": 4, \"yref\": \"y\"}, {\"align\": \"left\", \"font\": {\"color\": \"#000000\"}, \"showarrow\": false, \"text\": \"0.1\", \"x\": 3.55, \"xanchor\": \"left\", \"xref\": \"x\", \"y\": 4, \"yref\": \"y\"}, {\"align\": \"left\", \"font\": {\"color\": \"#000000\"}, \"showarrow\": false, \"text\": \"38.25\", \"x\": -0.45, \"xanchor\": \"left\", \"xref\": \"x\", \"y\": 5, \"yref\": \"y\"}, {\"align\": \"left\", \"font\": {\"color\": \"#000000\"}, \"showarrow\": false, \"text\": \"5.1\", \"x\": 0.55, \"xanchor\": \"left\", \"xref\": \"x\", \"y\": 5, \"yref\": \"y\"}, {\"align\": \"left\", \"font\": {\"color\": \"#000000\"}, \"showarrow\": false, \"text\": \"2.8\", \"x\": 1.55, \"xanchor\": \"left\", \"xref\": \"x\", \"y\": 5, \"yref\": \"y\"}, {\"align\": \"left\", \"font\": {\"color\": \"#000000\"}, \"showarrow\": false, \"text\": \"1.6\", \"x\": 2.55, \"xanchor\": \"left\", \"xref\": \"x\", \"y\": 5, \"yref\": \"y\"}, {\"align\": \"left\", \"font\": {\"color\": \"#000000\"}, \"showarrow\": false, \"text\": \"0.3\", \"x\": 3.55, \"xanchor\": \"left\", \"xref\": \"x\", \"y\": 5, \"yref\": \"y\"}, {\"align\": \"left\", \"font\": {\"color\": \"#000000\"}, \"showarrow\": false, \"text\": \"75.5\", \"x\": -0.45, \"xanchor\": \"left\", \"xref\": \"x\", \"y\": 6, \"yref\": \"y\"}, {\"align\": \"left\", \"font\": {\"color\": \"#000000\"}, \"showarrow\": false, \"text\": \"5.8\", \"x\": 0.55, \"xanchor\": \"left\", \"xref\": \"x\", \"y\": 6, \"yref\": \"y\"}, {\"align\": \"left\", \"font\": {\"color\": \"#000000\"}, \"showarrow\": false, \"text\": \"3.0\", \"x\": 1.55, \"xanchor\": \"left\", \"xref\": \"x\", \"y\": 6, \"yref\": \"y\"}, {\"align\": \"left\", \"font\": {\"color\": \"#000000\"}, \"showarrow\": false, \"text\": \"4.35\", \"x\": 2.55, \"xanchor\": \"left\", \"xref\": \"x\", \"y\": 6, \"yref\": \"y\"}, {\"align\": \"left\", \"font\": {\"color\": \"#000000\"}, \"showarrow\": false, \"text\": \"1.3\", \"x\": 3.55, \"xanchor\": \"left\", \"xref\": \"x\", \"y\": 6, \"yref\": \"y\"}, {\"align\": \"left\", \"font\": {\"color\": \"#000000\"}, \"showarrow\": false, \"text\": \"112.75\", \"x\": -0.45, \"xanchor\": \"left\", \"xref\": \"x\", \"y\": 7, \"yref\": \"y\"}, {\"align\": \"left\", \"font\": {\"color\": \"#000000\"}, \"showarrow\": false, \"text\": \"6.4\", \"x\": 0.55, \"xanchor\": \"left\", \"xref\": \"x\", \"y\": 7, \"yref\": \"y\"}, {\"align\": \"left\", \"font\": {\"color\": \"#000000\"}, \"showarrow\": false, \"text\": \"3.3\", \"x\": 1.55, \"xanchor\": \"left\", \"xref\": \"x\", \"y\": 7, \"yref\": \"y\"}, {\"align\": \"left\", \"font\": {\"color\": \"#000000\"}, \"showarrow\": false, \"text\": \"5.1\", \"x\": 2.55, \"xanchor\": \"left\", \"xref\": \"x\", \"y\": 7, \"yref\": \"y\"}, {\"align\": \"left\", \"font\": {\"color\": \"#000000\"}, \"showarrow\": false, \"text\": \"1.8\", \"x\": 3.55, \"xanchor\": \"left\", \"xref\": \"x\", \"y\": 7, \"yref\": \"y\"}, {\"align\": \"left\", \"font\": {\"color\": \"#000000\"}, \"showarrow\": false, \"text\": \"150.0\", \"x\": -0.45, \"xanchor\": \"left\", \"xref\": \"x\", \"y\": 8, \"yref\": \"y\"}, {\"align\": \"left\", \"font\": {\"color\": \"#000000\"}, \"showarrow\": false, \"text\": \"7.9\", \"x\": 0.55, \"xanchor\": \"left\", \"xref\": \"x\", \"y\": 8, \"yref\": \"y\"}, {\"align\": \"left\", \"font\": {\"color\": \"#000000\"}, \"showarrow\": false, \"text\": \"4.4\", \"x\": 1.55, \"xanchor\": \"left\", \"xref\": \"x\", \"y\": 8, \"yref\": \"y\"}, {\"align\": \"left\", \"font\": {\"color\": \"#000000\"}, \"showarrow\": false, \"text\": \"6.9\", \"x\": 2.55, \"xanchor\": \"left\", \"xref\": \"x\", \"y\": 8, \"yref\": \"y\"}, {\"align\": \"left\", \"font\": {\"color\": \"#000000\"}, \"showarrow\": false, \"text\": \"2.5\", \"x\": 3.55, \"xanchor\": \"left\", \"xref\": \"x\", \"y\": 8, \"yref\": \"y\"}], \"height\": 320, \"margin\": {\"b\": 0, \"l\": 0, \"r\": 0, \"t\": 0}, \"xaxis\": {\"dtick\": 1, \"gridwidth\": 2, \"showticklabels\": false, \"tick0\": -0.5, \"ticks\": \"\", \"zeroline\": false}, \"yaxis\": {\"autorange\": \"reversed\", \"dtick\": 1, \"gridwidth\": 2, \"showticklabels\": false, \"tick0\": 0.5, \"ticks\": \"\", \"zeroline\": false}}, {\"showLink\": true, \"linkText\": \"Export to plot.ly\"})});</script>"
      ]
     },
     "metadata": {},
     "output_type": "display_data"
    }
   ],
   "source": [
    "py.iplot(ff.create_table(df.describe()),filename='jupyter-table1')\n"
   ]
  },
  {
   "cell_type": "code",
   "execution_count": 5,
   "metadata": {
    "_kg_hide-input": true,
    "_uuid": "1179c41df2d7a6e61012afbeab13b4cb97003724"
   },
   "outputs": [
    {
     "name": "stdout",
     "output_type": "stream",
     "text": [
      "<class 'pandas.core.frame.DataFrame'>\n",
      "RangeIndex: 150 entries, 0 to 149\n",
      "Data columns (total 6 columns):\n",
      "Id               150 non-null int64\n",
      "SepalLengthCm    150 non-null float64\n",
      "SepalWidthCm     150 non-null float64\n",
      "PetalLengthCm    150 non-null float64\n",
      "PetalWidthCm     150 non-null float64\n",
      "Species          150 non-null object\n",
      "dtypes: float64(4), int64(1), object(1)\n",
      "memory usage: 7.1+ KB\n"
     ]
    }
   ],
   "source": [
    "df.info()\n"
   ]
  },
  {
   "cell_type": "markdown",
   "metadata": {
    "_uuid": "d94cacaeb20745de52b44cecadb9f124bba6ede0"
   },
   "source": [
    "so there is no null values available in the data set\n"
   ]
  },
  {
   "cell_type": "markdown",
   "metadata": {
    "_uuid": "00fb91122216780bf8fbd66c2a13cee1eddfade0"
   },
   "source": [
    "# <a id='visual'>Now lets start visualizing the data set</a>"
   ]
  },
  {
   "cell_type": "markdown",
   "metadata": {
    "_uuid": "3771de617effaadbf899a4bcbf7db24ec45e9402"
   },
   "source": [
    "given the coloums are<br>\n",
    "SepalLengthCm<br>\n",
    "SepalWidthCm<br>\n",
    "PetalLengthCm<br>\n",
    "PetalWidthCm<br>\n",
    "Species<br>"
   ]
  },
  {
   "cell_type": "markdown",
   "metadata": {
    "_uuid": "4c54df7ef24e7d9e75fb6f2e6b137ef086a06319"
   },
   "source": [
    "# <a id='types_species'> Types of Species</a>"
   ]
  },
  {
   "cell_type": "code",
   "execution_count": 6,
   "metadata": {
    "_kg_hide-input": true,
    "_uuid": "ceea7a2606503e6afa020ec014be2efd989fd9d4"
   },
   "outputs": [
    {
     "data": {
      "text/plain": [
       "array(['Iris-setosa', 'Iris-versicolor', 'Iris-virginica'], dtype=object)"
      ]
     },
     "execution_count": 6,
     "metadata": {},
     "output_type": "execute_result"
    }
   ],
   "source": [
    "Species = df['Species'].unique()\n",
    "Species\n"
   ]
  },
  {
   "cell_type": "markdown",
   "metadata": {
    "_uuid": "3deeea05193d2bff16945fa5eee75f57144ecf06"
   },
   "source": [
    "So there are three types of species \n",
    "\n",
    "Iris-setosa<br/>\n",
    "Iris-versicolor<br/>\n",
    "Iris-virginica<br/>"
   ]
  },
  {
   "cell_type": "code",
   "execution_count": 7,
   "metadata": {
    "_kg_hide-input": true,
    "_uuid": "c0cc233be99d92c867be5b0e4ad77252b092418c"
   },
   "outputs": [
    {
     "data": {
      "application/vnd.plotly.v1+json": {
       "data": [
        {
         "marker": {
          "color": [
           "#8D57FC",
           "#7C8F18",
           "#2994BA"
          ]
         },
         "type": "bar",
         "uid": "96425f06-12be-11ea-87e1-bd890e9caf3c",
         "x": [
          "Iris-setosa",
          "Iris-versicolor",
          "Iris-virginica"
         ],
         "y": [
          50,
          50,
          50
         ]
        }
       ],
       "layout": {}
      },
      "text/html": [
       "<div id=\"bb97c5f4-ab3b-45cf-97f9-96f616b7a2b2\" style=\"height: 525px; width: 100%;\" class=\"plotly-graph-div\"></div><script type=\"text/javascript\">require([\"plotly\"], function(Plotly) { window.PLOTLYENV=window.PLOTLYENV || {};window.PLOTLYENV.BASE_URL=\"https://plot.ly\";Plotly.newPlot(\"bb97c5f4-ab3b-45cf-97f9-96f616b7a2b2\", [{\"marker\": {\"color\": [\"#8D57FC\", \"#7C8F18\", \"#2994BA\"]}, \"x\": [\"Iris-setosa\", \"Iris-versicolor\", \"Iris-virginica\"], \"y\": [50, 50, 50], \"type\": \"bar\", \"uid\": \"9646bda8-12be-11ea-87e1-bd890e9caf3c\"}], {}, {\"showLink\": true, \"linkText\": \"Export to plot.ly\"})});</script>"
      ],
      "text/vnd.plotly.v1+html": [
       "<div id=\"bb97c5f4-ab3b-45cf-97f9-96f616b7a2b2\" style=\"height: 525px; width: 100%;\" class=\"plotly-graph-div\"></div><script type=\"text/javascript\">require([\"plotly\"], function(Plotly) { window.PLOTLYENV=window.PLOTLYENV || {};window.PLOTLYENV.BASE_URL=\"https://plot.ly\";Plotly.newPlot(\"bb97c5f4-ab3b-45cf-97f9-96f616b7a2b2\", [{\"marker\": {\"color\": [\"#8D57FC\", \"#7C8F18\", \"#2994BA\"]}, \"x\": [\"Iris-setosa\", \"Iris-versicolor\", \"Iris-virginica\"], \"y\": [50, 50, 50], \"type\": \"bar\", \"uid\": \"9646bda8-12be-11ea-87e1-bd890e9caf3c\"}], {}, {\"showLink\": true, \"linkText\": \"Export to plot.ly\"})});</script>"
      ]
     },
     "metadata": {},
     "output_type": "display_data"
    }
   ],
   "source": [
    "species_count = df['Species'].value_counts()\n",
    "data = [go.Bar(\n",
    "    x = species_count.index,\n",
    "    y = species_count.values,\n",
    "    marker = dict(color = random_colors(3))\n",
    ")]\n",
    "py.iplot(data)\n"
   ]
  },
  {
   "cell_type": "markdown",
   "metadata": {
    "_uuid": "d23bea755d9d9dcafb8038277c26b386fceaafa4"
   },
   "source": [
    "So we have equally distributed species all are of 50"
   ]
  },
  {
   "cell_type": "markdown",
   "metadata": {
    "_uuid": "7e7c935c6749f76b8bb619b1a629861660d5878d"
   },
   "source": [
    "# <a id='corelation'>Corelation between features</a><br>"
   ]
  },
  {
   "cell_type": "code",
   "execution_count": 8,
   "metadata": {
    "_kg_hide-input": true,
    "_uuid": "47326e3e9bc656c6dbf3abffaddd8464180ba585"
   },
   "outputs": [
    {
     "data": {
      "application/vnd.plotly.v1+json": {
       "data": [
        {
         "colorscale": "Blackbody",
         "type": "heatmap",
         "uid": "964d968c-12be-11ea-87e1-bd890e9caf3c",
         "x": [
          "Id",
          "SepalLengthCm",
          "SepalWidthCm",
          "PetalLengthCm",
          "PetalWidthCm"
         ],
         "y": [
          "Id",
          "SepalLengthCm",
          "SepalWidthCm",
          "PetalLengthCm",
          "PetalWidthCm"
         ],
         "z": [
          [
           1.0,
           0.7166762728539001,
           -0.397728811465928,
           0.8827473181390559,
           0.8997585770933502
          ],
          [
           0.7166762728539001,
           1.0,
           -0.10936924995064935,
           0.8717541573048719,
           0.8179536333691635
          ],
          [
           -0.397728811465928,
           -0.10936924995064935,
           1.0,
           -0.42051609640115484,
           -0.3565440896138055
          ],
          [
           0.8827473181390559,
           0.8717541573048719,
           -0.42051609640115484,
           1.0,
           0.9627570970509667
          ],
          [
           0.8997585770933502,
           0.8179536333691635,
           -0.3565440896138055,
           0.9627570970509667,
           1.0
          ]
         ]
        }
       ],
       "layout": {}
      },
      "text/html": [
       "<div id=\"e674d259-75e7-4bbc-8195-ad4b854f4a2d\" style=\"height: 525px; width: 100%;\" class=\"plotly-graph-div\"></div><script type=\"text/javascript\">require([\"plotly\"], function(Plotly) { window.PLOTLYENV=window.PLOTLYENV || {};window.PLOTLYENV.BASE_URL=\"https://plot.ly\";Plotly.newPlot(\"e674d259-75e7-4bbc-8195-ad4b854f4a2d\", [{\"colorscale\": \"Blackbody\", \"x\": [\"Id\", \"SepalLengthCm\", \"SepalWidthCm\", \"PetalLengthCm\", \"PetalWidthCm\"], \"y\": [\"Id\", \"SepalLengthCm\", \"SepalWidthCm\", \"PetalLengthCm\", \"PetalWidthCm\"], \"z\": [[1.0, 0.7166762728539001, -0.397728811465928, 0.8827473181390559, 0.8997585770933502], [0.7166762728539001, 1.0, -0.10936924995064935, 0.8717541573048719, 0.8179536333691635], [-0.397728811465928, -0.10936924995064935, 1.0, -0.42051609640115484, -0.3565440896138055], [0.8827473181390559, 0.8717541573048719, -0.42051609640115484, 1.0, 0.9627570970509667], [0.8997585770933502, 0.8179536333691635, -0.3565440896138055, 0.9627570970509667, 1.0]], \"type\": \"heatmap\", \"uid\": \"96520f5a-12be-11ea-87e1-bd890e9caf3c\"}], {}, {\"showLink\": true, \"linkText\": \"Export to plot.ly\"})});</script>"
      ],
      "text/vnd.plotly.v1+html": [
       "<div id=\"e674d259-75e7-4bbc-8195-ad4b854f4a2d\" style=\"height: 525px; width: 100%;\" class=\"plotly-graph-div\"></div><script type=\"text/javascript\">require([\"plotly\"], function(Plotly) { window.PLOTLYENV=window.PLOTLYENV || {};window.PLOTLYENV.BASE_URL=\"https://plot.ly\";Plotly.newPlot(\"e674d259-75e7-4bbc-8195-ad4b854f4a2d\", [{\"colorscale\": \"Blackbody\", \"x\": [\"Id\", \"SepalLengthCm\", \"SepalWidthCm\", \"PetalLengthCm\", \"PetalWidthCm\"], \"y\": [\"Id\", \"SepalLengthCm\", \"SepalWidthCm\", \"PetalLengthCm\", \"PetalWidthCm\"], \"z\": [[1.0, 0.7166762728539001, -0.397728811465928, 0.8827473181390559, 0.8997585770933502], [0.7166762728539001, 1.0, -0.10936924995064935, 0.8717541573048719, 0.8179536333691635], [-0.397728811465928, -0.10936924995064935, 1.0, -0.42051609640115484, -0.3565440896138055], [0.8827473181390559, 0.8717541573048719, -0.42051609640115484, 1.0, 0.9627570970509667], [0.8997585770933502, 0.8179536333691635, -0.3565440896138055, 0.9627570970509667, 1.0]], \"type\": \"heatmap\", \"uid\": \"96520f5a-12be-11ea-87e1-bd890e9caf3c\"}], {}, {\"showLink\": true, \"linkText\": \"Export to plot.ly\"})});</script>"
      ]
     },
     "metadata": {},
     "output_type": "display_data"
    }
   ],
   "source": [
    "corelation = df.corr()\n",
    "data = [go.Heatmap(z = np.array(corelation.values),\n",
    "                   x = np.array(corelation.columns),\n",
    "                   y = np.array(corelation.columns),\n",
    "                     colorscale='Blackbody',)\n",
    "       ]\n",
    "py.iplot(data)\n"
   ]
  },
  {
   "cell_type": "markdown",
   "metadata": {
    "_uuid": "3b56bbb038bd566ac3814c6229195ee98ead714d"
   },
   "source": [
    "# <a id='visual_sepal'>Visualizing species based on Sepal length and width</a><br>"
   ]
  },
  {
   "cell_type": "code",
   "execution_count": 9,
   "metadata": {
    "_kg_hide-input": true,
    "_uuid": "2ef0b1dfaae5c114d43e6ae957aab61e28f178b3"
   },
   "outputs": [
    {
     "data": {
      "application/vnd.plotly.v1+json": {
       "data": [
        {
         "mode": "markers",
         "name": "setosa",
         "type": "scatter",
         "uid": "9689cf12-12be-11ea-87e1-bd890e9caf3c",
         "x": [
          5.1,
          4.9,
          4.7,
          4.6,
          5.0,
          5.4,
          4.6,
          5.0,
          4.4,
          4.9,
          5.4,
          4.8,
          4.8,
          4.3,
          5.8,
          5.7,
          5.4,
          5.1,
          5.7,
          5.1,
          5.4,
          5.1,
          4.6,
          5.1,
          4.8,
          5.0,
          5.0,
          5.2,
          5.2,
          4.7,
          4.8,
          5.4,
          5.2,
          5.5,
          4.9,
          5.0,
          5.5,
          4.9,
          4.4,
          5.1,
          5.0,
          4.5,
          4.4,
          5.0,
          5.1,
          4.8,
          5.1,
          4.6,
          5.3,
          5.0
         ],
         "y": [
          3.5,
          3.0,
          3.2,
          3.1,
          3.6,
          3.9,
          3.4,
          3.4,
          2.9,
          3.1,
          3.7,
          3.4,
          3.0,
          3.0,
          4.0,
          4.4,
          3.9,
          3.5,
          3.8,
          3.8,
          3.4,
          3.7,
          3.6,
          3.3,
          3.4,
          3.0,
          3.4,
          3.5,
          3.4,
          3.2,
          3.1,
          3.4,
          4.1,
          4.2,
          3.1,
          3.2,
          3.5,
          3.1,
          3.0,
          3.4,
          3.5,
          2.3,
          3.2,
          3.5,
          3.8,
          3.0,
          3.8,
          3.2,
          3.7,
          3.3
         ]
        },
        {
         "mode": "markers",
         "name": "versicolor",
         "type": "scatter",
         "uid": "9689d1e2-12be-11ea-87e1-bd890e9caf3c",
         "x": [
          7.0,
          6.4,
          6.9,
          5.5,
          6.5,
          5.7,
          6.3,
          4.9,
          6.6,
          5.2,
          5.0,
          5.9,
          6.0,
          6.1,
          5.6,
          6.7,
          5.6,
          5.8,
          6.2,
          5.6,
          5.9,
          6.1,
          6.3,
          6.1,
          6.4,
          6.6,
          6.8,
          6.7,
          6.0,
          5.7,
          5.5,
          5.5,
          5.8,
          6.0,
          5.4,
          6.0,
          6.7,
          6.3,
          5.6,
          5.5,
          5.5,
          6.1,
          5.8,
          5.0,
          5.6,
          5.7,
          5.7,
          6.2,
          5.1,
          5.7
         ],
         "y": [
          3.2,
          3.2,
          3.1,
          2.3,
          2.8,
          2.8,
          3.3,
          2.4,
          2.9,
          2.7,
          2.0,
          3.0,
          2.2,
          2.9,
          2.9,
          3.1,
          3.0,
          2.7,
          2.2,
          2.5,
          3.2,
          2.8,
          2.5,
          2.8,
          2.9,
          3.0,
          2.8,
          3.0,
          2.9,
          2.6,
          2.4,
          2.4,
          2.7,
          2.7,
          3.0,
          3.4,
          3.1,
          2.3,
          3.0,
          2.5,
          2.6,
          3.0,
          2.6,
          2.3,
          2.7,
          3.0,
          2.9,
          2.9,
          2.5,
          2.8
         ]
        },
        {
         "mode": "markers",
         "name": "virginica",
         "type": "scatter",
         "uid": "9689d2fa-12be-11ea-87e1-bd890e9caf3c",
         "x": [
          6.3,
          5.8,
          7.1,
          6.3,
          6.5,
          7.6,
          4.9,
          7.3,
          6.7,
          7.2,
          6.5,
          6.4,
          6.8,
          5.7,
          5.8,
          6.4,
          6.5,
          7.7,
          7.7,
          6.0,
          6.9,
          5.6,
          7.7,
          6.3,
          6.7,
          7.2,
          6.2,
          6.1,
          6.4,
          7.2,
          7.4,
          7.9,
          6.4,
          6.3,
          6.1,
          7.7,
          6.3,
          6.4,
          6.0,
          6.9,
          6.7,
          6.9,
          5.8,
          6.8,
          6.7,
          6.7,
          6.3,
          6.5,
          6.2,
          5.9
         ],
         "y": [
          3.3,
          2.7,
          3.0,
          2.9,
          3.0,
          3.0,
          2.5,
          2.9,
          2.5,
          3.6,
          3.2,
          2.7,
          3.0,
          2.5,
          2.8,
          3.2,
          3.0,
          3.8,
          2.6,
          2.2,
          3.2,
          2.8,
          2.8,
          2.7,
          3.3,
          3.2,
          2.8,
          3.0,
          2.8,
          3.0,
          2.8,
          3.8,
          2.8,
          2.8,
          2.6,
          3.0,
          3.4,
          3.1,
          3.0,
          3.1,
          3.1,
          3.1,
          2.7,
          3.2,
          3.3,
          3.0,
          2.5,
          3.0,
          3.4,
          3.0
         ]
        }
       ],
       "layout": {}
      },
      "text/html": [
       "<div id=\"59997322-f046-4525-86a6-df7f5c97326e\" style=\"height: 525px; width: 100%;\" class=\"plotly-graph-div\"></div><script type=\"text/javascript\">require([\"plotly\"], function(Plotly) { window.PLOTLYENV=window.PLOTLYENV || {};window.PLOTLYENV.BASE_URL=\"https://plot.ly\";Plotly.newPlot(\"59997322-f046-4525-86a6-df7f5c97326e\", [{\"mode\": \"markers\", \"name\": \"setosa\", \"x\": [5.1, 4.9, 4.7, 4.6, 5.0, 5.4, 4.6, 5.0, 4.4, 4.9, 5.4, 4.8, 4.8, 4.3, 5.8, 5.7, 5.4, 5.1, 5.7, 5.1, 5.4, 5.1, 4.6, 5.1, 4.8, 5.0, 5.0, 5.2, 5.2, 4.7, 4.8, 5.4, 5.2, 5.5, 4.9, 5.0, 5.5, 4.9, 4.4, 5.1, 5.0, 4.5, 4.4, 5.0, 5.1, 4.8, 5.1, 4.6, 5.3, 5.0], \"y\": [3.5, 3.0, 3.2, 3.1, 3.6, 3.9, 3.4, 3.4, 2.9, 3.1, 3.7, 3.4, 3.0, 3.0, 4.0, 4.4, 3.9, 3.5, 3.8, 3.8, 3.4, 3.7, 3.6, 3.3, 3.4, 3.0, 3.4, 3.5, 3.4, 3.2, 3.1, 3.4, 4.1, 4.2, 3.1, 3.2, 3.5, 3.1, 3.0, 3.4, 3.5, 2.3, 3.2, 3.5, 3.8, 3.0, 3.8, 3.2, 3.7, 3.3], \"type\": \"scatter\", \"uid\": \"969004c2-12be-11ea-87e1-bd890e9caf3c\"}, {\"mode\": \"markers\", \"name\": \"versicolor\", \"x\": [7.0, 6.4, 6.9, 5.5, 6.5, 5.7, 6.3, 4.9, 6.6, 5.2, 5.0, 5.9, 6.0, 6.1, 5.6, 6.7, 5.6, 5.8, 6.2, 5.6, 5.9, 6.1, 6.3, 6.1, 6.4, 6.6, 6.8, 6.7, 6.0, 5.7, 5.5, 5.5, 5.8, 6.0, 5.4, 6.0, 6.7, 6.3, 5.6, 5.5, 5.5, 6.1, 5.8, 5.0, 5.6, 5.7, 5.7, 6.2, 5.1, 5.7], \"y\": [3.2, 3.2, 3.1, 2.3, 2.8, 2.8, 3.3, 2.4, 2.9, 2.7, 2.0, 3.0, 2.2, 2.9, 2.9, 3.1, 3.0, 2.7, 2.2, 2.5, 3.2, 2.8, 2.5, 2.8, 2.9, 3.0, 2.8, 3.0, 2.9, 2.6, 2.4, 2.4, 2.7, 2.7, 3.0, 3.4, 3.1, 2.3, 3.0, 2.5, 2.6, 3.0, 2.6, 2.3, 2.7, 3.0, 2.9, 2.9, 2.5, 2.8], \"type\": \"scatter\", \"uid\": \"9690071a-12be-11ea-87e1-bd890e9caf3c\"}, {\"mode\": \"markers\", \"name\": \"virginica\", \"x\": [6.3, 5.8, 7.1, 6.3, 6.5, 7.6, 4.9, 7.3, 6.7, 7.2, 6.5, 6.4, 6.8, 5.7, 5.8, 6.4, 6.5, 7.7, 7.7, 6.0, 6.9, 5.6, 7.7, 6.3, 6.7, 7.2, 6.2, 6.1, 6.4, 7.2, 7.4, 7.9, 6.4, 6.3, 6.1, 7.7, 6.3, 6.4, 6.0, 6.9, 6.7, 6.9, 5.8, 6.8, 6.7, 6.7, 6.3, 6.5, 6.2, 5.9], \"y\": [3.3, 2.7, 3.0, 2.9, 3.0, 3.0, 2.5, 2.9, 2.5, 3.6, 3.2, 2.7, 3.0, 2.5, 2.8, 3.2, 3.0, 3.8, 2.6, 2.2, 3.2, 2.8, 2.8, 2.7, 3.3, 3.2, 2.8, 3.0, 2.8, 3.0, 2.8, 3.8, 2.8, 2.8, 2.6, 3.0, 3.4, 3.1, 3.0, 3.1, 3.1, 3.1, 2.7, 3.2, 3.3, 3.0, 2.5, 3.0, 3.4, 3.0], \"type\": \"scatter\", \"uid\": \"96900878-12be-11ea-87e1-bd890e9caf3c\"}], {}, {\"showLink\": true, \"linkText\": \"Export to plot.ly\"})});</script>"
      ],
      "text/vnd.plotly.v1+html": [
       "<div id=\"59997322-f046-4525-86a6-df7f5c97326e\" style=\"height: 525px; width: 100%;\" class=\"plotly-graph-div\"></div><script type=\"text/javascript\">require([\"plotly\"], function(Plotly) { window.PLOTLYENV=window.PLOTLYENV || {};window.PLOTLYENV.BASE_URL=\"https://plot.ly\";Plotly.newPlot(\"59997322-f046-4525-86a6-df7f5c97326e\", [{\"mode\": \"markers\", \"name\": \"setosa\", \"x\": [5.1, 4.9, 4.7, 4.6, 5.0, 5.4, 4.6, 5.0, 4.4, 4.9, 5.4, 4.8, 4.8, 4.3, 5.8, 5.7, 5.4, 5.1, 5.7, 5.1, 5.4, 5.1, 4.6, 5.1, 4.8, 5.0, 5.0, 5.2, 5.2, 4.7, 4.8, 5.4, 5.2, 5.5, 4.9, 5.0, 5.5, 4.9, 4.4, 5.1, 5.0, 4.5, 4.4, 5.0, 5.1, 4.8, 5.1, 4.6, 5.3, 5.0], \"y\": [3.5, 3.0, 3.2, 3.1, 3.6, 3.9, 3.4, 3.4, 2.9, 3.1, 3.7, 3.4, 3.0, 3.0, 4.0, 4.4, 3.9, 3.5, 3.8, 3.8, 3.4, 3.7, 3.6, 3.3, 3.4, 3.0, 3.4, 3.5, 3.4, 3.2, 3.1, 3.4, 4.1, 4.2, 3.1, 3.2, 3.5, 3.1, 3.0, 3.4, 3.5, 2.3, 3.2, 3.5, 3.8, 3.0, 3.8, 3.2, 3.7, 3.3], \"type\": \"scatter\", \"uid\": \"969004c2-12be-11ea-87e1-bd890e9caf3c\"}, {\"mode\": \"markers\", \"name\": \"versicolor\", \"x\": [7.0, 6.4, 6.9, 5.5, 6.5, 5.7, 6.3, 4.9, 6.6, 5.2, 5.0, 5.9, 6.0, 6.1, 5.6, 6.7, 5.6, 5.8, 6.2, 5.6, 5.9, 6.1, 6.3, 6.1, 6.4, 6.6, 6.8, 6.7, 6.0, 5.7, 5.5, 5.5, 5.8, 6.0, 5.4, 6.0, 6.7, 6.3, 5.6, 5.5, 5.5, 6.1, 5.8, 5.0, 5.6, 5.7, 5.7, 6.2, 5.1, 5.7], \"y\": [3.2, 3.2, 3.1, 2.3, 2.8, 2.8, 3.3, 2.4, 2.9, 2.7, 2.0, 3.0, 2.2, 2.9, 2.9, 3.1, 3.0, 2.7, 2.2, 2.5, 3.2, 2.8, 2.5, 2.8, 2.9, 3.0, 2.8, 3.0, 2.9, 2.6, 2.4, 2.4, 2.7, 2.7, 3.0, 3.4, 3.1, 2.3, 3.0, 2.5, 2.6, 3.0, 2.6, 2.3, 2.7, 3.0, 2.9, 2.9, 2.5, 2.8], \"type\": \"scatter\", \"uid\": \"9690071a-12be-11ea-87e1-bd890e9caf3c\"}, {\"mode\": \"markers\", \"name\": \"virginica\", \"x\": [6.3, 5.8, 7.1, 6.3, 6.5, 7.6, 4.9, 7.3, 6.7, 7.2, 6.5, 6.4, 6.8, 5.7, 5.8, 6.4, 6.5, 7.7, 7.7, 6.0, 6.9, 5.6, 7.7, 6.3, 6.7, 7.2, 6.2, 6.1, 6.4, 7.2, 7.4, 7.9, 6.4, 6.3, 6.1, 7.7, 6.3, 6.4, 6.0, 6.9, 6.7, 6.9, 5.8, 6.8, 6.7, 6.7, 6.3, 6.5, 6.2, 5.9], \"y\": [3.3, 2.7, 3.0, 2.9, 3.0, 3.0, 2.5, 2.9, 2.5, 3.6, 3.2, 2.7, 3.0, 2.5, 2.8, 3.2, 3.0, 3.8, 2.6, 2.2, 3.2, 2.8, 2.8, 2.7, 3.3, 3.2, 2.8, 3.0, 2.8, 3.0, 2.8, 3.8, 2.8, 2.8, 2.6, 3.0, 3.4, 3.1, 3.0, 3.1, 3.1, 3.1, 2.7, 3.2, 3.3, 3.0, 2.5, 3.0, 3.4, 3.0], \"type\": \"scatter\", \"uid\": \"96900878-12be-11ea-87e1-bd890e9caf3c\"}], {}, {\"showLink\": true, \"linkText\": \"Export to plot.ly\"})});</script>"
      ]
     },
     "metadata": {},
     "output_type": "display_data"
    }
   ],
   "source": [
    "setosa = go.Scatter(x = df['SepalLengthCm'][df.Species =='Iris-setosa'], y = df['SepalWidthCm'][df.Species =='Iris-setosa']\n",
    "                   , mode = 'markers', name = 'setosa')\n",
    "versicolor = go.Scatter(x = df['SepalLengthCm'][df.Species =='Iris-versicolor'], y = df['SepalWidthCm'][df.Species =='Iris-versicolor']\n",
    "                   , mode = 'markers', name = 'versicolor')\n",
    "virginica = go.Scatter(x = df['SepalLengthCm'][df.Species =='Iris-virginica'], y = df['SepalWidthCm'][df.Species =='Iris-virginica']\n",
    "                   , mode = 'markers', name = 'virginica')\n",
    "data = [setosa, versicolor, virginica]\n",
    "\n",
    "fig = dict(data=data)\n",
    "py.iplot(fig, filename='styled-scatter')"
   ]
  },
  {
   "cell_type": "markdown",
   "metadata": {
    "_uuid": "40067201ffdfbdf8c61c2c4b9ec7fda510430eaa"
   },
   "source": [
    "We can easily differentiate setosa based on Sepal but for versicolor and virginica its difficult because the data is scattred."
   ]
  },
  {
   "cell_type": "markdown",
   "metadata": {
    "_uuid": "57ee9c60cac06b153615b63a0e42bebf3afd9e6a"
   },
   "source": [
    "#  <a id='visual_petal'>Visualizing species based on petal length and width</a><br>"
   ]
  },
  {
   "cell_type": "code",
   "execution_count": 10,
   "metadata": {
    "_kg_hide-input": true,
    "_uuid": "cfe04b72e851722e20c282f0434c1da2c33715f9"
   },
   "outputs": [
    {
     "data": {
      "application/vnd.plotly.v1+json": {
       "data": [
        {
         "mode": "markers",
         "name": "setosa",
         "type": "scatter",
         "uid": "969c8f94-12be-11ea-87e1-bd890e9caf3c",
         "x": [
          1.4,
          1.4,
          1.3,
          1.5,
          1.4,
          1.7,
          1.4,
          1.5,
          1.4,
          1.5,
          1.5,
          1.6,
          1.4,
          1.1,
          1.2,
          1.5,
          1.3,
          1.4,
          1.7,
          1.5,
          1.7,
          1.5,
          1.0,
          1.7,
          1.9,
          1.6,
          1.6,
          1.5,
          1.4,
          1.6,
          1.6,
          1.5,
          1.5,
          1.4,
          1.5,
          1.2,
          1.3,
          1.5,
          1.3,
          1.5,
          1.3,
          1.3,
          1.3,
          1.6,
          1.9,
          1.4,
          1.6,
          1.4,
          1.5,
          1.4
         ],
         "y": [
          0.2,
          0.2,
          0.2,
          0.2,
          0.2,
          0.4,
          0.3,
          0.2,
          0.2,
          0.1,
          0.2,
          0.2,
          0.1,
          0.1,
          0.2,
          0.4,
          0.4,
          0.3,
          0.3,
          0.3,
          0.2,
          0.4,
          0.2,
          0.5,
          0.2,
          0.2,
          0.4,
          0.2,
          0.2,
          0.2,
          0.2,
          0.4,
          0.1,
          0.2,
          0.1,
          0.2,
          0.2,
          0.1,
          0.2,
          0.2,
          0.3,
          0.3,
          0.2,
          0.6,
          0.4,
          0.3,
          0.2,
          0.2,
          0.2,
          0.2
         ]
        },
        {
         "mode": "markers",
         "name": "versicolor",
         "type": "scatter",
         "uid": "969c928c-12be-11ea-87e1-bd890e9caf3c",
         "x": [
          4.7,
          4.5,
          4.9,
          4.0,
          4.6,
          4.5,
          4.7,
          3.3,
          4.6,
          3.9,
          3.5,
          4.2,
          4.0,
          4.7,
          3.6,
          4.4,
          4.5,
          4.1,
          4.5,
          3.9,
          4.8,
          4.0,
          4.9,
          4.7,
          4.3,
          4.4,
          4.8,
          5.0,
          4.5,
          3.5,
          3.8,
          3.7,
          3.9,
          5.1,
          4.5,
          4.5,
          4.7,
          4.4,
          4.1,
          4.0,
          4.4,
          4.6,
          4.0,
          3.3,
          4.2,
          4.2,
          4.2,
          4.3,
          3.0,
          4.1
         ],
         "y": [
          1.4,
          1.5,
          1.5,
          1.3,
          1.5,
          1.3,
          1.6,
          1.0,
          1.3,
          1.4,
          1.0,
          1.5,
          1.0,
          1.4,
          1.3,
          1.4,
          1.5,
          1.0,
          1.5,
          1.1,
          1.8,
          1.3,
          1.5,
          1.2,
          1.3,
          1.4,
          1.4,
          1.7,
          1.5,
          1.0,
          1.1,
          1.0,
          1.2,
          1.6,
          1.5,
          1.6,
          1.5,
          1.3,
          1.3,
          1.3,
          1.2,
          1.4,
          1.2,
          1.0,
          1.3,
          1.2,
          1.3,
          1.3,
          1.1,
          1.3
         ]
        },
        {
         "mode": "markers",
         "name": "virginica",
         "type": "scatter",
         "uid": "969c9408-12be-11ea-87e1-bd890e9caf3c",
         "x": [
          6.0,
          5.1,
          5.9,
          5.6,
          5.8,
          6.6,
          4.5,
          6.3,
          5.8,
          6.1,
          5.1,
          5.3,
          5.5,
          5.0,
          5.1,
          5.3,
          5.5,
          6.7,
          6.9,
          5.0,
          5.7,
          4.9,
          6.7,
          4.9,
          5.7,
          6.0,
          4.8,
          4.9,
          5.6,
          5.8,
          6.1,
          6.4,
          5.6,
          5.1,
          5.6,
          6.1,
          5.6,
          5.5,
          4.8,
          5.4,
          5.6,
          5.1,
          5.1,
          5.9,
          5.7,
          5.2,
          5.0,
          5.2,
          5.4,
          5.1
         ],
         "y": [
          2.5,
          1.9,
          2.1,
          1.8,
          2.2,
          2.1,
          1.7,
          1.8,
          1.8,
          2.5,
          2.0,
          1.9,
          2.1,
          2.0,
          2.4,
          2.3,
          1.8,
          2.2,
          2.3,
          1.5,
          2.3,
          2.0,
          2.0,
          1.8,
          2.1,
          1.8,
          1.8,
          1.8,
          2.1,
          1.6,
          1.9,
          2.0,
          2.2,
          1.5,
          1.4,
          2.3,
          2.4,
          1.8,
          1.8,
          2.1,
          2.4,
          2.3,
          1.9,
          2.3,
          2.5,
          2.3,
          1.9,
          2.0,
          2.3,
          1.8
         ]
        }
       ],
       "layout": {}
      },
      "text/html": [
       "<div id=\"ece14c9d-4bc8-4a1e-8b7d-9c9e5f88bdee\" style=\"height: 525px; width: 100%;\" class=\"plotly-graph-div\"></div><script type=\"text/javascript\">require([\"plotly\"], function(Plotly) { window.PLOTLYENV=window.PLOTLYENV || {};window.PLOTLYENV.BASE_URL=\"https://plot.ly\";Plotly.newPlot(\"ece14c9d-4bc8-4a1e-8b7d-9c9e5f88bdee\", [{\"mode\": \"markers\", \"name\": \"setosa\", \"x\": [1.4, 1.4, 1.3, 1.5, 1.4, 1.7, 1.4, 1.5, 1.4, 1.5, 1.5, 1.6, 1.4, 1.1, 1.2, 1.5, 1.3, 1.4, 1.7, 1.5, 1.7, 1.5, 1.0, 1.7, 1.9, 1.6, 1.6, 1.5, 1.4, 1.6, 1.6, 1.5, 1.5, 1.4, 1.5, 1.2, 1.3, 1.5, 1.3, 1.5, 1.3, 1.3, 1.3, 1.6, 1.9, 1.4, 1.6, 1.4, 1.5, 1.4], \"y\": [0.2, 0.2, 0.2, 0.2, 0.2, 0.4, 0.3, 0.2, 0.2, 0.1, 0.2, 0.2, 0.1, 0.1, 0.2, 0.4, 0.4, 0.3, 0.3, 0.3, 0.2, 0.4, 0.2, 0.5, 0.2, 0.2, 0.4, 0.2, 0.2, 0.2, 0.2, 0.4, 0.1, 0.2, 0.1, 0.2, 0.2, 0.1, 0.2, 0.2, 0.3, 0.3, 0.2, 0.6, 0.4, 0.3, 0.2, 0.2, 0.2, 0.2], \"type\": \"scatter\", \"uid\": \"96a289d0-12be-11ea-87e1-bd890e9caf3c\"}, {\"mode\": \"markers\", \"name\": \"versicolor\", \"x\": [4.7, 4.5, 4.9, 4.0, 4.6, 4.5, 4.7, 3.3, 4.6, 3.9, 3.5, 4.2, 4.0, 4.7, 3.6, 4.4, 4.5, 4.1, 4.5, 3.9, 4.8, 4.0, 4.9, 4.7, 4.3, 4.4, 4.8, 5.0, 4.5, 3.5, 3.8, 3.7, 3.9, 5.1, 4.5, 4.5, 4.7, 4.4, 4.1, 4.0, 4.4, 4.6, 4.0, 3.3, 4.2, 4.2, 4.2, 4.3, 3.0, 4.1], \"y\": [1.4, 1.5, 1.5, 1.3, 1.5, 1.3, 1.6, 1.0, 1.3, 1.4, 1.0, 1.5, 1.0, 1.4, 1.3, 1.4, 1.5, 1.0, 1.5, 1.1, 1.8, 1.3, 1.5, 1.2, 1.3, 1.4, 1.4, 1.7, 1.5, 1.0, 1.1, 1.0, 1.2, 1.6, 1.5, 1.6, 1.5, 1.3, 1.3, 1.3, 1.2, 1.4, 1.2, 1.0, 1.3, 1.2, 1.3, 1.3, 1.1, 1.3], \"type\": \"scatter\", \"uid\": \"96a28d40-12be-11ea-87e1-bd890e9caf3c\"}, {\"mode\": \"markers\", \"name\": \"virginica\", \"x\": [6.0, 5.1, 5.9, 5.6, 5.8, 6.6, 4.5, 6.3, 5.8, 6.1, 5.1, 5.3, 5.5, 5.0, 5.1, 5.3, 5.5, 6.7, 6.9, 5.0, 5.7, 4.9, 6.7, 4.9, 5.7, 6.0, 4.8, 4.9, 5.6, 5.8, 6.1, 6.4, 5.6, 5.1, 5.6, 6.1, 5.6, 5.5, 4.8, 5.4, 5.6, 5.1, 5.1, 5.9, 5.7, 5.2, 5.0, 5.2, 5.4, 5.1], \"y\": [2.5, 1.9, 2.1, 1.8, 2.2, 2.1, 1.7, 1.8, 1.8, 2.5, 2.0, 1.9, 2.1, 2.0, 2.4, 2.3, 1.8, 2.2, 2.3, 1.5, 2.3, 2.0, 2.0, 1.8, 2.1, 1.8, 1.8, 1.8, 2.1, 1.6, 1.9, 2.0, 2.2, 1.5, 1.4, 2.3, 2.4, 1.8, 1.8, 2.1, 2.4, 2.3, 1.9, 2.3, 2.5, 2.3, 1.9, 2.0, 2.3, 1.8], \"type\": \"scatter\", \"uid\": \"96a28e58-12be-11ea-87e1-bd890e9caf3c\"}], {}, {\"showLink\": true, \"linkText\": \"Export to plot.ly\"})});</script>"
      ],
      "text/vnd.plotly.v1+html": [
       "<div id=\"ece14c9d-4bc8-4a1e-8b7d-9c9e5f88bdee\" style=\"height: 525px; width: 100%;\" class=\"plotly-graph-div\"></div><script type=\"text/javascript\">require([\"plotly\"], function(Plotly) { window.PLOTLYENV=window.PLOTLYENV || {};window.PLOTLYENV.BASE_URL=\"https://plot.ly\";Plotly.newPlot(\"ece14c9d-4bc8-4a1e-8b7d-9c9e5f88bdee\", [{\"mode\": \"markers\", \"name\": \"setosa\", \"x\": [1.4, 1.4, 1.3, 1.5, 1.4, 1.7, 1.4, 1.5, 1.4, 1.5, 1.5, 1.6, 1.4, 1.1, 1.2, 1.5, 1.3, 1.4, 1.7, 1.5, 1.7, 1.5, 1.0, 1.7, 1.9, 1.6, 1.6, 1.5, 1.4, 1.6, 1.6, 1.5, 1.5, 1.4, 1.5, 1.2, 1.3, 1.5, 1.3, 1.5, 1.3, 1.3, 1.3, 1.6, 1.9, 1.4, 1.6, 1.4, 1.5, 1.4], \"y\": [0.2, 0.2, 0.2, 0.2, 0.2, 0.4, 0.3, 0.2, 0.2, 0.1, 0.2, 0.2, 0.1, 0.1, 0.2, 0.4, 0.4, 0.3, 0.3, 0.3, 0.2, 0.4, 0.2, 0.5, 0.2, 0.2, 0.4, 0.2, 0.2, 0.2, 0.2, 0.4, 0.1, 0.2, 0.1, 0.2, 0.2, 0.1, 0.2, 0.2, 0.3, 0.3, 0.2, 0.6, 0.4, 0.3, 0.2, 0.2, 0.2, 0.2], \"type\": \"scatter\", \"uid\": \"96a289d0-12be-11ea-87e1-bd890e9caf3c\"}, {\"mode\": \"markers\", \"name\": \"versicolor\", \"x\": [4.7, 4.5, 4.9, 4.0, 4.6, 4.5, 4.7, 3.3, 4.6, 3.9, 3.5, 4.2, 4.0, 4.7, 3.6, 4.4, 4.5, 4.1, 4.5, 3.9, 4.8, 4.0, 4.9, 4.7, 4.3, 4.4, 4.8, 5.0, 4.5, 3.5, 3.8, 3.7, 3.9, 5.1, 4.5, 4.5, 4.7, 4.4, 4.1, 4.0, 4.4, 4.6, 4.0, 3.3, 4.2, 4.2, 4.2, 4.3, 3.0, 4.1], \"y\": [1.4, 1.5, 1.5, 1.3, 1.5, 1.3, 1.6, 1.0, 1.3, 1.4, 1.0, 1.5, 1.0, 1.4, 1.3, 1.4, 1.5, 1.0, 1.5, 1.1, 1.8, 1.3, 1.5, 1.2, 1.3, 1.4, 1.4, 1.7, 1.5, 1.0, 1.1, 1.0, 1.2, 1.6, 1.5, 1.6, 1.5, 1.3, 1.3, 1.3, 1.2, 1.4, 1.2, 1.0, 1.3, 1.2, 1.3, 1.3, 1.1, 1.3], \"type\": \"scatter\", \"uid\": \"96a28d40-12be-11ea-87e1-bd890e9caf3c\"}, {\"mode\": \"markers\", \"name\": \"virginica\", \"x\": [6.0, 5.1, 5.9, 5.6, 5.8, 6.6, 4.5, 6.3, 5.8, 6.1, 5.1, 5.3, 5.5, 5.0, 5.1, 5.3, 5.5, 6.7, 6.9, 5.0, 5.7, 4.9, 6.7, 4.9, 5.7, 6.0, 4.8, 4.9, 5.6, 5.8, 6.1, 6.4, 5.6, 5.1, 5.6, 6.1, 5.6, 5.5, 4.8, 5.4, 5.6, 5.1, 5.1, 5.9, 5.7, 5.2, 5.0, 5.2, 5.4, 5.1], \"y\": [2.5, 1.9, 2.1, 1.8, 2.2, 2.1, 1.7, 1.8, 1.8, 2.5, 2.0, 1.9, 2.1, 2.0, 2.4, 2.3, 1.8, 2.2, 2.3, 1.5, 2.3, 2.0, 2.0, 1.8, 2.1, 1.8, 1.8, 1.8, 2.1, 1.6, 1.9, 2.0, 2.2, 1.5, 1.4, 2.3, 2.4, 1.8, 1.8, 2.1, 2.4, 2.3, 1.9, 2.3, 2.5, 2.3, 1.9, 2.0, 2.3, 1.8], \"type\": \"scatter\", \"uid\": \"96a28e58-12be-11ea-87e1-bd890e9caf3c\"}], {}, {\"showLink\": true, \"linkText\": \"Export to plot.ly\"})});</script>"
      ]
     },
     "metadata": {},
     "output_type": "display_data"
    }
   ],
   "source": [
    "setosa = go.Scatter(x = df['PetalLengthCm'][df.Species =='Iris-setosa'], y = df['PetalWidthCm'][df.Species =='Iris-setosa']\n",
    "                   , mode = 'markers', name = 'setosa')\n",
    "versicolor = go.Scatter(x = df['PetalLengthCm'][df.Species =='Iris-versicolor'], y = df['PetalWidthCm'][df.Species =='Iris-versicolor']\n",
    "                   , mode = 'markers', name = 'versicolor')\n",
    "virginica = go.Scatter(x = df['PetalLengthCm'][df.Species =='Iris-virginica'], y = df['PetalWidthCm'][df.Species =='Iris-virginica']\n",
    "                   , mode = 'markers', name = 'virginica')\n",
    "data = [setosa, versicolor, virginica]\n",
    "\n",
    "fig = dict(data=data)\n",
    "py.iplot(fig, filename='styled-scatter')"
   ]
  },
  {
   "cell_type": "markdown",
   "metadata": {
    "_uuid": "5cf26e01889e05607ff263ef64047020bcf10441"
   },
   "source": [
    "Again based on petal we can easily classify setosa and for versicolor and virginica also we can classify but there is a thin line which should be taken care of"
   ]
  },
  {
   "cell_type": "markdown",
   "metadata": {
    "_uuid": "a1b7b9f53e9ef05304b3bc39977bc786fa461fc0"
   },
   "source": [
    "# <a id='value_petal_width'>Values distribution based on petal width</a><br>"
   ]
  },
  {
   "cell_type": "code",
   "execution_count": 11,
   "metadata": {
    "_kg_hide-input": true,
    "_uuid": "071848513d26db0df5a8e537bbbe18734db7f9db"
   },
   "outputs": [
    {
     "data": {
      "application/vnd.plotly.v1+json": {
       "data": [
        {
         "boxmean": true,
         "name": "setosa",
         "type": "box",
         "uid": "96bc83e4-12be-11ea-87e1-bd890e9caf3c",
         "y": [
          0.2,
          0.2,
          0.2,
          0.2,
          0.2,
          0.4,
          0.3,
          0.2,
          0.2,
          0.1,
          0.2,
          0.2,
          0.1,
          0.1,
          0.2,
          0.4,
          0.4,
          0.3,
          0.3,
          0.3,
          0.2,
          0.4,
          0.2,
          0.5,
          0.2,
          0.2,
          0.4,
          0.2,
          0.2,
          0.2,
          0.2,
          0.4,
          0.1,
          0.2,
          0.1,
          0.2,
          0.2,
          0.1,
          0.2,
          0.2,
          0.3,
          0.3,
          0.2,
          0.6,
          0.4,
          0.3,
          0.2,
          0.2,
          0.2,
          0.2
         ]
        },
        {
         "boxmean": true,
         "name": "versicolor",
         "type": "box",
         "uid": "96bc8790-12be-11ea-87e1-bd890e9caf3c",
         "y": [
          1.4,
          1.5,
          1.5,
          1.3,
          1.5,
          1.3,
          1.6,
          1.0,
          1.3,
          1.4,
          1.0,
          1.5,
          1.0,
          1.4,
          1.3,
          1.4,
          1.5,
          1.0,
          1.5,
          1.1,
          1.8,
          1.3,
          1.5,
          1.2,
          1.3,
          1.4,
          1.4,
          1.7,
          1.5,
          1.0,
          1.1,
          1.0,
          1.2,
          1.6,
          1.5,
          1.6,
          1.5,
          1.3,
          1.3,
          1.3,
          1.2,
          1.4,
          1.2,
          1.0,
          1.3,
          1.2,
          1.3,
          1.3,
          1.1,
          1.3
         ]
        },
        {
         "boxmean": true,
         "name": "virginica",
         "type": "box",
         "uid": "96bc8984-12be-11ea-87e1-bd890e9caf3c",
         "y": [
          2.5,
          1.9,
          2.1,
          1.8,
          2.2,
          2.1,
          1.7,
          1.8,
          1.8,
          2.5,
          2.0,
          1.9,
          2.1,
          2.0,
          2.4,
          2.3,
          1.8,
          2.2,
          2.3,
          1.5,
          2.3,
          2.0,
          2.0,
          1.8,
          2.1,
          1.8,
          1.8,
          1.8,
          2.1,
          1.6,
          1.9,
          2.0,
          2.2,
          1.5,
          1.4,
          2.3,
          2.4,
          1.8,
          1.8,
          2.1,
          2.4,
          2.3,
          1.9,
          2.3,
          2.5,
          2.3,
          1.9,
          2.0,
          2.3,
          1.8
         ]
        }
       ],
       "layout": {}
      },
      "text/html": [
       "<div id=\"51bd65ca-0cd0-446d-88ed-58571599272f\" style=\"height: 525px; width: 100%;\" class=\"plotly-graph-div\"></div><script type=\"text/javascript\">require([\"plotly\"], function(Plotly) { window.PLOTLYENV=window.PLOTLYENV || {};window.PLOTLYENV.BASE_URL=\"https://plot.ly\";Plotly.newPlot(\"51bd65ca-0cd0-446d-88ed-58571599272f\", [{\"boxmean\": true, \"name\": \"setosa\", \"y\": [0.2, 0.2, 0.2, 0.2, 0.2, 0.4, 0.3, 0.2, 0.2, 0.1, 0.2, 0.2, 0.1, 0.1, 0.2, 0.4, 0.4, 0.3, 0.3, 0.3, 0.2, 0.4, 0.2, 0.5, 0.2, 0.2, 0.4, 0.2, 0.2, 0.2, 0.2, 0.4, 0.1, 0.2, 0.1, 0.2, 0.2, 0.1, 0.2, 0.2, 0.3, 0.3, 0.2, 0.6, 0.4, 0.3, 0.2, 0.2, 0.2, 0.2], \"type\": \"box\", \"uid\": \"96c17bec-12be-11ea-87e1-bd890e9caf3c\"}, {\"boxmean\": true, \"name\": \"versicolor\", \"y\": [1.4, 1.5, 1.5, 1.3, 1.5, 1.3, 1.6, 1.0, 1.3, 1.4, 1.0, 1.5, 1.0, 1.4, 1.3, 1.4, 1.5, 1.0, 1.5, 1.1, 1.8, 1.3, 1.5, 1.2, 1.3, 1.4, 1.4, 1.7, 1.5, 1.0, 1.1, 1.0, 1.2, 1.6, 1.5, 1.6, 1.5, 1.3, 1.3, 1.3, 1.2, 1.4, 1.2, 1.0, 1.3, 1.2, 1.3, 1.3, 1.1, 1.3], \"type\": \"box\", \"uid\": \"96c17e80-12be-11ea-87e1-bd890e9caf3c\"}, {\"boxmean\": true, \"name\": \"virginica\", \"y\": [2.5, 1.9, 2.1, 1.8, 2.2, 2.1, 1.7, 1.8, 1.8, 2.5, 2.0, 1.9, 2.1, 2.0, 2.4, 2.3, 1.8, 2.2, 2.3, 1.5, 2.3, 2.0, 2.0, 1.8, 2.1, 1.8, 1.8, 1.8, 2.1, 1.6, 1.9, 2.0, 2.2, 1.5, 1.4, 2.3, 2.4, 1.8, 1.8, 2.1, 2.4, 2.3, 1.9, 2.3, 2.5, 2.3, 1.9, 2.0, 2.3, 1.8], \"type\": \"box\", \"uid\": \"96c17f84-12be-11ea-87e1-bd890e9caf3c\"}], {}, {\"showLink\": true, \"linkText\": \"Export to plot.ly\"})});</script>"
      ],
      "text/vnd.plotly.v1+html": [
       "<div id=\"51bd65ca-0cd0-446d-88ed-58571599272f\" style=\"height: 525px; width: 100%;\" class=\"plotly-graph-div\"></div><script type=\"text/javascript\">require([\"plotly\"], function(Plotly) { window.PLOTLYENV=window.PLOTLYENV || {};window.PLOTLYENV.BASE_URL=\"https://plot.ly\";Plotly.newPlot(\"51bd65ca-0cd0-446d-88ed-58571599272f\", [{\"boxmean\": true, \"name\": \"setosa\", \"y\": [0.2, 0.2, 0.2, 0.2, 0.2, 0.4, 0.3, 0.2, 0.2, 0.1, 0.2, 0.2, 0.1, 0.1, 0.2, 0.4, 0.4, 0.3, 0.3, 0.3, 0.2, 0.4, 0.2, 0.5, 0.2, 0.2, 0.4, 0.2, 0.2, 0.2, 0.2, 0.4, 0.1, 0.2, 0.1, 0.2, 0.2, 0.1, 0.2, 0.2, 0.3, 0.3, 0.2, 0.6, 0.4, 0.3, 0.2, 0.2, 0.2, 0.2], \"type\": \"box\", \"uid\": \"96c17bec-12be-11ea-87e1-bd890e9caf3c\"}, {\"boxmean\": true, \"name\": \"versicolor\", \"y\": [1.4, 1.5, 1.5, 1.3, 1.5, 1.3, 1.6, 1.0, 1.3, 1.4, 1.0, 1.5, 1.0, 1.4, 1.3, 1.4, 1.5, 1.0, 1.5, 1.1, 1.8, 1.3, 1.5, 1.2, 1.3, 1.4, 1.4, 1.7, 1.5, 1.0, 1.1, 1.0, 1.2, 1.6, 1.5, 1.6, 1.5, 1.3, 1.3, 1.3, 1.2, 1.4, 1.2, 1.0, 1.3, 1.2, 1.3, 1.3, 1.1, 1.3], \"type\": \"box\", \"uid\": \"96c17e80-12be-11ea-87e1-bd890e9caf3c\"}, {\"boxmean\": true, \"name\": \"virginica\", \"y\": [2.5, 1.9, 2.1, 1.8, 2.2, 2.1, 1.7, 1.8, 1.8, 2.5, 2.0, 1.9, 2.1, 2.0, 2.4, 2.3, 1.8, 2.2, 2.3, 1.5, 2.3, 2.0, 2.0, 1.8, 2.1, 1.8, 1.8, 1.8, 2.1, 1.6, 1.9, 2.0, 2.2, 1.5, 1.4, 2.3, 2.4, 1.8, 1.8, 2.1, 2.4, 2.3, 1.9, 2.3, 2.5, 2.3, 1.9, 2.0, 2.3, 1.8], \"type\": \"box\", \"uid\": \"96c17f84-12be-11ea-87e1-bd890e9caf3c\"}], {}, {\"showLink\": true, \"linkText\": \"Export to plot.ly\"})});</script>"
      ]
     },
     "metadata": {},
     "output_type": "display_data"
    }
   ],
   "source": [
    "trace0 = go.Box(y=df['PetalWidthCm'][df['Species'] == 'Iris-setosa'],\n",
    "                boxmean=True, name = 'setosa')\n",
    "\n",
    "trace1 = go.Box(y=df['PetalWidthCm'][df['Species'] == 'Iris-versicolor'],\n",
    "                boxmean=True, name = 'versicolor')\n",
    "\n",
    "trace2 = go.Box(y=df['PetalWidthCm'][df['Species'] == 'Iris-virginica'],\n",
    "                boxmean=True, name = 'virginica')\n",
    "\n",
    "data = [trace0, trace1, trace2]\n",
    "py.iplot(data)"
   ]
  },
  {
   "cell_type": "markdown",
   "metadata": {
    "_uuid": "701b1b342063c036cc90434c31816a97d0cd9576"
   },
   "source": [
    "# <a id='value_petal_length'>Values distribution based on petal length</a><br>"
   ]
  },
  {
   "cell_type": "code",
   "execution_count": 12,
   "metadata": {
    "_kg_hide-input": true,
    "_uuid": "86a5654cad855f20849d36bf03aa3bd96902ec95"
   },
   "outputs": [
    {
     "data": {
      "application/vnd.plotly.v1+json": {
       "data": [
        {
         "name": "setosa",
         "type": "box",
         "uid": "96e9e0d2-12be-11ea-87e1-bd890e9caf3c",
         "y": [
          1.4,
          1.4,
          1.3,
          1.5,
          1.4,
          1.7,
          1.4,
          1.5,
          1.4,
          1.5,
          1.5,
          1.6,
          1.4,
          1.1,
          1.2,
          1.5,
          1.3,
          1.4,
          1.7,
          1.5,
          1.7,
          1.5,
          1.0,
          1.7,
          1.9,
          1.6,
          1.6,
          1.5,
          1.4,
          1.6,
          1.6,
          1.5,
          1.5,
          1.4,
          1.5,
          1.2,
          1.3,
          1.5,
          1.3,
          1.5,
          1.3,
          1.3,
          1.3,
          1.6,
          1.9,
          1.4,
          1.6,
          1.4,
          1.5,
          1.4
         ]
        },
        {
         "name": "versicolor",
         "type": "box",
         "uid": "96e9e384-12be-11ea-87e1-bd890e9caf3c",
         "y": [
          4.7,
          4.5,
          4.9,
          4.0,
          4.6,
          4.5,
          4.7,
          3.3,
          4.6,
          3.9,
          3.5,
          4.2,
          4.0,
          4.7,
          3.6,
          4.4,
          4.5,
          4.1,
          4.5,
          3.9,
          4.8,
          4.0,
          4.9,
          4.7,
          4.3,
          4.4,
          4.8,
          5.0,
          4.5,
          3.5,
          3.8,
          3.7,
          3.9,
          5.1,
          4.5,
          4.5,
          4.7,
          4.4,
          4.1,
          4.0,
          4.4,
          4.6,
          4.0,
          3.3,
          4.2,
          4.2,
          4.2,
          4.3,
          3.0,
          4.1
         ]
        },
        {
         "name": "virginica",
         "type": "box",
         "uid": "96e9e582-12be-11ea-87e1-bd890e9caf3c",
         "y": [
          6.0,
          5.1,
          5.9,
          5.6,
          5.8,
          6.6,
          4.5,
          6.3,
          5.8,
          6.1,
          5.1,
          5.3,
          5.5,
          5.0,
          5.1,
          5.3,
          5.5,
          6.7,
          6.9,
          5.0,
          5.7,
          4.9,
          6.7,
          4.9,
          5.7,
          6.0,
          4.8,
          4.9,
          5.6,
          5.8,
          6.1,
          6.4,
          5.6,
          5.1,
          5.6,
          6.1,
          5.6,
          5.5,
          4.8,
          5.4,
          5.6,
          5.1,
          5.1,
          5.9,
          5.7,
          5.2,
          5.0,
          5.2,
          5.4,
          5.1
         ]
        }
       ],
       "layout": {}
      },
      "text/html": [
       "<div id=\"5b7fc2dd-d921-467f-b9d1-0db66359c482\" style=\"height: 525px; width: 100%;\" class=\"plotly-graph-div\"></div><script type=\"text/javascript\">require([\"plotly\"], function(Plotly) { window.PLOTLYENV=window.PLOTLYENV || {};window.PLOTLYENV.BASE_URL=\"https://plot.ly\";Plotly.newPlot(\"5b7fc2dd-d921-467f-b9d1-0db66359c482\", [{\"name\": \"setosa\", \"y\": [1.4, 1.4, 1.3, 1.5, 1.4, 1.7, 1.4, 1.5, 1.4, 1.5, 1.5, 1.6, 1.4, 1.1, 1.2, 1.5, 1.3, 1.4, 1.7, 1.5, 1.7, 1.5, 1.0, 1.7, 1.9, 1.6, 1.6, 1.5, 1.4, 1.6, 1.6, 1.5, 1.5, 1.4, 1.5, 1.2, 1.3, 1.5, 1.3, 1.5, 1.3, 1.3, 1.3, 1.6, 1.9, 1.4, 1.6, 1.4, 1.5, 1.4], \"type\": \"box\", \"uid\": \"96eecb6a-12be-11ea-87e1-bd890e9caf3c\"}, {\"name\": \"versicolor\", \"y\": [4.7, 4.5, 4.9, 4.0, 4.6, 4.5, 4.7, 3.3, 4.6, 3.9, 3.5, 4.2, 4.0, 4.7, 3.6, 4.4, 4.5, 4.1, 4.5, 3.9, 4.8, 4.0, 4.9, 4.7, 4.3, 4.4, 4.8, 5.0, 4.5, 3.5, 3.8, 3.7, 3.9, 5.1, 4.5, 4.5, 4.7, 4.4, 4.1, 4.0, 4.4, 4.6, 4.0, 3.3, 4.2, 4.2, 4.2, 4.3, 3.0, 4.1], \"type\": \"box\", \"uid\": \"96eeced0-12be-11ea-87e1-bd890e9caf3c\"}, {\"name\": \"virginica\", \"y\": [6.0, 5.1, 5.9, 5.6, 5.8, 6.6, 4.5, 6.3, 5.8, 6.1, 5.1, 5.3, 5.5, 5.0, 5.1, 5.3, 5.5, 6.7, 6.9, 5.0, 5.7, 4.9, 6.7, 4.9, 5.7, 6.0, 4.8, 4.9, 5.6, 5.8, 6.1, 6.4, 5.6, 5.1, 5.6, 6.1, 5.6, 5.5, 4.8, 5.4, 5.6, 5.1, 5.1, 5.9, 5.7, 5.2, 5.0, 5.2, 5.4, 5.1], \"type\": \"box\", \"uid\": \"96eed402-12be-11ea-87e1-bd890e9caf3c\"}], {}, {\"showLink\": true, \"linkText\": \"Export to plot.ly\"})});</script>"
      ],
      "text/vnd.plotly.v1+html": [
       "<div id=\"5b7fc2dd-d921-467f-b9d1-0db66359c482\" style=\"height: 525px; width: 100%;\" class=\"plotly-graph-div\"></div><script type=\"text/javascript\">require([\"plotly\"], function(Plotly) { window.PLOTLYENV=window.PLOTLYENV || {};window.PLOTLYENV.BASE_URL=\"https://plot.ly\";Plotly.newPlot(\"5b7fc2dd-d921-467f-b9d1-0db66359c482\", [{\"name\": \"setosa\", \"y\": [1.4, 1.4, 1.3, 1.5, 1.4, 1.7, 1.4, 1.5, 1.4, 1.5, 1.5, 1.6, 1.4, 1.1, 1.2, 1.5, 1.3, 1.4, 1.7, 1.5, 1.7, 1.5, 1.0, 1.7, 1.9, 1.6, 1.6, 1.5, 1.4, 1.6, 1.6, 1.5, 1.5, 1.4, 1.5, 1.2, 1.3, 1.5, 1.3, 1.5, 1.3, 1.3, 1.3, 1.6, 1.9, 1.4, 1.6, 1.4, 1.5, 1.4], \"type\": \"box\", \"uid\": \"96eecb6a-12be-11ea-87e1-bd890e9caf3c\"}, {\"name\": \"versicolor\", \"y\": [4.7, 4.5, 4.9, 4.0, 4.6, 4.5, 4.7, 3.3, 4.6, 3.9, 3.5, 4.2, 4.0, 4.7, 3.6, 4.4, 4.5, 4.1, 4.5, 3.9, 4.8, 4.0, 4.9, 4.7, 4.3, 4.4, 4.8, 5.0, 4.5, 3.5, 3.8, 3.7, 3.9, 5.1, 4.5, 4.5, 4.7, 4.4, 4.1, 4.0, 4.4, 4.6, 4.0, 3.3, 4.2, 4.2, 4.2, 4.3, 3.0, 4.1], \"type\": \"box\", \"uid\": \"96eeced0-12be-11ea-87e1-bd890e9caf3c\"}, {\"name\": \"virginica\", \"y\": [6.0, 5.1, 5.9, 5.6, 5.8, 6.6, 4.5, 6.3, 5.8, 6.1, 5.1, 5.3, 5.5, 5.0, 5.1, 5.3, 5.5, 6.7, 6.9, 5.0, 5.7, 4.9, 6.7, 4.9, 5.7, 6.0, 4.8, 4.9, 5.6, 5.8, 6.1, 6.4, 5.6, 5.1, 5.6, 6.1, 5.6, 5.5, 4.8, 5.4, 5.6, 5.1, 5.1, 5.9, 5.7, 5.2, 5.0, 5.2, 5.4, 5.1], \"type\": \"box\", \"uid\": \"96eed402-12be-11ea-87e1-bd890e9caf3c\"}], {}, {\"showLink\": true, \"linkText\": \"Export to plot.ly\"})});</script>"
      ]
     },
     "metadata": {},
     "output_type": "display_data"
    }
   ],
   "source": [
    "trace0 = go.Box(y=df['PetalLengthCm'][df['Species'] == 'Iris-setosa'],name = 'setosa')\n",
    "\n",
    "trace1 = go.Box(y=df['PetalLengthCm'][df['Species'] == 'Iris-versicolor'], name = 'versicolor')\n",
    "\n",
    "trace2 = go.Box(y=df['PetalLengthCm'][df['Species'] == 'Iris-virginica'], name = 'virginica')\n",
    "\n",
    "data = [trace0, trace1, trace2]\n",
    "py.iplot(data)"
   ]
  },
  {
   "cell_type": "markdown",
   "metadata": {
    "_uuid": "eeced3bb248a78ebbae2f14e14c606e21f66fa1f"
   },
   "source": [
    "# <a id='value_sepal_length'>Values distribution based on sepal length</a><br>"
   ]
  },
  {
   "cell_type": "code",
   "execution_count": 13,
   "metadata": {
    "_kg_hide-input": true,
    "_uuid": "bf133320780ea073a2d563d34ae134cc846c87f3"
   },
   "outputs": [
    {
     "data": {
      "application/vnd.plotly.v1+json": {
       "data": [
        {
         "name": "setosa",
         "type": "box",
         "uid": "96f7fc08-12be-11ea-87e1-bd890e9caf3c",
         "y": [
          5.1,
          4.9,
          4.7,
          4.6,
          5.0,
          5.4,
          4.6,
          5.0,
          4.4,
          4.9,
          5.4,
          4.8,
          4.8,
          4.3,
          5.8,
          5.7,
          5.4,
          5.1,
          5.7,
          5.1,
          5.4,
          5.1,
          4.6,
          5.1,
          4.8,
          5.0,
          5.0,
          5.2,
          5.2,
          4.7,
          4.8,
          5.4,
          5.2,
          5.5,
          4.9,
          5.0,
          5.5,
          4.9,
          4.4,
          5.1,
          5.0,
          4.5,
          4.4,
          5.0,
          5.1,
          4.8,
          5.1,
          4.6,
          5.3,
          5.0
         ]
        },
        {
         "name": "versicolor",
         "type": "box",
         "uid": "96f7ff14-12be-11ea-87e1-bd890e9caf3c",
         "y": [
          7.0,
          6.4,
          6.9,
          5.5,
          6.5,
          5.7,
          6.3,
          4.9,
          6.6,
          5.2,
          5.0,
          5.9,
          6.0,
          6.1,
          5.6,
          6.7,
          5.6,
          5.8,
          6.2,
          5.6,
          5.9,
          6.1,
          6.3,
          6.1,
          6.4,
          6.6,
          6.8,
          6.7,
          6.0,
          5.7,
          5.5,
          5.5,
          5.8,
          6.0,
          5.4,
          6.0,
          6.7,
          6.3,
          5.6,
          5.5,
          5.5,
          6.1,
          5.8,
          5.0,
          5.6,
          5.7,
          5.7,
          6.2,
          5.1,
          5.7
         ]
        },
        {
         "name": "virginica",
         "type": "box",
         "uid": "96f800e0-12be-11ea-87e1-bd890e9caf3c",
         "y": [
          6.3,
          5.8,
          7.1,
          6.3,
          6.5,
          7.6,
          4.9,
          7.3,
          6.7,
          7.2,
          6.5,
          6.4,
          6.8,
          5.7,
          5.8,
          6.4,
          6.5,
          7.7,
          7.7,
          6.0,
          6.9,
          5.6,
          7.7,
          6.3,
          6.7,
          7.2,
          6.2,
          6.1,
          6.4,
          7.2,
          7.4,
          7.9,
          6.4,
          6.3,
          6.1,
          7.7,
          6.3,
          6.4,
          6.0,
          6.9,
          6.7,
          6.9,
          5.8,
          6.8,
          6.7,
          6.7,
          6.3,
          6.5,
          6.2,
          5.9
         ]
        }
       ],
       "layout": {}
      },
      "text/html": [
       "<div id=\"95b48df2-dfc1-40b2-b92b-ba8ac00ee4be\" style=\"height: 525px; width: 100%;\" class=\"plotly-graph-div\"></div><script type=\"text/javascript\">require([\"plotly\"], function(Plotly) { window.PLOTLYENV=window.PLOTLYENV || {};window.PLOTLYENV.BASE_URL=\"https://plot.ly\";Plotly.newPlot(\"95b48df2-dfc1-40b2-b92b-ba8ac00ee4be\", [{\"name\": \"setosa\", \"y\": [5.1, 4.9, 4.7, 4.6, 5.0, 5.4, 4.6, 5.0, 4.4, 4.9, 5.4, 4.8, 4.8, 4.3, 5.8, 5.7, 5.4, 5.1, 5.7, 5.1, 5.4, 5.1, 4.6, 5.1, 4.8, 5.0, 5.0, 5.2, 5.2, 4.7, 4.8, 5.4, 5.2, 5.5, 4.9, 5.0, 5.5, 4.9, 4.4, 5.1, 5.0, 4.5, 4.4, 5.0, 5.1, 4.8, 5.1, 4.6, 5.3, 5.0], \"type\": \"box\", \"uid\": \"96fc3e4e-12be-11ea-87e1-bd890e9caf3c\"}, {\"name\": \"versicolor\", \"y\": [7.0, 6.4, 6.9, 5.5, 6.5, 5.7, 6.3, 4.9, 6.6, 5.2, 5.0, 5.9, 6.0, 6.1, 5.6, 6.7, 5.6, 5.8, 6.2, 5.6, 5.9, 6.1, 6.3, 6.1, 6.4, 6.6, 6.8, 6.7, 6.0, 5.7, 5.5, 5.5, 5.8, 6.0, 5.4, 6.0, 6.7, 6.3, 5.6, 5.5, 5.5, 6.1, 5.8, 5.0, 5.6, 5.7, 5.7, 6.2, 5.1, 5.7], \"type\": \"box\", \"uid\": \"96fc407e-12be-11ea-87e1-bd890e9caf3c\"}, {\"name\": \"virginica\", \"y\": [6.3, 5.8, 7.1, 6.3, 6.5, 7.6, 4.9, 7.3, 6.7, 7.2, 6.5, 6.4, 6.8, 5.7, 5.8, 6.4, 6.5, 7.7, 7.7, 6.0, 6.9, 5.6, 7.7, 6.3, 6.7, 7.2, 6.2, 6.1, 6.4, 7.2, 7.4, 7.9, 6.4, 6.3, 6.1, 7.7, 6.3, 6.4, 6.0, 6.9, 6.7, 6.9, 5.8, 6.8, 6.7, 6.7, 6.3, 6.5, 6.2, 5.9], \"type\": \"box\", \"uid\": \"96fc41e6-12be-11ea-87e1-bd890e9caf3c\"}], {}, {\"showLink\": true, \"linkText\": \"Export to plot.ly\"})});</script>"
      ],
      "text/vnd.plotly.v1+html": [
       "<div id=\"95b48df2-dfc1-40b2-b92b-ba8ac00ee4be\" style=\"height: 525px; width: 100%;\" class=\"plotly-graph-div\"></div><script type=\"text/javascript\">require([\"plotly\"], function(Plotly) { window.PLOTLYENV=window.PLOTLYENV || {};window.PLOTLYENV.BASE_URL=\"https://plot.ly\";Plotly.newPlot(\"95b48df2-dfc1-40b2-b92b-ba8ac00ee4be\", [{\"name\": \"setosa\", \"y\": [5.1, 4.9, 4.7, 4.6, 5.0, 5.4, 4.6, 5.0, 4.4, 4.9, 5.4, 4.8, 4.8, 4.3, 5.8, 5.7, 5.4, 5.1, 5.7, 5.1, 5.4, 5.1, 4.6, 5.1, 4.8, 5.0, 5.0, 5.2, 5.2, 4.7, 4.8, 5.4, 5.2, 5.5, 4.9, 5.0, 5.5, 4.9, 4.4, 5.1, 5.0, 4.5, 4.4, 5.0, 5.1, 4.8, 5.1, 4.6, 5.3, 5.0], \"type\": \"box\", \"uid\": \"96fc3e4e-12be-11ea-87e1-bd890e9caf3c\"}, {\"name\": \"versicolor\", \"y\": [7.0, 6.4, 6.9, 5.5, 6.5, 5.7, 6.3, 4.9, 6.6, 5.2, 5.0, 5.9, 6.0, 6.1, 5.6, 6.7, 5.6, 5.8, 6.2, 5.6, 5.9, 6.1, 6.3, 6.1, 6.4, 6.6, 6.8, 6.7, 6.0, 5.7, 5.5, 5.5, 5.8, 6.0, 5.4, 6.0, 6.7, 6.3, 5.6, 5.5, 5.5, 6.1, 5.8, 5.0, 5.6, 5.7, 5.7, 6.2, 5.1, 5.7], \"type\": \"box\", \"uid\": \"96fc407e-12be-11ea-87e1-bd890e9caf3c\"}, {\"name\": \"virginica\", \"y\": [6.3, 5.8, 7.1, 6.3, 6.5, 7.6, 4.9, 7.3, 6.7, 7.2, 6.5, 6.4, 6.8, 5.7, 5.8, 6.4, 6.5, 7.7, 7.7, 6.0, 6.9, 5.6, 7.7, 6.3, 6.7, 7.2, 6.2, 6.1, 6.4, 7.2, 7.4, 7.9, 6.4, 6.3, 6.1, 7.7, 6.3, 6.4, 6.0, 6.9, 6.7, 6.9, 5.8, 6.8, 6.7, 6.7, 6.3, 6.5, 6.2, 5.9], \"type\": \"box\", \"uid\": \"96fc41e6-12be-11ea-87e1-bd890e9caf3c\"}], {}, {\"showLink\": true, \"linkText\": \"Export to plot.ly\"})});</script>"
      ]
     },
     "metadata": {},
     "output_type": "display_data"
    }
   ],
   "source": [
    "trace0 = go.Box(y=df['SepalLengthCm'][df['Species'] == 'Iris-setosa'], name = 'setosa')\n",
    "\n",
    "trace1 = go.Box(y=df['SepalLengthCm'][df['Species'] == 'Iris-versicolor'], name = 'versicolor')\n",
    "\n",
    "trace2 = go.Box(y=df['SepalLengthCm'][df['Species'] == 'Iris-virginica'], name = 'virginica')\n",
    "\n",
    "data = [trace0, trace1, trace2]\n",
    "py.iplot(data)"
   ]
  },
  {
   "cell_type": "markdown",
   "metadata": {
    "_uuid": "95a6803effd816173cca2541d484006cfb265d93"
   },
   "source": [
    "# <a id='value_sepal_width'>Values distribution based on sepal width</a><br>"
   ]
  },
  {
   "cell_type": "code",
   "execution_count": 14,
   "metadata": {
    "_kg_hide-input": true,
    "_uuid": "79dc6ea6222ce9657a44cb79400a5c1689a775be"
   },
   "outputs": [
    {
     "data": {
      "application/vnd.plotly.v1+json": {
       "data": [
        {
         "name": "setosa",
         "type": "box",
         "uid": "9704d0a4-12be-11ea-87e1-bd890e9caf3c",
         "y": [
          5.1,
          4.9,
          4.7,
          4.6,
          5.0,
          5.4,
          4.6,
          5.0,
          4.4,
          4.9,
          5.4,
          4.8,
          4.8,
          4.3,
          5.8,
          5.7,
          5.4,
          5.1,
          5.7,
          5.1,
          5.4,
          5.1,
          4.6,
          5.1,
          4.8,
          5.0,
          5.0,
          5.2,
          5.2,
          4.7,
          4.8,
          5.4,
          5.2,
          5.5,
          4.9,
          5.0,
          5.5,
          4.9,
          4.4,
          5.1,
          5.0,
          4.5,
          4.4,
          5.0,
          5.1,
          4.8,
          5.1,
          4.6,
          5.3,
          5.0
         ]
        },
        {
         "name": "versicolor",
         "type": "box",
         "uid": "9704d338-12be-11ea-87e1-bd890e9caf3c",
         "y": [
          7.0,
          6.4,
          6.9,
          5.5,
          6.5,
          5.7,
          6.3,
          4.9,
          6.6,
          5.2,
          5.0,
          5.9,
          6.0,
          6.1,
          5.6,
          6.7,
          5.6,
          5.8,
          6.2,
          5.6,
          5.9,
          6.1,
          6.3,
          6.1,
          6.4,
          6.6,
          6.8,
          6.7,
          6.0,
          5.7,
          5.5,
          5.5,
          5.8,
          6.0,
          5.4,
          6.0,
          6.7,
          6.3,
          5.6,
          5.5,
          5.5,
          6.1,
          5.8,
          5.0,
          5.6,
          5.7,
          5.7,
          6.2,
          5.1,
          5.7
         ]
        },
        {
         "name": "virginica",
         "type": "box",
         "uid": "9704d4f0-12be-11ea-87e1-bd890e9caf3c",
         "y": [
          6.3,
          5.8,
          7.1,
          6.3,
          6.5,
          7.6,
          4.9,
          7.3,
          6.7,
          7.2,
          6.5,
          6.4,
          6.8,
          5.7,
          5.8,
          6.4,
          6.5,
          7.7,
          7.7,
          6.0,
          6.9,
          5.6,
          7.7,
          6.3,
          6.7,
          7.2,
          6.2,
          6.1,
          6.4,
          7.2,
          7.4,
          7.9,
          6.4,
          6.3,
          6.1,
          7.7,
          6.3,
          6.4,
          6.0,
          6.9,
          6.7,
          6.9,
          5.8,
          6.8,
          6.7,
          6.7,
          6.3,
          6.5,
          6.2,
          5.9
         ]
        }
       ],
       "layout": {}
      },
      "text/html": [
       "<div id=\"8fc6842f-20d6-4904-bf12-c29737105665\" style=\"height: 525px; width: 100%;\" class=\"plotly-graph-div\"></div><script type=\"text/javascript\">require([\"plotly\"], function(Plotly) { window.PLOTLYENV=window.PLOTLYENV || {};window.PLOTLYENV.BASE_URL=\"https://plot.ly\";Plotly.newPlot(\"8fc6842f-20d6-4904-bf12-c29737105665\", [{\"name\": \"setosa\", \"y\": [5.1, 4.9, 4.7, 4.6, 5.0, 5.4, 4.6, 5.0, 4.4, 4.9, 5.4, 4.8, 4.8, 4.3, 5.8, 5.7, 5.4, 5.1, 5.7, 5.1, 5.4, 5.1, 4.6, 5.1, 4.8, 5.0, 5.0, 5.2, 5.2, 4.7, 4.8, 5.4, 5.2, 5.5, 4.9, 5.0, 5.5, 4.9, 4.4, 5.1, 5.0, 4.5, 4.4, 5.0, 5.1, 4.8, 5.1, 4.6, 5.3, 5.0], \"type\": \"box\", \"uid\": \"970914a2-12be-11ea-87e1-bd890e9caf3c\"}, {\"name\": \"versicolor\", \"y\": [7.0, 6.4, 6.9, 5.5, 6.5, 5.7, 6.3, 4.9, 6.6, 5.2, 5.0, 5.9, 6.0, 6.1, 5.6, 6.7, 5.6, 5.8, 6.2, 5.6, 5.9, 6.1, 6.3, 6.1, 6.4, 6.6, 6.8, 6.7, 6.0, 5.7, 5.5, 5.5, 5.8, 6.0, 5.4, 6.0, 6.7, 6.3, 5.6, 5.5, 5.5, 6.1, 5.8, 5.0, 5.6, 5.7, 5.7, 6.2, 5.1, 5.7], \"type\": \"box\", \"uid\": \"97091722-12be-11ea-87e1-bd890e9caf3c\"}, {\"name\": \"virginica\", \"y\": [6.3, 5.8, 7.1, 6.3, 6.5, 7.6, 4.9, 7.3, 6.7, 7.2, 6.5, 6.4, 6.8, 5.7, 5.8, 6.4, 6.5, 7.7, 7.7, 6.0, 6.9, 5.6, 7.7, 6.3, 6.7, 7.2, 6.2, 6.1, 6.4, 7.2, 7.4, 7.9, 6.4, 6.3, 6.1, 7.7, 6.3, 6.4, 6.0, 6.9, 6.7, 6.9, 5.8, 6.8, 6.7, 6.7, 6.3, 6.5, 6.2, 5.9], \"type\": \"box\", \"uid\": \"9709188a-12be-11ea-87e1-bd890e9caf3c\"}], {}, {\"showLink\": true, \"linkText\": \"Export to plot.ly\"})});</script>"
      ],
      "text/vnd.plotly.v1+html": [
       "<div id=\"8fc6842f-20d6-4904-bf12-c29737105665\" style=\"height: 525px; width: 100%;\" class=\"plotly-graph-div\"></div><script type=\"text/javascript\">require([\"plotly\"], function(Plotly) { window.PLOTLYENV=window.PLOTLYENV || {};window.PLOTLYENV.BASE_URL=\"https://plot.ly\";Plotly.newPlot(\"8fc6842f-20d6-4904-bf12-c29737105665\", [{\"name\": \"setosa\", \"y\": [5.1, 4.9, 4.7, 4.6, 5.0, 5.4, 4.6, 5.0, 4.4, 4.9, 5.4, 4.8, 4.8, 4.3, 5.8, 5.7, 5.4, 5.1, 5.7, 5.1, 5.4, 5.1, 4.6, 5.1, 4.8, 5.0, 5.0, 5.2, 5.2, 4.7, 4.8, 5.4, 5.2, 5.5, 4.9, 5.0, 5.5, 4.9, 4.4, 5.1, 5.0, 4.5, 4.4, 5.0, 5.1, 4.8, 5.1, 4.6, 5.3, 5.0], \"type\": \"box\", \"uid\": \"970914a2-12be-11ea-87e1-bd890e9caf3c\"}, {\"name\": \"versicolor\", \"y\": [7.0, 6.4, 6.9, 5.5, 6.5, 5.7, 6.3, 4.9, 6.6, 5.2, 5.0, 5.9, 6.0, 6.1, 5.6, 6.7, 5.6, 5.8, 6.2, 5.6, 5.9, 6.1, 6.3, 6.1, 6.4, 6.6, 6.8, 6.7, 6.0, 5.7, 5.5, 5.5, 5.8, 6.0, 5.4, 6.0, 6.7, 6.3, 5.6, 5.5, 5.5, 6.1, 5.8, 5.0, 5.6, 5.7, 5.7, 6.2, 5.1, 5.7], \"type\": \"box\", \"uid\": \"97091722-12be-11ea-87e1-bd890e9caf3c\"}, {\"name\": \"virginica\", \"y\": [6.3, 5.8, 7.1, 6.3, 6.5, 7.6, 4.9, 7.3, 6.7, 7.2, 6.5, 6.4, 6.8, 5.7, 5.8, 6.4, 6.5, 7.7, 7.7, 6.0, 6.9, 5.6, 7.7, 6.3, 6.7, 7.2, 6.2, 6.1, 6.4, 7.2, 7.4, 7.9, 6.4, 6.3, 6.1, 7.7, 6.3, 6.4, 6.0, 6.9, 6.7, 6.9, 5.8, 6.8, 6.7, 6.7, 6.3, 6.5, 6.2, 5.9], \"type\": \"box\", \"uid\": \"9709188a-12be-11ea-87e1-bd890e9caf3c\"}], {}, {\"showLink\": true, \"linkText\": \"Export to plot.ly\"})});</script>"
      ]
     },
     "metadata": {},
     "output_type": "display_data"
    }
   ],
   "source": [
    "setosa = go.Box(y=df['SepalWidthCm'][df['Species'] == 'Iris-setosa'])\n",
    "\n",
    "versicolor = go.Box(y=df['SepalWidthCm'][df['Species'] == 'Iris-versicolor'])\n",
    "\n",
    "virginica = go.Box(y=df['SepalWidthCm'][df['Species'] == 'Iris-virginica'])\n",
    "\n",
    "data = [trace0, trace1, trace2]\n",
    "py.iplot(data)"
   ]
  },
  {
   "cell_type": "markdown",
   "metadata": {
    "_uuid": "b45612410841c2119cf11e1337f0e089946b5357"
   },
   "source": [
    "- From the above four graph you can see that the distribution of setosa < vericolor < virginica\n",
    "- There are few outliers which can be explained by the scatter plot graph."
   ]
  },
  {
   "cell_type": "markdown",
   "metadata": {
    "_uuid": "4b410ac18f7e4542d395224b11b85899c8d33d8e"
   },
   "source": [
    "# <a id='andrew'>Andrew curves</a><br>"
   ]
  },
  {
   "cell_type": "code",
   "execution_count": 15,
   "metadata": {
    "_kg_hide-input": true,
    "_uuid": "1e8b8291b2ce40d551e3d735f44bcb148ddf21bc"
   },
   "outputs": [
    {
     "data": {
      "text/plain": [
       "<matplotlib.axes._subplots.AxesSubplot at 0x7fc454a90390>"
      ]
     },
     "execution_count": 15,
     "metadata": {},
     "output_type": "execute_result"
    },
    {
     "data": {
      "image/png": "[encoded data removed]",
      "text/plain": [
       "<Figure size 720x576 with 2 Axes>"
      ]
     },
     "metadata": {
      "needs_background": "light"
     },
     "output_type": "display_data"
    }
   ],
   "source": [
    "plt.subplots(figsize = (10,8))\n",
    "plotting.andrews_curves(df.drop(\"Id\", axis=1), \"Species\")"
   ]
  },
  {
   "cell_type": "markdown",
   "metadata": {
    "_uuid": "63b9baaba108899a03d086f070cffcb686ab46f3"
   },
   "source": [
    "Andrews curves are a method for visualizing multidimensional data by mapping each observation onto a function.\n",
    "\n",
    "Source - https://dzone.com/articles/andrews-curves"
   ]
  },
  {
   "cell_type": "markdown",
   "metadata": {
    "_uuid": "6dd6113a725c65cd882b9694c928ae50cf2108c8"
   },
   "source": [
    "Lets create a regression plot for both petal and sepal"
   ]
  },
  {
   "cell_type": "markdown",
   "metadata": {
    "_uuid": "c82b8e53167921c3fe707b3a04cdc1c157302910"
   },
   "source": [
    "# <a id='lin_sepal'>Linear regression based on sepal</a><br>"
   ]
  },
  {
   "cell_type": "code",
   "execution_count": 16,
   "metadata": {
    "_kg_hide-input": true,
    "_uuid": "59cccdfa7d2cfc6454e7ec289662121f1ae45af2"
   },
   "outputs": [
    {
     "data": {
      "image/png": "[encoded data removed]",
      "text/plain": [
       "<Figure size 463.5x360 with 1 Axes>"
      ]
     },
     "metadata": {
      "needs_background": "light"
     },
     "output_type": "display_data"
    }
   ],
   "source": [
    "g = sns.lmplot(x=\"SepalWidthCm\", y=\"SepalLengthCm\", hue=\"Species\", data=df)"
   ]
  },
  {
   "cell_type": "markdown",
   "metadata": {
    "_uuid": "98e6c59ba5e18909aa2012a3e5360e2b51e517dd"
   },
   "source": [
    "# <a id='lin_petal'>Linear regression based on petal</a><br>"
   ]
  },
  {
   "cell_type": "code",
   "execution_count": 17,
   "metadata": {
    "_kg_hide-input": true,
    "_uuid": "90c3f7b518b9ee89dc7a407232c32b3c394b78f7"
   },
   "outputs": [
    {
     "data": {
      "image/png": "[encoded data removed]",
      "text/plain": [
       "<Figure size 463.5x360 with 1 Axes>"
      ]
     },
     "metadata": {
      "needs_background": "light"
     },
     "output_type": "display_data"
    }
   ],
   "source": [
    "g = sns.lmplot(x=\"PetalWidthCm\", y=\"PetalLengthCm\", hue=\"Species\", data=df)"
   ]
  },
  {
   "cell_type": "markdown",
   "metadata": {
    "_uuid": "990cd600747e780a0a5941564fc87ec1b2cf5d38"
   },
   "source": [
    "We have seen the visualization part\n",
    "<br>\n",
    "Now lets see the how to apply machine learning to the dataset"
   ]
  },
  {
   "cell_type": "markdown",
   "metadata": {
    "_uuid": "3bb8608826995545cf9cbaba625a6a877afb13a0"
   },
   "source": [
    "# <a id='ml'>What is machine learning ?</a><br> "
   ]
  },
  {
   "cell_type": "markdown",
   "metadata": {
    "_uuid": "3070eda42cec146241b3b53952d14d0034e56ced"
   },
   "source": [
    "The process of learning begins with observations or data, such as examples, direct experience, or instruction, in order to look for patterns in data and make better decisions in the future based on the examples that we provide. The primary aim is to allow the computers learn automatically without human intervention or assistance and adjust actions accordingly.\n",
    "\n",
    "Please go through the blog for in-depth description of machine learning\n",
    "https://www.expertsystem.com/machine-learning-definition/"
   ]
  },
  {
   "cell_type": "markdown",
   "metadata": {
    "_uuid": "c570c2cf8c63a01260ac932868a3bd2244d501cf"
   },
   "source": [
    "So by the defination we see that we need data and we do have the data (Iris dataset).\n",
    "But how will we test the dataset ?"
   ]
  },
  {
   "cell_type": "markdown",
   "metadata": {
    "_uuid": "64480dd6003d8bcd4faaffd09fc9a40efe87fa85"
   },
   "source": [
    "For that we will split out data set into three parts train, test, validation sets.<br>\n",
    "we are going to use the scikit-learn library which has all the required functions and machine learning algorithms required for this notebook"
   ]
  },
  {
   "cell_type": "markdown",
   "metadata": {
    "_uuid": "9a5b85ab1fb12172635c7215b4da2aef6f2f5778"
   },
   "source": [
    "Before we split our data lets look at the output we want to predict.<br> \n",
    "We want to predict the given sepal and petal dimensions follows to which type of species.<br>\n",
    "we have 3 type of species  Iris-setosa Iris-versicolor Iris-virginica.<br>\n",
    "We will convert those species names to a categorical values using label encoding.<br>"
   ]
  },
  {
   "cell_type": "code",
   "execution_count": 18,
   "metadata": {
    "_uuid": "174f80946174bd6bc0ba64bfebf6a5c8fac36db8"
   },
   "outputs": [],
   "source": [
    "x = df[['SepalLengthCm','SepalWidthCm','PetalLengthCm','PetalWidthCm']]\n",
    "y = df['Species']"
   ]
  },
  {
   "cell_type": "code",
   "execution_count": 19,
   "metadata": {
    "_uuid": "6150c9fdda1b523ba908271960aa4f6508bffe6d"
   },
   "outputs": [],
   "source": [
    "encoder = LabelEncoder()\n",
    "y = encoder.fit_transform(y)"
   ]
  },
  {
   "cell_type": "code",
   "execution_count": 20,
   "metadata": {
    "_uuid": "8c130a4ad47d1336614303a58d21b3a498b203e2"
   },
   "outputs": [
    {
     "data": {
      "text/plain": [
       "array([0, 0, 0, 0, 0, 0, 0, 0, 0, 0, 0, 0, 0, 0, 0, 0, 0, 0, 0, 0, 0, 0,\n",
       "       0, 0, 0, 0, 0, 0, 0, 0, 0, 0, 0, 0, 0, 0, 0, 0, 0, 0, 0, 0, 0, 0,\n",
       "       0, 0, 0, 0, 0, 0, 1, 1, 1, 1, 1, 1, 1, 1, 1, 1, 1, 1, 1, 1, 1, 1,\n",
       "       1, 1, 1, 1, 1, 1, 1, 1, 1, 1, 1, 1, 1, 1, 1, 1, 1, 1, 1, 1, 1, 1,\n",
       "       1, 1, 1, 1, 1, 1, 1, 1, 1, 1, 1, 1, 2, 2, 2, 2, 2, 2, 2, 2, 2, 2,\n",
       "       2, 2, 2, 2, 2, 2, 2, 2, 2, 2, 2, 2, 2, 2, 2, 2, 2, 2, 2, 2, 2, 2,\n",
       "       2, 2, 2, 2, 2, 2, 2, 2, 2, 2, 2, 2, 2, 2, 2, 2, 2, 2])"
      ]
     },
     "execution_count": 20,
     "metadata": {},
     "output_type": "execute_result"
    }
   ],
   "source": [
    "y"
   ]
  },
  {
   "cell_type": "markdown",
   "metadata": {
    "_uuid": "b1133179fff6a668edc493033557b4ab0dbbc65a"
   },
   "source": [
    "As you can see Iris-setosa Iris-versicolor Iris-virginica are converted to 0, 1, 2 respectively"
   ]
  },
  {
   "cell_type": "markdown",
   "metadata": {
    "_uuid": "2154389e9a256b2e5b8e77280cfa13542fa15541"
   },
   "source": [
    "First we are splitting the data set into training data and testing data which is 7:3 ratio "
   ]
  },
  {
   "cell_type": "code",
   "execution_count": 21,
   "metadata": {
    "_uuid": "e95d548a7f9a3fbef363cf50060375e3bd4b2def"
   },
   "outputs": [],
   "source": [
    "x_train, x_test, y_train, y_test = train_test_split(x, y, test_size = 0.3, random_state = 101)"
   ]
  },
  {
   "cell_type": "markdown",
   "metadata": {
    "_uuid": "a429c38170278cbc2b6220b9e7b2cdcf97104c75"
   },
   "source": [
    "# <a id='list'> List of algorithms</a>"
   ]
  },
  {
   "cell_type": "markdown",
   "metadata": {
    "_uuid": "a37b694d493d259be10a23e1123f2dd0a349e12f"
   },
   "source": [
    "Since it is a classification problem we will be using<br>\n",
    "Logistic regression<br>\n",
    "Decision tree<br>\n",
    "KNN<br>\n",
    "SVM<br>\n",
    "Naive Bayes Classification<br>\n",
    "Random forest<br>\n",
    "XGBoost<br>\n",
    "LightGBM<br>"
   ]
  },
  {
   "cell_type": "markdown",
   "metadata": {
    "_uuid": "b222fe6d3fc4d877e3d428d6a2ff8a5d29b2c528"
   },
   "source": [
    "# <a id='logistic'>Logistic regression</a><br>"
   ]
  },
  {
   "cell_type": "markdown",
   "metadata": {
    "_uuid": "be3e8af2de05f1a79e33812a6e835073ea5068cb"
   },
   "source": [
    "<img src = \"https://image.slidesharecdn.com/logitregression-161121215510/95/intro-to-logistic-regression-4-638.jpg?cb=1479765630\">"
   ]
  },
  {
   "cell_type": "markdown",
   "metadata": {
    "_uuid": "e36981fb2be6be8f58fdf81e5e41bacd9f429ed4"
   },
   "source": [
    "**Logistic regression** is a statistical method for analyzing a dataset in which there are one or more independent variables that determine an outcome. The outcome is measured with a dichotomous variable (in which there are only two possible outcomes).\n",
    "(https://www.medcalc.org/manual/logistic_regression.php)"
   ]
  },
  {
   "cell_type": "code",
   "execution_count": 22,
   "metadata": {
    "_uuid": "ce27be1c4fe5918c150798b398d3004969b5ba0f"
   },
   "outputs": [
    {
     "name": "stdout",
     "output_type": "stream",
     "text": [
      "Logistic Regression -  0.9555555555555556\n"
     ]
    }
   ],
   "source": [
    "lr_model = LogisticRegression()\n",
    "lr_model.fit(x_train,y_train)\n",
    "lr_predict = lr_model.predict(x_test)\n",
    "\n",
    "print('Logistic Regression - ',accuracy_score(lr_predict,y_test))"
   ]
  },
  {
   "cell_type": "markdown",
   "metadata": {
    "_uuid": "67fc07be60779c31c2ada8c725289d8ef943c1bd"
   },
   "source": [
    "# <a id='svm'>SVM</a><br>"
   ]
  },
  {
   "cell_type": "markdown",
   "metadata": {
    "_uuid": "94f1dded6dca929473527ed7c42697021ace1e6c"
   },
   "source": [
    "<img src = \"https://cdn-images-1.medium.com/max/1600/1*TudH6YvvH7-h5ZyF2dJV2w.jpeg\">"
   ]
  },
  {
   "cell_type": "markdown",
   "metadata": {
    "_uuid": "0aac492ad1b1be323d503bc1a149364ae24d51af"
   },
   "source": [
    "**“Support Vector Machine” (SVM)** is a supervised machine learning algorithm which can be used for both classification or regression challenges. However,  it is mostly used in classification problems. In this algorithm, we plot each data item as a point in n-dimensional space (where n is number of features you have) with the value of each feature being the value of a particular coordinate. Then, we perform classification by finding the hyper-plane that differentiate the two classes very well.\n",
    "\n",
    "Support Vectors are simply the co-ordinates of individual observation. Support Vector Machine is a frontier which best segregates the two classes (hyper-plane/ line).\n",
    "(https://www.analyticsvidhya.com/blog/2017/09/understaing-support-vector-machine-example-code/)\n"
   ]
  },
  {
   "cell_type": "code",
   "execution_count": 23,
   "metadata": {
    "_uuid": "9c86b283ce845304587a40a9e92e22130b43caee"
   },
   "outputs": [
    {
     "name": "stdout",
     "output_type": "stream",
     "text": [
      "SVM -  1.0\n"
     ]
    }
   ],
   "source": [
    "svm_model = SVC(kernel='linear')\n",
    "svm_model.fit(x_train,y_train)\n",
    "svc_predict = svm_model.predict(x_test)\n",
    "\n",
    "print('SVM - ',accuracy_score(svc_predict,y_test))"
   ]
  },
  {
   "cell_type": "markdown",
   "metadata": {
    "_uuid": "4e7abe757465fb5904e59acf6d5c49f37ff0e740"
   },
   "source": [
    "# <a id='nbc'>Naive Bayes Classification</a><br>"
   ]
  },
  {
   "cell_type": "markdown",
   "metadata": {
    "_uuid": "502b809d07b32bf45dc6d147f479a305bfde5c79"
   },
   "source": [
    "<img src = \"https://helloacm.com/wp-content/uploads/2016/03/Bayes_rule.png\">"
   ]
  },
  {
   "cell_type": "markdown",
   "metadata": {
    "_uuid": "de46c12ea0ca21f4167706d660c0819e844e4dce"
   },
   "source": [
    "**Naive Bayes** is a simple, yet effective and commonly-used, machine learning classifier. It is a probabilistic classifier that makes classifications using the Maximum A Posteriori decision rule in a Bayesian setting. It can also be represented using a very simple Bayesian network. Naive Bayes classifiers have been especially popular for text classification, and are a traditional solution for problems such as spam detection.\n",
    "(https://towardsdatascience.com/introduction-to-naive-bayes-classification-4cffabb1ae54)"
   ]
  },
  {
   "cell_type": "code",
   "execution_count": 24,
   "metadata": {
    "_uuid": "ad312dc9438ae6a0afde56012bf3e101064373fe"
   },
   "outputs": [
    {
     "name": "stdout",
     "output_type": "stream",
     "text": [
      "Naive bayes -  0.9555555555555556\n"
     ]
    }
   ],
   "source": [
    "nb_model = GaussianNB()\n",
    "nb_model.fit(x_train,y_train)\n",
    "nb_predict = nb_model.predict(x_test)\n",
    "\n",
    "print('Naive bayes - ',accuracy_score(nb_predict,y_test))"
   ]
  },
  {
   "cell_type": "markdown",
   "metadata": {
    "_uuid": "4dda5f1d31e579cf25e2c18175cae01704053e76"
   },
   "source": [
    "# <a id='decision'>Decision tree</a><br>"
   ]
  },
  {
   "cell_type": "markdown",
   "metadata": {
    "_uuid": "117b1972679f8ef22c76fd29ea385fd124a7eaaf"
   },
   "source": [
    "<img src = \"https://annalyzin.files.wordpress.com/2016/07/decision-trees-titanic-tutorial.png\">"
   ]
  },
  {
   "cell_type": "markdown",
   "metadata": {
    "_uuid": "5a102d4fbf83103ac455022c4f25809fad4e1fd6"
   },
   "source": [
    "**Decision tree** is a type of supervised learning algorithm (having a pre-defined target variable) that is mostly used in classification problems. It works for both categorical and continuous input and output variables. In this technique, we split the population or sample into two or more homogeneous sets (or sub-populations) based on most significant splitter / differentiator in input variables.\n",
    "(https://www.analyticsvidhya.com/blog/2016/04/complete-tutorial-tree-based-modeling-scratch-in-python/)"
   ]
  },
  {
   "cell_type": "code",
   "execution_count": 25,
   "metadata": {
    "_uuid": "567f22ed14b3fb568c4a85af9b306214108de7f4"
   },
   "outputs": [
    {
     "name": "stdout",
     "output_type": "stream",
     "text": [
      "Decision Tree -  0.9333333333333333\n"
     ]
    }
   ],
   "source": [
    "dt_model = DecisionTreeClassifier(max_leaf_nodes=3)\n",
    "dt_model.fit(x_train,y_train)\n",
    "dt_predict = dt_model.predict(x_test)\n",
    "\n",
    "print('Decision Tree - ',accuracy_score(dt_predict,y_test))"
   ]
  },
  {
   "cell_type": "markdown",
   "metadata": {
    "_uuid": "42d55936cf6cbaa54948a268c9e243c733ce39cd"
   },
   "source": [
    "# <a id='random'>Random forest</a><br>"
   ]
  },
  {
   "cell_type": "markdown",
   "metadata": {
    "_uuid": "0a1de00cf9ef4c1ca8268f28ba2920ea9ca4a79c"
   },
   "source": [
    "<img src=\"https://i1.wp.com/dataaspirant.com/wp-content/uploads/2017/04/Random-Forest-Introduction.jpg?resize=690%2C345\">"
   ]
  },
  {
   "cell_type": "markdown",
   "metadata": {
    "_uuid": "c54dead6420adaa799cb24c8dbee75b6b39c005f"
   },
   "source": [
    "**Random Forest** is considered to be a panacea of all data science problems. On a funny note, when you can’t think of any algorithm (irrespective of situation), use random forest!\n",
    "\n",
    "Random Forest is a versatile machine learning method capable of performing both regression and classification tasks. It also undertakes dimensional reduction methods, treats missing values, outlier values and other essential steps of data exploration, and does a fairly good job. It is a type of ensemble learning method, where a group of weak models combine to form a powerful model.\n",
    "\n",
    "(https://www.analyticsvidhya.com/blog/2016/04/complete-tutorial-tree-based-modeling-scratch-in-python/#nine)"
   ]
  },
  {
   "cell_type": "code",
   "execution_count": 26,
   "metadata": {
    "_uuid": "4aeb3ce119c947d44b85dd398afaeb21504a2221"
   },
   "outputs": [
    {
     "name": "stdout",
     "output_type": "stream",
     "text": [
      "Random Forest -  0.9777777777777777\n"
     ]
    }
   ],
   "source": [
    "rfc_model = RandomForestClassifier(max_depth=3)\n",
    "rfc_model.fit(x_train,y_train)\n",
    "rfc_predict = rfc_model.predict(x_test)\n",
    "\n",
    "print('Random Forest - ',accuracy_score(rfc_predict,y_test))"
   ]
  },
  {
   "cell_type": "markdown",
   "metadata": {
    "_uuid": "46dc2d7de36b297dad987cdc98bb9cf41c29efd7"
   },
   "source": [
    "# <a href='etc'>Extra Tree Classifier</a><br>"
   ]
  },
  {
   "cell_type": "markdown",
   "metadata": {
    "_uuid": "14e5546a2a0e8eafecb2f4a59faae12b0a330f0a"
   },
   "source": []
  },
  {
   "cell_type": "markdown",
   "metadata": {
    "_uuid": "8991cdf3a0054cd64281b2c6cd260726440dc733"
   },
   "source": [
    "\n",
    "(https://machinelearningmastery.com/ensemble-machine-learning-algorithms-python-scikit-learn/)"
   ]
  },
  {
   "cell_type": "code",
   "execution_count": 27,
   "metadata": {
    "_uuid": "fc1c65b5b7b1eabbb09db35cec298b29ae00ec51"
   },
   "outputs": [
    {
     "name": "stdout",
     "output_type": "stream",
     "text": [
      "Extra Tree Classifier -  0.9555555555555556\n"
     ]
    }
   ],
   "source": [
    "etc_model = ExtraTreesClassifier()\n",
    "etc_model.fit(x_train,y_train)\n",
    "etc_predict = etc_model.predict(x_test)\n",
    "\n",
    "print('Extra Tree Classifier - ',accuracy_score(etc_predict,y_test))\n"
   ]
  },
  {
   "cell_type": "markdown",
   "metadata": {
    "_uuid": "f575634697a8321b9fbc53a69025b8d21baa3a1c"
   },
   "source": [
    "# <a id='knn'>KNN</a><br>"
   ]
  },
  {
   "cell_type": "markdown",
   "metadata": {
    "_uuid": "f3602f23df5dbe07978ca00e5d97b3a15a470f24"
   },
   "source": [
    "<img src=\"http://res.cloudinary.com/dyd911kmh/image/upload/f_auto,q_auto:best/v1531424125/Knn_k1_z96jba.png\">"
   ]
  },
  {
   "cell_type": "markdown",
   "metadata": {
    "_uuid": "6a6e8e7a68403099e698efed00d0eb0a3ba93281"
   },
   "source": [
    "**K nearest neighbors** is a simple algorithm that stores all available cases and classifies new cases based on a similarity measure (e.g., distance functions). KNN has been used in statistical estimation and pattern recognition already in the beginning of 1970's as a non-parametric technique.\n",
    "(https://www.analyticsvidhya.com/blog/2018/03/introduction-k-neighbours-algorithm-clustering/)"
   ]
  },
  {
   "cell_type": "code",
   "execution_count": 28,
   "metadata": {
    "_uuid": "94a5fe5f4c50210bbc141d75cba423f0dde1b3b2"
   },
   "outputs": [
    {
     "name": "stdout",
     "output_type": "stream",
     "text": [
      "knn -  1.0\n"
     ]
    }
   ],
   "source": [
    "knn_model = KNeighborsClassifier(n_neighbors=3)\n",
    "knn_model.fit(x_train,y_train)\n",
    "knn_predict = knn_model.predict(x_test)\n",
    "\n",
    "print('knn - ',accuracy_score(knn_predict,y_test))"
   ]
  },
  {
   "cell_type": "markdown",
   "metadata": {
    "_uuid": "cd3fc2bfba1626652c5a1b879345d3e8e3d95595"
   },
   "source": [
    "# <a id='xgboost'>XGBoost</a><br>"
   ]
  },
  {
   "cell_type": "markdown",
   "metadata": {
    "_uuid": "1d35d1a725ec33c906d32ebd6c01e9cb5b1cf36f"
   },
   "source": [
    "<img src=\"https://i.imgur.com/e7MIgXk.png\">"
   ]
  },
  {
   "cell_type": "markdown",
   "metadata": {
    "_uuid": "7fff57c6d99ab43155ffddcc4c73884cee7e9b99"
   },
   "source": [
    "The beauty of this powerful algorithm lies in its scalability, which drives fast learning through parallel and distributed computing and offers efficient memory usage.\n",
    "\n",
    "It’s no wonder then that CERN recognized it as the best approach to classify signals from the Large Hadron Collider. This particular challenge posed by CERN required a solution that would be scalable to process data being generated at the rate of 3 petabytes per year and effectively distinguish an extremely rare signal from background noises in a complex physical process. XGBoost emerged as the most useful, straightforward and robust solution.\n",
    "\n",
    "(https://www.analyticsvidhya.com/blog/2018/09/an-end-to-end-guide-to-understand-the-math-behind-xgboost/)"
   ]
  },
  {
   "cell_type": "code",
   "execution_count": 29,
   "metadata": {
    "_uuid": "b4f09827b3f335da235608b2ede27e60df6ce161"
   },
   "outputs": [
    {
     "data": {
      "text/plain": [
       "0.9777777777777777"
      ]
     },
     "execution_count": 29,
     "metadata": {},
     "output_type": "execute_result"
    }
   ],
   "source": [
    "xg_model = xgb.XGBClassifier()\n",
    "xg_model = xg_model.fit(x_train,y_train)\n",
    "xg_model.score(x_test, y_test)"
   ]
  },
  {
   "cell_type": "markdown",
   "metadata": {
    "_uuid": "4705805636047c4ce43898c0c36259407f543a0d"
   },
   "source": [
    "# <a id='dl'>Deep Learning</a><br>"
   ]
  },
  {
   "cell_type": "markdown",
   "metadata": {
    "_uuid": "68b1d94d10fe279961e28e6bba90f27baeceebe2"
   },
   "source": [
    "Best place to understand deep learning.\n",
    "Please follow the blog\n",
    "\n",
    "https://machinelearningmastery.com/what-is-deep-learning/"
   ]
  },
  {
   "cell_type": "code",
   "execution_count": 30,
   "metadata": {
    "_kg_hide-input": true,
    "_uuid": "2bc41a138e69a3d02acdfa46cd47ad2b4fcfa74e"
   },
   "outputs": [
    {
     "name": "stderr",
     "output_type": "stream",
     "text": [
      "Using TensorFlow backend.\n"
     ]
    }
   ],
   "source": [
    "import keras\n",
    "from keras.models import Sequential\n",
    "from keras.layers import Dense"
   ]
  },
  {
   "cell_type": "code",
   "execution_count": 31,
   "metadata": {
    "_kg_hide-input": true,
    "_uuid": "93256144af33cc23c71dd8336f5622b2aab2ef90"
   },
   "outputs": [],
   "source": [
    "from sklearn.preprocessing import StandardScaler, LabelBinarizer\n",
    "X = df[['SepalLengthCm', 'SepalWidthCm', 'PetalLengthCm', 'PetalWidthCm']]\n",
    "y = df['Species']\n",
    "\n",
    "X = StandardScaler().fit_transform(X)\n",
    "y = LabelBinarizer().fit_transform(y)"
   ]
  },
  {
   "cell_type": "markdown",
   "metadata": {
    "_uuid": "9df7b248a5352b8e2d0e1d9d3ed68d9a253c02e2"
   },
   "source": [
    "Spliting the data into train - 70% and test - 30%"
   ]
  },
  {
   "cell_type": "code",
   "execution_count": 32,
   "metadata": {
    "_kg_hide-input": true,
    "_uuid": "8984cfef81f4e31db498376f5ca2bf72748faf13"
   },
   "outputs": [],
   "source": [
    "x_train, x_test, y_train, y_test = train_test_split(X, y, test_size = 0.3, random_state = 101)"
   ]
  },
  {
   "cell_type": "markdown",
   "metadata": {
    "_uuid": "313afe4a5c4b5ac84f1360a0196364d266878ea9"
   },
   "source": [
    "# <a id='shallow'>Shallow Deep learning</a>"
   ]
  },
  {
   "cell_type": "code",
   "execution_count": 33,
   "metadata": {
    "_kg_hide-input": true,
    "_uuid": "08365090312fac823129d5026f027617f6b9a2f3"
   },
   "outputs": [],
   "source": [
    "shallow_model = Sequential()\n",
    "shallow_model.add(Dense( 4, input_dim=4, activation = 'relu'))\n",
    "shallow_model.add(Dense( units = 10, activation= 'relu'))\n",
    "shallow_model.add(Dense( units = 3, activation= 'softmax'))\n",
    "shallow_model.compile(loss = 'binary_crossentropy', optimizer = 'adam', metrics = ['accuracy'])"
   ]
  },
  {
   "cell_type": "code",
   "execution_count": 34,
   "metadata": {
    "_uuid": "cf863925465f3d79fd04102b8870825f7ccb75a4",
    "scrolled": true
   },
   "outputs": [
    {
     "name": "stdout",
     "output_type": "stream",
     "text": [
      "Train on 105 samples, validate on 45 samples\n",
      "Epoch 1/150\n",
      "105/105 [==============================] - 1s 5ms/step - loss: 0.6673 - acc: 0.5683 - val_loss: 0.6640 - val_acc: 0.6148\n",
      "Epoch 2/150\n",
      "105/105 [==============================] - 0s 97us/step - loss: 0.6606 - acc: 0.5937 - val_loss: 0.6596 - val_acc: 0.6370\n",
      "Epoch 3/150\n",
      "105/105 [==============================] - 0s 87us/step - loss: 0.6535 - acc: 0.6476 - val_loss: 0.6554 - val_acc: 0.6519\n",
      "Epoch 4/150\n",
      "105/105 [==============================] - 0s 87us/step - loss: 0.6477 - acc: 0.6635 - val_loss: 0.6514 - val_acc: 0.6667\n",
      "Epoch 5/150\n",
      "105/105 [==============================] - 0s 91us/step - loss: 0.6412 - acc: 0.6667 - val_loss: 0.6470 - val_acc: 0.6667\n",
      "Epoch 6/150\n",
      "105/105 [==============================] - 0s 83us/step - loss: 0.6349 - acc: 0.6667 - val_loss: 0.6425 - val_acc: 0.6667\n",
      "Epoch 7/150\n",
      "105/105 [==============================] - 0s 91us/step - loss: 0.6289 - acc: 0.6698 - val_loss: 0.6380 - val_acc: 0.6667\n",
      "Epoch 8/150\n",
      "105/105 [==============================] - 0s 84us/step - loss: 0.6228 - acc: 0.6698 - val_loss: 0.6335 - val_acc: 0.6667\n",
      "Epoch 9/150\n",
      "105/105 [==============================] - 0s 104us/step - loss: 0.6169 - acc: 0.6698 - val_loss: 0.6291 - val_acc: 0.6667\n",
      "Epoch 10/150\n",
      "105/105 [==============================] - 0s 109us/step - loss: 0.6109 - acc: 0.6698 - val_loss: 0.6251 - val_acc: 0.6741\n",
      "Epoch 11/150\n",
      "105/105 [==============================] - 0s 116us/step - loss: 0.6051 - acc: 0.6698 - val_loss: 0.6211 - val_acc: 0.6815\n",
      "Epoch 12/150\n",
      "105/105 [==============================] - 0s 94us/step - loss: 0.5989 - acc: 0.6730 - val_loss: 0.6171 - val_acc: 0.6815\n",
      "Epoch 13/150\n",
      "105/105 [==============================] - 0s 95us/step - loss: 0.5924 - acc: 0.6762 - val_loss: 0.6131 - val_acc: 0.6815\n",
      "Epoch 14/150\n",
      "105/105 [==============================] - 0s 85us/step - loss: 0.5863 - acc: 0.6794 - val_loss: 0.6091 - val_acc: 0.6815\n",
      "Epoch 15/150\n",
      "105/105 [==============================] - 0s 91us/step - loss: 0.5805 - acc: 0.6825 - val_loss: 0.6051 - val_acc: 0.6815\n",
      "Epoch 16/150\n",
      "105/105 [==============================] - 0s 85us/step - loss: 0.5743 - acc: 0.6857 - val_loss: 0.6010 - val_acc: 0.6815\n",
      "Epoch 17/150\n",
      "105/105 [==============================] - 0s 86us/step - loss: 0.5680 - acc: 0.6921 - val_loss: 0.5967 - val_acc: 0.6963\n",
      "Epoch 18/150\n",
      "105/105 [==============================] - 0s 87us/step - loss: 0.5621 - acc: 0.7143 - val_loss: 0.5923 - val_acc: 0.6963\n",
      "Epoch 19/150\n",
      "105/105 [==============================] - 0s 80us/step - loss: 0.5558 - acc: 0.7270 - val_loss: 0.5879 - val_acc: 0.6963\n",
      "Epoch 20/150\n",
      "105/105 [==============================] - 0s 83us/step - loss: 0.5495 - acc: 0.7270 - val_loss: 0.5834 - val_acc: 0.7037\n",
      "Epoch 21/150\n",
      "105/105 [==============================] - 0s 83us/step - loss: 0.5429 - acc: 0.7302 - val_loss: 0.5788 - val_acc: 0.7111\n",
      "Epoch 22/150\n",
      "105/105 [==============================] - 0s 96us/step - loss: 0.5359 - acc: 0.7333 - val_loss: 0.5742 - val_acc: 0.7185\n",
      "Epoch 23/150\n",
      "105/105 [==============================] - 0s 89us/step - loss: 0.5292 - acc: 0.7302 - val_loss: 0.5696 - val_acc: 0.7185\n",
      "Epoch 24/150\n",
      "105/105 [==============================] - 0s 92us/step - loss: 0.5223 - acc: 0.7365 - val_loss: 0.5651 - val_acc: 0.7111\n",
      "Epoch 25/150\n",
      "105/105 [==============================] - 0s 91us/step - loss: 0.5149 - acc: 0.7397 - val_loss: 0.5604 - val_acc: 0.7037\n",
      "Epoch 26/150\n",
      "105/105 [==============================] - 0s 83us/step - loss: 0.5077 - acc: 0.7397 - val_loss: 0.5553 - val_acc: 0.7037\n",
      "Epoch 27/150\n",
      "105/105 [==============================] - 0s 91us/step - loss: 0.4998 - acc: 0.7429 - val_loss: 0.5500 - val_acc: 0.7111\n",
      "Epoch 28/150\n",
      "105/105 [==============================] - 0s 89us/step - loss: 0.4921 - acc: 0.7429 - val_loss: 0.5447 - val_acc: 0.7111\n",
      "Epoch 29/150\n",
      "105/105 [==============================] - 0s 86us/step - loss: 0.4843 - acc: 0.7651 - val_loss: 0.5391 - val_acc: 0.7407\n",
      "Epoch 30/150\n",
      "105/105 [==============================] - 0s 91us/step - loss: 0.4766 - acc: 0.7810 - val_loss: 0.5331 - val_acc: 0.7778\n",
      "Epoch 31/150\n",
      "105/105 [==============================] - 0s 88us/step - loss: 0.4685 - acc: 0.8286 - val_loss: 0.5271 - val_acc: 0.7852\n",
      "Epoch 32/150\n",
      "105/105 [==============================] - 0s 88us/step - loss: 0.4601 - acc: 0.8540 - val_loss: 0.5211 - val_acc: 0.8000\n",
      "Epoch 33/150\n",
      "105/105 [==============================] - 0s 94us/step - loss: 0.4509 - acc: 0.8667 - val_loss: 0.5148 - val_acc: 0.8074\n",
      "Epoch 34/150\n",
      "105/105 [==============================] - 0s 91us/step - loss: 0.4417 - acc: 0.8635 - val_loss: 0.5083 - val_acc: 0.8074\n",
      "Epoch 35/150\n",
      "105/105 [==============================] - 0s 94us/step - loss: 0.4316 - acc: 0.8635 - val_loss: 0.5014 - val_acc: 0.8074\n",
      "Epoch 36/150\n",
      "105/105 [==============================] - 0s 103us/step - loss: 0.4219 - acc: 0.8635 - val_loss: 0.4941 - val_acc: 0.8074\n",
      "Epoch 37/150\n",
      "105/105 [==============================] - 0s 98us/step - loss: 0.4119 - acc: 0.8635 - val_loss: 0.4863 - val_acc: 0.8074\n",
      "Epoch 38/150\n",
      "105/105 [==============================] - 0s 88us/step - loss: 0.4022 - acc: 0.8603 - val_loss: 0.4783 - val_acc: 0.8074\n",
      "Epoch 39/150\n",
      "105/105 [==============================] - 0s 82us/step - loss: 0.3927 - acc: 0.8603 - val_loss: 0.4705 - val_acc: 0.8074\n",
      "Epoch 40/150\n",
      "105/105 [==============================] - 0s 87us/step - loss: 0.3838 - acc: 0.8571 - val_loss: 0.4634 - val_acc: 0.8000\n",
      "Epoch 41/150\n",
      "105/105 [==============================] - 0s 94us/step - loss: 0.3754 - acc: 0.8540 - val_loss: 0.4568 - val_acc: 0.8000\n",
      "Epoch 42/150\n",
      "105/105 [==============================] - 0s 91us/step - loss: 0.3676 - acc: 0.8508 - val_loss: 0.4503 - val_acc: 0.8000\n",
      "Epoch 43/150\n",
      "105/105 [==============================] - 0s 89us/step - loss: 0.3601 - acc: 0.8508 - val_loss: 0.4442 - val_acc: 0.7926\n",
      "Epoch 44/150\n",
      "105/105 [==============================] - 0s 87us/step - loss: 0.3531 - acc: 0.8508 - val_loss: 0.4386 - val_acc: 0.7926\n",
      "Epoch 45/150\n",
      "105/105 [==============================] - 0s 90us/step - loss: 0.3469 - acc: 0.8476 - val_loss: 0.4332 - val_acc: 0.7926\n",
      "Epoch 46/150\n",
      "105/105 [==============================] - 0s 91us/step - loss: 0.3407 - acc: 0.8476 - val_loss: 0.4275 - val_acc: 0.7926\n",
      "Epoch 47/150\n",
      "105/105 [==============================] - 0s 84us/step - loss: 0.3349 - acc: 0.8476 - val_loss: 0.4214 - val_acc: 0.7926\n",
      "Epoch 48/150\n",
      "105/105 [==============================] - 0s 95us/step - loss: 0.3296 - acc: 0.8476 - val_loss: 0.4158 - val_acc: 0.7926\n",
      "Epoch 49/150\n",
      "105/105 [==============================] - 0s 90us/step - loss: 0.3244 - acc: 0.8508 - val_loss: 0.4104 - val_acc: 0.7926\n",
      "Epoch 50/150\n",
      "105/105 [==============================] - 0s 90us/step - loss: 0.3194 - acc: 0.8508 - val_loss: 0.4055 - val_acc: 0.7926\n",
      "Epoch 51/150\n",
      "105/105 [==============================] - 0s 92us/step - loss: 0.3149 - acc: 0.8508 - val_loss: 0.4013 - val_acc: 0.7926\n",
      "Epoch 52/150\n",
      "105/105 [==============================] - 0s 98us/step - loss: 0.3107 - acc: 0.8508 - val_loss: 0.3971 - val_acc: 0.7926\n",
      "Epoch 53/150\n",
      "105/105 [==============================] - 0s 86us/step - loss: 0.3067 - acc: 0.8508 - val_loss: 0.3927 - val_acc: 0.7926\n",
      "Epoch 54/150\n",
      "105/105 [==============================] - 0s 84us/step - loss: 0.3029 - acc: 0.8508 - val_loss: 0.3888 - val_acc: 0.7926\n",
      "Epoch 55/150\n",
      "105/105 [==============================] - 0s 97us/step - loss: 0.2993 - acc: 0.8508 - val_loss: 0.3850 - val_acc: 0.7926\n",
      "Epoch 56/150\n",
      "105/105 [==============================] - 0s 87us/step - loss: 0.2959 - acc: 0.8508 - val_loss: 0.3811 - val_acc: 0.7926\n",
      "Epoch 57/150\n",
      "105/105 [==============================] - 0s 88us/step - loss: 0.2926 - acc: 0.8540 - val_loss: 0.3773 - val_acc: 0.7926\n",
      "Epoch 58/150\n",
      "105/105 [==============================] - 0s 98us/step - loss: 0.2895 - acc: 0.8540 - val_loss: 0.3736 - val_acc: 0.7926\n",
      "Epoch 59/150\n",
      "105/105 [==============================] - 0s 90us/step - loss: 0.2866 - acc: 0.8540 - val_loss: 0.3699 - val_acc: 0.7926\n",
      "Epoch 60/150\n",
      "105/105 [==============================] - 0s 97us/step - loss: 0.2838 - acc: 0.8540 - val_loss: 0.3663 - val_acc: 0.7926\n",
      "Epoch 61/150\n",
      "105/105 [==============================] - 0s 92us/step - loss: 0.2808 - acc: 0.8540 - val_loss: 0.3631 - val_acc: 0.7926\n",
      "Epoch 62/150\n",
      "105/105 [==============================] - 0s 100us/step - loss: 0.2781 - acc: 0.8540 - val_loss: 0.3595 - val_acc: 0.8000\n",
      "Epoch 63/150\n",
      "105/105 [==============================] - 0s 94us/step - loss: 0.2756 - acc: 0.8540 - val_loss: 0.3560 - val_acc: 0.8074\n",
      "Epoch 64/150\n",
      "105/105 [==============================] - 0s 93us/step - loss: 0.2729 - acc: 0.8540 - val_loss: 0.3529 - val_acc: 0.8000\n",
      "Epoch 65/150\n",
      "105/105 [==============================] - 0s 89us/step - loss: 0.2706 - acc: 0.8540 - val_loss: 0.3499 - val_acc: 0.8000\n",
      "Epoch 66/150\n",
      "105/105 [==============================] - 0s 92us/step - loss: 0.2681 - acc: 0.8540 - val_loss: 0.3472 - val_acc: 0.8000\n",
      "Epoch 67/150\n",
      "105/105 [==============================] - 0s 93us/step - loss: 0.2658 - acc: 0.8540 - val_loss: 0.3446 - val_acc: 0.8000\n",
      "Epoch 68/150\n",
      "105/105 [==============================] - 0s 96us/step - loss: 0.2636 - acc: 0.8603 - val_loss: 0.3418 - val_acc: 0.8000\n",
      "Epoch 69/150\n",
      "105/105 [==============================] - 0s 95us/step - loss: 0.2614 - acc: 0.8603 - val_loss: 0.3393 - val_acc: 0.8000\n",
      "Epoch 70/150\n",
      "105/105 [==============================] - 0s 96us/step - loss: 0.2593 - acc: 0.8603 - val_loss: 0.3365 - val_acc: 0.8000\n",
      "Epoch 71/150\n",
      "105/105 [==============================] - 0s 89us/step - loss: 0.2571 - acc: 0.8603 - val_loss: 0.3338 - val_acc: 0.8000\n",
      "Epoch 72/150\n",
      "105/105 [==============================] - 0s 92us/step - loss: 0.2549 - acc: 0.8603 - val_loss: 0.3311 - val_acc: 0.8000\n",
      "Epoch 73/150\n",
      "105/105 [==============================] - 0s 89us/step - loss: 0.2529 - acc: 0.8603 - val_loss: 0.3288 - val_acc: 0.8000\n",
      "Epoch 74/150\n",
      "105/105 [==============================] - 0s 92us/step - loss: 0.2510 - acc: 0.8603 - val_loss: 0.3265 - val_acc: 0.8000\n",
      "Epoch 75/150\n",
      "105/105 [==============================] - 0s 92us/step - loss: 0.2490 - acc: 0.8603 - val_loss: 0.3245 - val_acc: 0.8000\n",
      "Epoch 76/150\n",
      "105/105 [==============================] - 0s 89us/step - loss: 0.2472 - acc: 0.8603 - val_loss: 0.3225 - val_acc: 0.8000\n",
      "Epoch 77/150\n",
      "105/105 [==============================] - 0s 90us/step - loss: 0.2453 - acc: 0.8603 - val_loss: 0.3201 - val_acc: 0.8000\n",
      "Epoch 78/150\n",
      "105/105 [==============================] - 0s 89us/step - loss: 0.2435 - acc: 0.8603 - val_loss: 0.3176 - val_acc: 0.8000\n",
      "Epoch 79/150\n",
      "105/105 [==============================] - 0s 84us/step - loss: 0.2417 - acc: 0.8603 - val_loss: 0.3147 - val_acc: 0.8000\n",
      "Epoch 80/150\n",
      "105/105 [==============================] - 0s 86us/step - loss: 0.2399 - acc: 0.8603 - val_loss: 0.3119 - val_acc: 0.8000\n",
      "Epoch 81/150\n",
      "105/105 [==============================] - 0s 79us/step - loss: 0.2381 - acc: 0.8635 - val_loss: 0.3096 - val_acc: 0.8000\n",
      "Epoch 82/150\n",
      "105/105 [==============================] - 0s 85us/step - loss: 0.2364 - acc: 0.8635 - val_loss: 0.3074 - val_acc: 0.8000\n",
      "Epoch 83/150\n",
      "105/105 [==============================] - 0s 95us/step - loss: 0.2347 - acc: 0.8635 - val_loss: 0.3052 - val_acc: 0.8000\n",
      "Epoch 84/150\n",
      "105/105 [==============================] - 0s 85us/step - loss: 0.2331 - acc: 0.8635 - val_loss: 0.3032 - val_acc: 0.8000\n",
      "Epoch 85/150\n",
      "105/105 [==============================] - 0s 92us/step - loss: 0.2315 - acc: 0.8635 - val_loss: 0.3012 - val_acc: 0.8000\n",
      "Epoch 86/150\n",
      "105/105 [==============================] - 0s 94us/step - loss: 0.2298 - acc: 0.8635 - val_loss: 0.2986 - val_acc: 0.8000\n",
      "Epoch 87/150\n",
      "105/105 [==============================] - 0s 97us/step - loss: 0.2282 - acc: 0.8667 - val_loss: 0.2961 - val_acc: 0.8296\n",
      "Epoch 88/150\n",
      "105/105 [==============================] - 0s 89us/step - loss: 0.2265 - acc: 0.8825 - val_loss: 0.2938 - val_acc: 0.8519\n",
      "Epoch 89/150\n",
      "105/105 [==============================] - 0s 96us/step - loss: 0.2249 - acc: 0.8857 - val_loss: 0.2916 - val_acc: 0.8519\n",
      "Epoch 90/150\n",
      "105/105 [==============================] - 0s 97us/step - loss: 0.2234 - acc: 0.8857 - val_loss: 0.2890 - val_acc: 0.8593\n",
      "Epoch 91/150\n",
      "105/105 [==============================] - 0s 93us/step - loss: 0.2217 - acc: 0.8889 - val_loss: 0.2868 - val_acc: 0.8667\n",
      "Epoch 92/150\n",
      "105/105 [==============================] - 0s 88us/step - loss: 0.2200 - acc: 0.8889 - val_loss: 0.2845 - val_acc: 0.8667\n",
      "Epoch 93/150\n",
      "105/105 [==============================] - 0s 93us/step - loss: 0.2185 - acc: 0.8889 - val_loss: 0.2824 - val_acc: 0.8667\n",
      "Epoch 94/150\n",
      "105/105 [==============================] - 0s 93us/step - loss: 0.2169 - acc: 0.8921 - val_loss: 0.2808 - val_acc: 0.8667\n",
      "Epoch 95/150\n",
      "105/105 [==============================] - 0s 91us/step - loss: 0.2154 - acc: 0.8921 - val_loss: 0.2790 - val_acc: 0.8667\n",
      "Epoch 96/150\n",
      "105/105 [==============================] - 0s 83us/step - loss: 0.2140 - acc: 0.8921 - val_loss: 0.2769 - val_acc: 0.8741\n",
      "Epoch 97/150\n",
      "105/105 [==============================] - 0s 85us/step - loss: 0.2124 - acc: 0.8921 - val_loss: 0.2742 - val_acc: 0.8741\n",
      "Epoch 98/150\n",
      "105/105 [==============================] - 0s 87us/step - loss: 0.2110 - acc: 0.8952 - val_loss: 0.2714 - val_acc: 0.8741\n",
      "Epoch 99/150\n",
      "105/105 [==============================] - 0s 80us/step - loss: 0.2093 - acc: 0.8952 - val_loss: 0.2692 - val_acc: 0.8815\n",
      "Epoch 100/150\n",
      "105/105 [==============================] - 0s 88us/step - loss: 0.2079 - acc: 0.8952 - val_loss: 0.2669 - val_acc: 0.8963\n",
      "Epoch 101/150\n",
      "105/105 [==============================] - 0s 86us/step - loss: 0.2064 - acc: 0.8952 - val_loss: 0.2647 - val_acc: 0.9037\n",
      "Epoch 102/150\n",
      "105/105 [==============================] - 0s 89us/step - loss: 0.2050 - acc: 0.9016 - val_loss: 0.2622 - val_acc: 0.9037\n",
      "Epoch 103/150\n",
      "105/105 [==============================] - 0s 91us/step - loss: 0.2036 - acc: 0.9048 - val_loss: 0.2603 - val_acc: 0.9037\n",
      "Epoch 104/150\n",
      "105/105 [==============================] - 0s 93us/step - loss: 0.2022 - acc: 0.9048 - val_loss: 0.2587 - val_acc: 0.9037\n",
      "Epoch 105/150\n",
      "105/105 [==============================] - 0s 114us/step - loss: 0.2008 - acc: 0.9048 - val_loss: 0.2574 - val_acc: 0.8963\n",
      "Epoch 106/150\n",
      "105/105 [==============================] - 0s 95us/step - loss: 0.1996 - acc: 0.9048 - val_loss: 0.2558 - val_acc: 0.8963\n",
      "Epoch 107/150\n",
      "105/105 [==============================] - 0s 95us/step - loss: 0.1983 - acc: 0.9048 - val_loss: 0.2546 - val_acc: 0.8963\n",
      "Epoch 108/150\n",
      "105/105 [==============================] - 0s 94us/step - loss: 0.1971 - acc: 0.9048 - val_loss: 0.2531 - val_acc: 0.8963\n",
      "Epoch 109/150\n",
      "105/105 [==============================] - 0s 99us/step - loss: 0.1957 - acc: 0.9079 - val_loss: 0.2513 - val_acc: 0.8963\n",
      "Epoch 110/150\n",
      "105/105 [==============================] - 0s 90us/step - loss: 0.1944 - acc: 0.9143 - val_loss: 0.2491 - val_acc: 0.9037\n",
      "Epoch 111/150\n",
      "105/105 [==============================] - 0s 91us/step - loss: 0.1931 - acc: 0.9111 - val_loss: 0.2470 - val_acc: 0.9037\n",
      "Epoch 112/150\n",
      "105/105 [==============================] - 0s 91us/step - loss: 0.1919 - acc: 0.9111 - val_loss: 0.2450 - val_acc: 0.9037\n",
      "Epoch 113/150\n",
      "105/105 [==============================] - 0s 89us/step - loss: 0.1906 - acc: 0.9143 - val_loss: 0.2431 - val_acc: 0.9185\n",
      "Epoch 114/150\n",
      "105/105 [==============================] - 0s 94us/step - loss: 0.1892 - acc: 0.9143 - val_loss: 0.2417 - val_acc: 0.9111\n",
      "Epoch 115/150\n",
      "105/105 [==============================] - 0s 91us/step - loss: 0.1882 - acc: 0.9175 - val_loss: 0.2404 - val_acc: 0.9111\n",
      "Epoch 116/150\n",
      "105/105 [==============================] - 0s 82us/step - loss: 0.1868 - acc: 0.9175 - val_loss: 0.2382 - val_acc: 0.9185\n",
      "Epoch 117/150\n",
      "105/105 [==============================] - 0s 85us/step - loss: 0.1853 - acc: 0.9206 - val_loss: 0.2362 - val_acc: 0.9185\n",
      "Epoch 118/150\n",
      "105/105 [==============================] - 0s 89us/step - loss: 0.1839 - acc: 0.9238 - val_loss: 0.2338 - val_acc: 0.9185\n",
      "Epoch 119/150\n",
      "105/105 [==============================] - 0s 83us/step - loss: 0.1827 - acc: 0.9238 - val_loss: 0.2315 - val_acc: 0.9185\n",
      "Epoch 120/150\n",
      "105/105 [==============================] - 0s 94us/step - loss: 0.1814 - acc: 0.9238 - val_loss: 0.2293 - val_acc: 0.9185\n",
      "Epoch 121/150\n",
      "105/105 [==============================] - 0s 87us/step - loss: 0.1801 - acc: 0.9270 - val_loss: 0.2274 - val_acc: 0.9259\n",
      "Epoch 122/150\n",
      "105/105 [==============================] - 0s 86us/step - loss: 0.1788 - acc: 0.9238 - val_loss: 0.2259 - val_acc: 0.9259\n",
      "Epoch 123/150\n",
      "105/105 [==============================] - 0s 89us/step - loss: 0.1774 - acc: 0.9270 - val_loss: 0.2240 - val_acc: 0.9259\n",
      "Epoch 124/150\n",
      "105/105 [==============================] - 0s 89us/step - loss: 0.1760 - acc: 0.9270 - val_loss: 0.2222 - val_acc: 0.9259\n",
      "Epoch 125/150\n",
      "105/105 [==============================] - 0s 87us/step - loss: 0.1747 - acc: 0.9270 - val_loss: 0.2204 - val_acc: 0.9259\n",
      "Epoch 126/150\n",
      "105/105 [==============================] - 0s 85us/step - loss: 0.1732 - acc: 0.9270 - val_loss: 0.2188 - val_acc: 0.9259\n",
      "Epoch 127/150\n",
      "105/105 [==============================] - 0s 91us/step - loss: 0.1718 - acc: 0.9302 - val_loss: 0.2174 - val_acc: 0.9259\n",
      "Epoch 128/150\n",
      "105/105 [==============================] - 0s 91us/step - loss: 0.1704 - acc: 0.9302 - val_loss: 0.2161 - val_acc: 0.9259\n",
      "Epoch 129/150\n",
      "105/105 [==============================] - 0s 90us/step - loss: 0.1690 - acc: 0.9302 - val_loss: 0.2147 - val_acc: 0.9259\n",
      "Epoch 130/150\n",
      "105/105 [==============================] - 0s 93us/step - loss: 0.1677 - acc: 0.9302 - val_loss: 0.2128 - val_acc: 0.9259\n",
      "Epoch 131/150\n",
      "105/105 [==============================] - 0s 86us/step - loss: 0.1663 - acc: 0.9302 - val_loss: 0.2105 - val_acc: 0.9259\n",
      "Epoch 132/150\n",
      "105/105 [==============================] - 0s 90us/step - loss: 0.1649 - acc: 0.9333 - val_loss: 0.2083 - val_acc: 0.9259\n",
      "Epoch 133/150\n",
      "105/105 [==============================] - 0s 91us/step - loss: 0.1635 - acc: 0.9333 - val_loss: 0.2064 - val_acc: 0.9259\n",
      "Epoch 134/150\n",
      "105/105 [==============================] - 0s 98us/step - loss: 0.1622 - acc: 0.9333 - val_loss: 0.2045 - val_acc: 0.9259\n",
      "Epoch 135/150\n",
      "105/105 [==============================] - 0s 94us/step - loss: 0.1609 - acc: 0.9333 - val_loss: 0.2022 - val_acc: 0.9259\n",
      "Epoch 136/150\n",
      "105/105 [==============================] - 0s 94us/step - loss: 0.1596 - acc: 0.9365 - val_loss: 0.2005 - val_acc: 0.9259\n",
      "Epoch 137/150\n",
      "105/105 [==============================] - 0s 92us/step - loss: 0.1584 - acc: 0.9365 - val_loss: 0.1987 - val_acc: 0.9259\n",
      "Epoch 138/150\n",
      "105/105 [==============================] - 0s 91us/step - loss: 0.1570 - acc: 0.9365 - val_loss: 0.1973 - val_acc: 0.9259\n",
      "Epoch 139/150\n",
      "105/105 [==============================] - 0s 93us/step - loss: 0.1557 - acc: 0.9365 - val_loss: 0.1959 - val_acc: 0.9259\n",
      "Epoch 140/150\n",
      "105/105 [==============================] - 0s 93us/step - loss: 0.1544 - acc: 0.9365 - val_loss: 0.1952 - val_acc: 0.9259\n",
      "Epoch 141/150\n",
      "105/105 [==============================] - 0s 86us/step - loss: 0.1531 - acc: 0.9365 - val_loss: 0.1942 - val_acc: 0.9259\n",
      "Epoch 142/150\n",
      "105/105 [==============================] - 0s 89us/step - loss: 0.1518 - acc: 0.9365 - val_loss: 0.1932 - val_acc: 0.9259\n",
      "Epoch 143/150\n",
      "105/105 [==============================] - 0s 95us/step - loss: 0.1508 - acc: 0.9365 - val_loss: 0.1924 - val_acc: 0.9259\n",
      "Epoch 144/150\n",
      "105/105 [==============================] - 0s 89us/step - loss: 0.1498 - acc: 0.9333 - val_loss: 0.1910 - val_acc: 0.9259\n",
      "Epoch 145/150\n",
      "105/105 [==============================] - 0s 91us/step - loss: 0.1484 - acc: 0.9365 - val_loss: 0.1884 - val_acc: 0.9333\n",
      "Epoch 146/150\n",
      "105/105 [==============================] - 0s 91us/step - loss: 0.1469 - acc: 0.9365 - val_loss: 0.1859 - val_acc: 0.9333\n",
      "Epoch 147/150\n",
      "105/105 [==============================] - 0s 87us/step - loss: 0.1458 - acc: 0.9365 - val_loss: 0.1827 - val_acc: 0.9407\n",
      "Epoch 148/150\n",
      "105/105 [==============================] - 0s 87us/step - loss: 0.1442 - acc: 0.9524 - val_loss: 0.1805 - val_acc: 0.9407\n",
      "Epoch 149/150\n",
      "105/105 [==============================] - 0s 87us/step - loss: 0.1430 - acc: 0.9556 - val_loss: 0.1788 - val_acc: 0.9407\n",
      "Epoch 150/150\n",
      "105/105 [==============================] - 0s 91us/step - loss: 0.1419 - acc: 0.9556 - val_loss: 0.1770 - val_acc: 0.9407\n"
     ]
    }
   ],
   "source": [
    "shallow_history = shallow_model.fit(x_train, y_train, epochs = 150, validation_data = (x_test, y_test))"
   ]
  },
  {
   "cell_type": "code",
   "execution_count": 35,
   "metadata": {
    "_uuid": "b3061f0e804a4fb326d25d690f2a9aec31f8c6b2"
   },
   "outputs": [
    {
     "data": {
      "image/png": "[encoded data removed]",
      "text/plain": [
       "<Figure size 432x288 with 1 Axes>"
      ]
     },
     "metadata": {
      "needs_background": "light"
     },
     "output_type": "display_data"
    }
   ],
   "source": [
    "plt.plot(shallow_history.history['acc'])\n",
    "plt.plot(shallow_history.history['val_acc'])\n",
    "plt.title(\"Accuracy\")\n",
    "plt.legend(['train', 'test'])\n",
    "plt.show()"
   ]
  },
  {
   "cell_type": "code",
   "execution_count": 36,
   "metadata": {
    "_uuid": "605132bcfb1d9aa3b59bc58c0822e3c97ae72a8a"
   },
   "outputs": [
    {
     "data": {
      "image/png": "[encoded data removed]",
      "text/plain": [
       "<Figure size 432x288 with 1 Axes>"
      ]
     },
     "metadata": {
      "needs_background": "light"
     },
     "output_type": "display_data"
    }
   ],
   "source": [
    "plt.plot(shallow_history.history['loss'])\n",
    "plt.plot(shallow_history.history['val_loss'])\n",
    "plt.plot('Loss')\n",
    "plt.legend(['Train','Test'])\n",
    "plt.show()"
   ]
  },
  {
   "cell_type": "markdown",
   "metadata": {
    "_uuid": "5b2d0d6aa208d3a6f77e2d2ab58139dbfa58f491"
   },
   "source": [
    "So our shallow model is  good accurate."
   ]
  },
  {
   "cell_type": "markdown",
   "metadata": {
    "_uuid": "64eecf88ba78f8616345496654ab70a04019f698"
   },
   "source": [
    "# <a id='deep'>Deep Deep learning</a>"
   ]
  },
  {
   "cell_type": "code",
   "execution_count": 37,
   "metadata": {
    "_uuid": "77cded2a0a730f5a6c3717a10449c890e4195f73"
   },
   "outputs": [],
   "source": [
    "deep_model = Sequential()\n",
    "deep_model.add(Dense( 4, input_dim=4, activation = 'relu'))\n",
    "deep_model.add(Dense( units = 10, activation= 'relu'))\n",
    "deep_model.add(Dense( units = 10, activation= 'relu'))\n",
    "deep_model.add(Dense( units = 10, activation= 'relu'))\n",
    "deep_model.add(Dense( units = 10, activation= 'relu'))\n",
    "deep_model.add(Dense( units = 10, activation= 'relu'))\n",
    "deep_model.add(Dense( units = 10, activation= 'relu'))\n",
    "deep_model.add(Dense( units = 10, activation= 'relu'))\n",
    "deep_model.add(Dense( units = 10, activation= 'relu'))\n",
    "deep_model.add(Dense( units = 3, activation= 'softmax'))\n",
    "deep_model.compile(loss = 'categorical_crossentropy', optimizer = 'adam', metrics = ['accuracy'])"
   ]
  },
  {
   "cell_type": "code",
   "execution_count": 38,
   "metadata": {
    "_uuid": "4be5a0688349325ac9f08365c28265571770dfe0"
   },
   "outputs": [
    {
     "name": "stdout",
     "output_type": "stream",
     "text": [
      "Train on 105 samples, validate on 45 samples\n",
      "Epoch 1/150\n",
      "105/105 [==============================] - 1s 7ms/step - loss: 1.0483 - acc: 0.3524 - val_loss: 1.0473 - val_acc: 0.2889\n",
      "Epoch 2/150\n",
      "105/105 [==============================] - 0s 133us/step - loss: 1.0256 - acc: 0.3524 - val_loss: 1.0294 - val_acc: 0.2889\n",
      "Epoch 3/150\n",
      "105/105 [==============================] - 0s 145us/step - loss: 1.0015 - acc: 0.3524 - val_loss: 1.0102 - val_acc: 0.2889\n",
      "Epoch 4/150\n",
      "105/105 [==============================] - 0s 121us/step - loss: 0.9743 - acc: 0.3905 - val_loss: 0.9882 - val_acc: 0.5333\n",
      "Epoch 5/150\n",
      "105/105 [==============================] - 0s 126us/step - loss: 0.9453 - acc: 0.6571 - val_loss: 0.9629 - val_acc: 0.5556\n",
      "Epoch 6/150\n",
      "105/105 [==============================] - 0s 125us/step - loss: 0.9126 - acc: 0.6571 - val_loss: 0.9354 - val_acc: 0.5556\n",
      "Epoch 7/150\n",
      "105/105 [==============================] - 0s 124us/step - loss: 0.8781 - acc: 0.6762 - val_loss: 0.9074 - val_acc: 0.5556\n",
      "Epoch 8/150\n",
      "105/105 [==============================] - 0s 119us/step - loss: 0.8460 - acc: 0.6762 - val_loss: 0.8813 - val_acc: 0.5556\n",
      "Epoch 9/150\n",
      "105/105 [==============================] - 0s 129us/step - loss: 0.8159 - acc: 0.6952 - val_loss: 0.8600 - val_acc: 0.5556\n",
      "Epoch 10/150\n",
      "105/105 [==============================] - 0s 124us/step - loss: 0.7907 - acc: 0.7048 - val_loss: 0.8428 - val_acc: 0.5556\n",
      "Epoch 11/150\n",
      "105/105 [==============================] - 0s 130us/step - loss: 0.7753 - acc: 0.7048 - val_loss: 0.8287 - val_acc: 0.5556\n",
      "Epoch 12/150\n",
      "105/105 [==============================] - 0s 125us/step - loss: 0.7617 - acc: 0.7048 - val_loss: 0.8165 - val_acc: 0.5556\n",
      "Epoch 13/150\n",
      "105/105 [==============================] - 0s 113us/step - loss: 0.7501 - acc: 0.7048 - val_loss: 0.8067 - val_acc: 0.5556\n",
      "Epoch 14/150\n",
      "105/105 [==============================] - 0s 124us/step - loss: 0.7389 - acc: 0.7048 - val_loss: 0.7992 - val_acc: 0.5556\n",
      "Epoch 15/150\n",
      "105/105 [==============================] - 0s 121us/step - loss: 0.7306 - acc: 0.7143 - val_loss: 0.7926 - val_acc: 0.5556\n",
      "Epoch 16/150\n",
      "105/105 [==============================] - 0s 130us/step - loss: 0.7228 - acc: 0.7143 - val_loss: 0.7870 - val_acc: 0.5556\n",
      "Epoch 17/150\n",
      "105/105 [==============================] - 0s 118us/step - loss: 0.7164 - acc: 0.7143 - val_loss: 0.7821 - val_acc: 0.5556\n",
      "Epoch 18/150\n",
      "105/105 [==============================] - 0s 115us/step - loss: 0.7105 - acc: 0.7143 - val_loss: 0.7779 - val_acc: 0.5556\n",
      "Epoch 19/150\n",
      "105/105 [==============================] - 0s 122us/step - loss: 0.7056 - acc: 0.7143 - val_loss: 0.7741 - val_acc: 0.5556\n",
      "Epoch 20/150\n",
      "105/105 [==============================] - 0s 125us/step - loss: 0.7013 - acc: 0.7143 - val_loss: 0.7706 - val_acc: 0.5556\n",
      "Epoch 21/150\n",
      "105/105 [==============================] - 0s 132us/step - loss: 0.6975 - acc: 0.7143 - val_loss: 0.7672 - val_acc: 0.5556\n",
      "Epoch 22/150\n",
      "105/105 [==============================] - 0s 125us/step - loss: 0.6940 - acc: 0.7143 - val_loss: 0.7640 - val_acc: 0.5556\n",
      "Epoch 23/150\n",
      "105/105 [==============================] - 0s 131us/step - loss: 0.6906 - acc: 0.7143 - val_loss: 0.7608 - val_acc: 0.5556\n",
      "Epoch 24/150\n",
      "105/105 [==============================] - 0s 121us/step - loss: 0.6870 - acc: 0.7143 - val_loss: 0.7580 - val_acc: 0.5556\n",
      "Epoch 25/150\n",
      "105/105 [==============================] - 0s 115us/step - loss: 0.6844 - acc: 0.7143 - val_loss: 0.7555 - val_acc: 0.5556\n",
      "Epoch 26/150\n",
      "105/105 [==============================] - 0s 124us/step - loss: 0.6820 - acc: 0.7143 - val_loss: 0.7531 - val_acc: 0.5556\n",
      "Epoch 27/150\n",
      "105/105 [==============================] - 0s 123us/step - loss: 0.6795 - acc: 0.7143 - val_loss: 0.7511 - val_acc: 0.5556\n",
      "Epoch 28/150\n",
      "105/105 [==============================] - 0s 121us/step - loss: 0.6773 - acc: 0.7143 - val_loss: 0.7491 - val_acc: 0.5556\n",
      "Epoch 29/150\n",
      "105/105 [==============================] - 0s 120us/step - loss: 0.6753 - acc: 0.7143 - val_loss: 0.7473 - val_acc: 0.5556\n",
      "Epoch 30/150\n",
      "105/105 [==============================] - 0s 123us/step - loss: 0.6734 - acc: 0.7143 - val_loss: 0.7456 - val_acc: 0.5556\n",
      "Epoch 31/150\n",
      "105/105 [==============================] - 0s 130us/step - loss: 0.6716 - acc: 0.7143 - val_loss: 0.7437 - val_acc: 0.5556\n",
      "Epoch 32/150\n",
      "105/105 [==============================] - 0s 126us/step - loss: 0.6699 - acc: 0.7143 - val_loss: 0.7417 - val_acc: 0.5556\n",
      "Epoch 33/150\n",
      "105/105 [==============================] - 0s 126us/step - loss: 0.6684 - acc: 0.7143 - val_loss: 0.7398 - val_acc: 0.5556\n",
      "Epoch 34/150\n",
      "105/105 [==============================] - 0s 126us/step - loss: 0.6668 - acc: 0.7143 - val_loss: 0.7381 - val_acc: 0.5556\n",
      "Epoch 35/150\n",
      "105/105 [==============================] - 0s 127us/step - loss: 0.6653 - acc: 0.7143 - val_loss: 0.7367 - val_acc: 0.5556\n",
      "Epoch 36/150\n",
      "105/105 [==============================] - 0s 123us/step - loss: 0.6638 - acc: 0.7143 - val_loss: 0.7349 - val_acc: 0.5556\n",
      "Epoch 37/150\n",
      "105/105 [==============================] - 0s 120us/step - loss: 0.6623 - acc: 0.7143 - val_loss: 0.7326 - val_acc: 0.5556\n",
      "Epoch 38/150\n",
      "105/105 [==============================] - 0s 116us/step - loss: 0.6608 - acc: 0.7143 - val_loss: 0.7306 - val_acc: 0.5556\n",
      "Epoch 39/150\n",
      "105/105 [==============================] - 0s 119us/step - loss: 0.6593 - acc: 0.7143 - val_loss: 0.7285 - val_acc: 0.5556\n",
      "Epoch 40/150\n",
      "105/105 [==============================] - 0s 132us/step - loss: 0.6580 - acc: 0.7143 - val_loss: 0.7268 - val_acc: 0.5556\n",
      "Epoch 41/150\n",
      "105/105 [==============================] - 0s 128us/step - loss: 0.6565 - acc: 0.7143 - val_loss: 0.7247 - val_acc: 0.5556\n",
      "Epoch 42/150\n",
      "105/105 [==============================] - 0s 136us/step - loss: 0.6551 - acc: 0.7143 - val_loss: 0.7225 - val_acc: 0.5556\n",
      "Epoch 43/150\n",
      "105/105 [==============================] - 0s 121us/step - loss: 0.6535 - acc: 0.7143 - val_loss: 0.7208 - val_acc: 0.5556\n",
      "Epoch 44/150\n",
      "105/105 [==============================] - 0s 122us/step - loss: 0.6521 - acc: 0.7238 - val_loss: 0.7191 - val_acc: 0.5556\n",
      "Epoch 45/150\n",
      "105/105 [==============================] - 0s 117us/step - loss: 0.6506 - acc: 0.7238 - val_loss: 0.7173 - val_acc: 0.5556\n",
      "Epoch 46/150\n",
      "105/105 [==============================] - 0s 140us/step - loss: 0.6491 - acc: 0.7333 - val_loss: 0.7154 - val_acc: 0.5556\n",
      "Epoch 47/150\n",
      "105/105 [==============================] - 0s 139us/step - loss: 0.6477 - acc: 0.7333 - val_loss: 0.7134 - val_acc: 0.5556\n",
      "Epoch 48/150\n",
      "105/105 [==============================] - 0s 124us/step - loss: 0.6461 - acc: 0.7333 - val_loss: 0.7113 - val_acc: 0.5556\n",
      "Epoch 49/150\n",
      "105/105 [==============================] - 0s 125us/step - loss: 0.6446 - acc: 0.7333 - val_loss: 0.7089 - val_acc: 0.5778\n",
      "Epoch 50/150\n",
      "105/105 [==============================] - 0s 124us/step - loss: 0.6429 - acc: 0.7333 - val_loss: 0.7066 - val_acc: 0.5778\n",
      "Epoch 51/150\n",
      "105/105 [==============================] - 0s 136us/step - loss: 0.6413 - acc: 0.7333 - val_loss: 0.7043 - val_acc: 0.5778\n",
      "Epoch 52/150\n",
      "105/105 [==============================] - 0s 120us/step - loss: 0.6396 - acc: 0.7333 - val_loss: 0.7021 - val_acc: 0.5778\n",
      "Epoch 53/150\n",
      "105/105 [==============================] - 0s 120us/step - loss: 0.6380 - acc: 0.7333 - val_loss: 0.7000 - val_acc: 0.5778\n",
      "Epoch 54/150\n",
      "105/105 [==============================] - 0s 123us/step - loss: 0.6363 - acc: 0.7333 - val_loss: 0.6983 - val_acc: 0.5778\n",
      "Epoch 55/150\n",
      "105/105 [==============================] - 0s 120us/step - loss: 0.6347 - acc: 0.7333 - val_loss: 0.6958 - val_acc: 0.5778\n",
      "Epoch 56/150\n",
      "105/105 [==============================] - 0s 130us/step - loss: 0.6329 - acc: 0.7429 - val_loss: 0.6938 - val_acc: 0.7778\n",
      "Epoch 57/150\n",
      "105/105 [==============================] - 0s 122us/step - loss: 0.6313 - acc: 0.8095 - val_loss: 0.6916 - val_acc: 0.7333\n",
      "Epoch 58/150\n",
      "105/105 [==============================] - 0s 124us/step - loss: 0.6295 - acc: 0.6381 - val_loss: 0.6891 - val_acc: 0.7333\n",
      "Epoch 59/150\n",
      "105/105 [==============================] - 0s 121us/step - loss: 0.6276 - acc: 0.6381 - val_loss: 0.6867 - val_acc: 0.7333\n",
      "Epoch 60/150\n",
      "105/105 [==============================] - 0s 125us/step - loss: 0.6259 - acc: 0.6381 - val_loss: 0.6844 - val_acc: 0.7333\n",
      "Epoch 61/150\n",
      "105/105 [==============================] - 0s 129us/step - loss: 0.6241 - acc: 0.6381 - val_loss: 0.6816 - val_acc: 0.7333\n",
      "Epoch 62/150\n",
      "105/105 [==============================] - 0s 126us/step - loss: 0.6221 - acc: 0.6381 - val_loss: 0.6785 - val_acc: 0.7333\n",
      "Epoch 63/150\n",
      "105/105 [==============================] - 0s 120us/step - loss: 0.6200 - acc: 0.6381 - val_loss: 0.6752 - val_acc: 0.7333\n",
      "Epoch 64/150\n",
      "105/105 [==============================] - 0s 126us/step - loss: 0.6179 - acc: 0.6381 - val_loss: 0.6724 - val_acc: 0.7333\n",
      "Epoch 65/150\n",
      "105/105 [==============================] - 0s 154us/step - loss: 0.6157 - acc: 0.6381 - val_loss: 0.6696 - val_acc: 0.7333\n",
      "Epoch 66/150\n",
      "105/105 [==============================] - 0s 135us/step - loss: 0.6136 - acc: 0.6381 - val_loss: 0.6662 - val_acc: 0.7333\n",
      "Epoch 67/150\n",
      "105/105 [==============================] - 0s 131us/step - loss: 0.6110 - acc: 0.6381 - val_loss: 0.6622 - val_acc: 0.7333\n",
      "Epoch 68/150\n",
      "105/105 [==============================] - 0s 128us/step - loss: 0.6092 - acc: 0.6381 - val_loss: 0.6575 - val_acc: 0.7333\n",
      "Epoch 69/150\n",
      "105/105 [==============================] - 0s 116us/step - loss: 0.6064 - acc: 0.6381 - val_loss: 0.6533 - val_acc: 0.7333\n",
      "Epoch 70/150\n",
      "105/105 [==============================] - 0s 123us/step - loss: 0.6038 - acc: 0.6381 - val_loss: 0.6492 - val_acc: 0.7333\n",
      "Epoch 71/150\n",
      "105/105 [==============================] - 0s 133us/step - loss: 0.6009 - acc: 0.6381 - val_loss: 0.6452 - val_acc: 0.7333\n",
      "Epoch 72/150\n",
      "105/105 [==============================] - 0s 124us/step - loss: 0.5982 - acc: 0.6381 - val_loss: 0.6406 - val_acc: 0.7333\n",
      "Epoch 73/150\n",
      "105/105 [==============================] - 0s 126us/step - loss: 0.5950 - acc: 0.6381 - val_loss: 0.6356 - val_acc: 0.7333\n",
      "Epoch 74/150\n",
      "105/105 [==============================] - 0s 130us/step - loss: 0.5925 - acc: 0.6381 - val_loss: 0.6299 - val_acc: 0.7333\n",
      "Epoch 75/150\n",
      "105/105 [==============================] - 0s 123us/step - loss: 0.5892 - acc: 0.6381 - val_loss: 0.6250 - val_acc: 0.7333\n",
      "Epoch 76/150\n",
      "105/105 [==============================] - 0s 122us/step - loss: 0.5861 - acc: 0.6381 - val_loss: 0.6206 - val_acc: 0.7333\n",
      "Epoch 77/150\n",
      "105/105 [==============================] - 0s 126us/step - loss: 0.5829 - acc: 0.6381 - val_loss: 0.6152 - val_acc: 0.7333\n",
      "Epoch 78/150\n",
      "105/105 [==============================] - 0s 127us/step - loss: 0.5796 - acc: 0.6381 - val_loss: 0.6095 - val_acc: 0.7333\n",
      "Epoch 79/150\n",
      "105/105 [==============================] - 0s 120us/step - loss: 0.5762 - acc: 0.6381 - val_loss: 0.6037 - val_acc: 0.7333\n",
      "Epoch 80/150\n",
      "105/105 [==============================] - 0s 115us/step - loss: 0.5726 - acc: 0.6381 - val_loss: 0.5983 - val_acc: 0.7333\n",
      "Epoch 81/150\n",
      "105/105 [==============================] - 0s 124us/step - loss: 0.5689 - acc: 0.6381 - val_loss: 0.5938 - val_acc: 0.7333\n",
      "Epoch 82/150\n",
      "105/105 [==============================] - 0s 127us/step - loss: 0.5650 - acc: 0.6381 - val_loss: 0.5875 - val_acc: 0.7333\n",
      "Epoch 83/150\n",
      "105/105 [==============================] - 0s 124us/step - loss: 0.5607 - acc: 0.6381 - val_loss: 0.5796 - val_acc: 0.7333\n",
      "Epoch 84/150\n",
      "105/105 [==============================] - 0s 117us/step - loss: 0.5565 - acc: 0.6381 - val_loss: 0.5706 - val_acc: 0.7333\n",
      "Epoch 85/150\n",
      "105/105 [==============================] - 0s 130us/step - loss: 0.5515 - acc: 0.6381 - val_loss: 0.5627 - val_acc: 0.7333\n",
      "Epoch 86/150\n",
      "105/105 [==============================] - 0s 133us/step - loss: 0.5464 - acc: 0.6381 - val_loss: 0.5556 - val_acc: 0.7333\n",
      "Epoch 87/150\n",
      "105/105 [==============================] - 0s 112us/step - loss: 0.5410 - acc: 0.6381 - val_loss: 0.5473 - val_acc: 0.7333\n",
      "Epoch 88/150\n",
      "105/105 [==============================] - 0s 112us/step - loss: 0.5353 - acc: 0.6381 - val_loss: 0.5388 - val_acc: 0.7333\n",
      "Epoch 89/150\n",
      "105/105 [==============================] - 0s 117us/step - loss: 0.5306 - acc: 0.6381 - val_loss: 0.5280 - val_acc: 0.7333\n",
      "Epoch 90/150\n",
      "105/105 [==============================] - 0s 126us/step - loss: 0.5240 - acc: 0.6381 - val_loss: 0.5209 - val_acc: 0.7333\n",
      "Epoch 91/150\n",
      "105/105 [==============================] - 0s 127us/step - loss: 0.5178 - acc: 0.6381 - val_loss: 0.5139 - val_acc: 0.7333\n",
      "Epoch 92/150\n",
      "105/105 [==============================] - 0s 129us/step - loss: 0.5122 - acc: 0.6381 - val_loss: 0.5043 - val_acc: 0.7333\n",
      "Epoch 93/150\n",
      "105/105 [==============================] - 0s 120us/step - loss: 0.5056 - acc: 0.6381 - val_loss: 0.4974 - val_acc: 0.7333\n",
      "Epoch 94/150\n",
      "105/105 [==============================] - 0s 116us/step - loss: 0.4998 - acc: 0.6381 - val_loss: 0.4895 - val_acc: 0.7333\n",
      "Epoch 95/150\n",
      "105/105 [==============================] - 0s 132us/step - loss: 0.4929 - acc: 0.6381 - val_loss: 0.4801 - val_acc: 0.7333\n",
      "Epoch 96/150\n",
      "105/105 [==============================] - 0s 137us/step - loss: 0.4874 - acc: 0.6381 - val_loss: 0.4703 - val_acc: 0.7333\n",
      "Epoch 97/150\n",
      "105/105 [==============================] - 0s 127us/step - loss: 0.4817 - acc: 0.6381 - val_loss: 0.4651 - val_acc: 0.7333\n",
      "Epoch 98/150\n",
      "105/105 [==============================] - 0s 127us/step - loss: 0.4762 - acc: 0.6381 - val_loss: 0.4586 - val_acc: 0.7333\n",
      "Epoch 99/150\n",
      "105/105 [==============================] - 0s 138us/step - loss: 0.4682 - acc: 0.6381 - val_loss: 0.4480 - val_acc: 0.7333\n",
      "Epoch 100/150\n",
      "105/105 [==============================] - 0s 134us/step - loss: 0.4602 - acc: 0.6381 - val_loss: 0.4347 - val_acc: 0.7333\n",
      "Epoch 101/150\n",
      "105/105 [==============================] - 0s 123us/step - loss: 0.4560 - acc: 0.6381 - val_loss: 0.4267 - val_acc: 0.7333\n",
      "Epoch 102/150\n",
      "105/105 [==============================] - 0s 136us/step - loss: 0.4491 - acc: 0.6381 - val_loss: 0.4230 - val_acc: 0.7333\n",
      "Epoch 103/150\n",
      "105/105 [==============================] - 0s 130us/step - loss: 0.4407 - acc: 0.6381 - val_loss: 0.4213 - val_acc: 0.7333\n",
      "Epoch 104/150\n",
      "105/105 [==============================] - 0s 125us/step - loss: 0.4339 - acc: 0.6381 - val_loss: 0.4163 - val_acc: 0.7333\n",
      "Epoch 105/150\n",
      "105/105 [==============================] - 0s 122us/step - loss: 0.4273 - acc: 0.6381 - val_loss: 0.4107 - val_acc: 0.7333\n",
      "Epoch 106/150\n",
      "105/105 [==============================] - 0s 121us/step - loss: 0.4201 - acc: 0.7429 - val_loss: 0.4104 - val_acc: 0.8444\n",
      "Epoch 107/150\n",
      "105/105 [==============================] - 0s 124us/step - loss: 0.4129 - acc: 0.8762 - val_loss: 0.4122 - val_acc: 0.8444\n",
      "Epoch 108/150\n",
      "105/105 [==============================] - 0s 133us/step - loss: 0.4104 - acc: 0.8667 - val_loss: 0.4169 - val_acc: 0.8222\n",
      "Epoch 109/150\n",
      "105/105 [==============================] - 0s 127us/step - loss: 0.4037 - acc: 0.8762 - val_loss: 0.4151 - val_acc: 0.8222\n",
      "Epoch 110/150\n",
      "105/105 [==============================] - 0s 125us/step - loss: 0.3954 - acc: 0.8667 - val_loss: 0.4040 - val_acc: 0.8222\n",
      "Epoch 111/150\n",
      "105/105 [==============================] - 0s 122us/step - loss: 0.3909 - acc: 0.8762 - val_loss: 0.3970 - val_acc: 0.8222\n",
      "Epoch 112/150\n",
      "105/105 [==============================] - 0s 116us/step - loss: 0.3837 - acc: 0.8762 - val_loss: 0.3982 - val_acc: 0.8222\n",
      "Epoch 113/150\n",
      "105/105 [==============================] - 0s 119us/step - loss: 0.3777 - acc: 0.8667 - val_loss: 0.3885 - val_acc: 0.8222\n",
      "Epoch 114/150\n",
      "105/105 [==============================] - 0s 116us/step - loss: 0.3718 - acc: 0.8762 - val_loss: 0.3812 - val_acc: 0.8222\n",
      "Epoch 115/150\n",
      "105/105 [==============================] - 0s 120us/step - loss: 0.3685 - acc: 0.8667 - val_loss: 0.3758 - val_acc: 0.8222\n",
      "Epoch 116/150\n",
      "105/105 [==============================] - 0s 120us/step - loss: 0.3636 - acc: 0.8667 - val_loss: 0.3677 - val_acc: 0.8222\n",
      "Epoch 117/150\n",
      "105/105 [==============================] - 0s 127us/step - loss: 0.3583 - acc: 0.8762 - val_loss: 0.3618 - val_acc: 0.8222\n",
      "Epoch 118/150\n",
      "105/105 [==============================] - 0s 124us/step - loss: 0.3559 - acc: 0.8571 - val_loss: 0.3592 - val_acc: 0.8222\n",
      "Epoch 119/150\n",
      "105/105 [==============================] - 0s 124us/step - loss: 0.3503 - acc: 0.8762 - val_loss: 0.3419 - val_acc: 0.8444\n",
      "Epoch 120/150\n",
      "105/105 [==============================] - 0s 130us/step - loss: 0.3493 - acc: 0.8667 - val_loss: 0.3439 - val_acc: 0.8444\n",
      "Epoch 121/150\n",
      "105/105 [==============================] - 0s 132us/step - loss: 0.3434 - acc: 0.8762 - val_loss: 0.3908 - val_acc: 0.8000\n",
      "Epoch 122/150\n",
      "105/105 [==============================] - 0s 125us/step - loss: 0.3446 - acc: 0.8381 - val_loss: 0.3848 - val_acc: 0.8000\n",
      "Epoch 123/150\n",
      "105/105 [==============================] - 0s 119us/step - loss: 0.3365 - acc: 0.8476 - val_loss: 0.3615 - val_acc: 0.8222\n",
      "Epoch 124/150\n",
      "105/105 [==============================] - 0s 120us/step - loss: 0.3285 - acc: 0.8762 - val_loss: 0.3463 - val_acc: 0.8444\n",
      "Epoch 125/150\n",
      "105/105 [==============================] - 0s 119us/step - loss: 0.3267 - acc: 0.8762 - val_loss: 0.3394 - val_acc: 0.8444\n",
      "Epoch 126/150\n",
      "105/105 [==============================] - 0s 132us/step - loss: 0.3233 - acc: 0.8667 - val_loss: 0.3542 - val_acc: 0.8444\n",
      "Epoch 127/150\n",
      "105/105 [==============================] - 0s 110us/step - loss: 0.3205 - acc: 0.8762 - val_loss: 0.3615 - val_acc: 0.8444\n",
      "Epoch 128/150\n",
      "105/105 [==============================] - 0s 117us/step - loss: 0.3138 - acc: 0.8762 - val_loss: 0.3291 - val_acc: 0.8667\n",
      "Epoch 129/150\n",
      "105/105 [==============================] - 0s 112us/step - loss: 0.3166 - acc: 0.8952 - val_loss: 0.3212 - val_acc: 0.8667\n",
      "Epoch 130/150\n",
      "105/105 [==============================] - 0s 115us/step - loss: 0.3116 - acc: 0.8952 - val_loss: 0.3319 - val_acc: 0.8667\n",
      "Epoch 131/150\n",
      "105/105 [==============================] - 0s 129us/step - loss: 0.3009 - acc: 0.8762 - val_loss: 0.3403 - val_acc: 0.8444\n",
      "Epoch 132/150\n",
      "105/105 [==============================] - 0s 120us/step - loss: 0.2993 - acc: 0.8667 - val_loss: 0.3486 - val_acc: 0.8222\n",
      "Epoch 133/150\n",
      "105/105 [==============================] - 0s 130us/step - loss: 0.2978 - acc: 0.8667 - val_loss: 0.3339 - val_acc: 0.8667\n",
      "Epoch 134/150\n",
      "105/105 [==============================] - 0s 127us/step - loss: 0.2890 - acc: 0.8857 - val_loss: 0.3220 - val_acc: 0.8667\n",
      "Epoch 135/150\n",
      "105/105 [==============================] - 0s 122us/step - loss: 0.2888 - acc: 0.8952 - val_loss: 0.3175 - val_acc: 0.8667\n",
      "Epoch 136/150\n",
      "105/105 [==============================] - 0s 141us/step - loss: 0.2898 - acc: 0.8952 - val_loss: 0.3177 - val_acc: 0.8667\n",
      "Epoch 137/150\n",
      "105/105 [==============================] - 0s 160us/step - loss: 0.2805 - acc: 0.8857 - val_loss: 0.3645 - val_acc: 0.8222\n",
      "Epoch 138/150\n",
      "105/105 [==============================] - 0s 128us/step - loss: 0.2854 - acc: 0.8762 - val_loss: 0.3723 - val_acc: 0.8000\n",
      "Epoch 139/150\n",
      "105/105 [==============================] - 0s 126us/step - loss: 0.2772 - acc: 0.8762 - val_loss: 0.3254 - val_acc: 0.8667\n",
      "Epoch 140/150\n",
      "105/105 [==============================] - 0s 121us/step - loss: 0.2629 - acc: 0.9048 - val_loss: 0.3154 - val_acc: 0.8667\n",
      "Epoch 141/150\n",
      "105/105 [==============================] - 0s 134us/step - loss: 0.2598 - acc: 0.9048 - val_loss: 0.3141 - val_acc: 0.8667\n",
      "Epoch 142/150\n",
      "105/105 [==============================] - 0s 124us/step - loss: 0.2516 - acc: 0.8952 - val_loss: 0.3348 - val_acc: 0.8444\n",
      "Epoch 143/150\n",
      "105/105 [==============================] - 0s 117us/step - loss: 0.2585 - acc: 0.8857 - val_loss: 0.3463 - val_acc: 0.8444\n",
      "Epoch 144/150\n",
      "105/105 [==============================] - 0s 126us/step - loss: 0.2503 - acc: 0.9048 - val_loss: 0.3135 - val_acc: 0.8444\n",
      "Epoch 145/150\n",
      "105/105 [==============================] - 0s 137us/step - loss: 0.2367 - acc: 0.9238 - val_loss: 0.2999 - val_acc: 0.8889\n",
      "Epoch 146/150\n",
      "105/105 [==============================] - 0s 134us/step - loss: 0.2357 - acc: 0.9143 - val_loss: 0.2990 - val_acc: 0.8667\n",
      "Epoch 147/150\n",
      "105/105 [==============================] - 0s 124us/step - loss: 0.2295 - acc: 0.9238 - val_loss: 0.2977 - val_acc: 0.8667\n",
      "Epoch 148/150\n",
      "105/105 [==============================] - 0s 117us/step - loss: 0.2241 - acc: 0.9238 - val_loss: 0.2957 - val_acc: 0.8667\n",
      "Epoch 149/150\n",
      "105/105 [==============================] - 0s 118us/step - loss: 0.2212 - acc: 0.9238 - val_loss: 0.2884 - val_acc: 0.8889\n",
      "Epoch 150/150\n",
      "105/105 [==============================] - 0s 127us/step - loss: 0.2108 - acc: 0.9238 - val_loss: 0.2929 - val_acc: 0.8667\n"
     ]
    }
   ],
   "source": [
    "deep_history = deep_model.fit(x_train, y_train, epochs = 150, validation_data = (x_test, y_test))"
   ]
  },
  {
   "cell_type": "code",
   "execution_count": 39,
   "metadata": {
    "_uuid": "700989a441f89101245ae099ebe528fe3f633431"
   },
   "outputs": [
    {
     "data": {
      "image/png": "[encoded data removed]",
      "text/plain": [
       "<Figure size 432x288 with 1 Axes>"
      ]
     },
     "metadata": {
      "needs_background": "light"
     },
     "output_type": "display_data"
    }
   ],
   "source": [
    "plt.plot(deep_history.history['acc'])\n",
    "plt.plot(deep_history.history['val_acc'])\n",
    "plt.title(\"Accuracy\")\n",
    "plt.legend(['train', 'test'])\n",
    "plt.show()"
   ]
  },
  {
   "cell_type": "code",
   "execution_count": 40,
   "metadata": {
    "_uuid": "e11dd866567ce68bd5b4050d06793d33ae78a622"
   },
   "outputs": [
    {
     "data": {
      "image/png": "[encoded data removed]",
      "text/plain": [
       "<Figure size 432x288 with 1 Axes>"
      ]
     },
     "metadata": {
      "needs_background": "light"
     },
     "output_type": "display_data"
    }
   ],
   "source": [
    "plt.plot(deep_history.history['loss'])\n",
    "plt.plot(deep_history.history['val_loss'])\n",
    "plt.plot('Loss')\n",
    "plt.legend(['Train','Test'])\n",
    "plt.show()"
   ]
  },
  {
   "cell_type": "markdown",
   "metadata": {
    "_uuid": "c7bc4c3d21891be9ebed38cdd359b1963cf6d5aa"
   },
   "source": [
    "So our deep model is more accurate than the shallow model."
   ]
  },
  {
   "cell_type": "markdown",
   "metadata": {
    "_uuid": "25901502724492603e74ca6d306528df43fcdbf9",
    "collapsed": true
   },
   "source": [
    "# Stay tune as the algorithms are learning. Hold tight \n",
    "\n",
    "# Upvote if you like "
   ]
  },
  {
   "cell_type": "code",
   "execution_count": null,
   "metadata": {
    "_uuid": "c31866c872647caccbc1557a0e1ef39688c38cf6"
   },
   "outputs": [],
   "source": []
  }
 ],
 "metadata": {
  "kernelspec": {
   "display_name": "Python 3",
   "language": "python",
   "name": "python3"
  },
  "language_info": {
   "codemirror_mode": {
    "name": "ipython",
    "version": 3
   },
   "file_extension": ".py",
   "mimetype": "text/x-python",
   "name": "python",
   "nbconvert_exporter": "python",
   "pygments_lexer": "ipython3",
   "version": "3.6.6"
  }
 },
 "nbformat": 4,
 "nbformat_minor": 1
}
